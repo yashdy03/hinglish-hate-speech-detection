{
  "cells": [
    {
      "cell_type": "markdown",
      "metadata": {
        "id": "view-in-github",
        "colab_type": "text"
      },
      "source": [
        "<a href=\"https://colab.research.google.com/github/yashdy03/hinglish-hate-speech-detection/blob/main/Copy_of_Copy_of_Copy_of_Minor_II.ipynb\" target=\"_parent\"><img src=\"https://colab.research.google.com/assets/colab-badge.svg\" alt=\"Open In Colab\"/></a>"
      ]
    },
    {
      "cell_type": "markdown",
      "metadata": {
        "id": "PQhJUEdfrW3z"
      },
      "source": [
        "# **IMPORTING DRIVE**"
      ]
    },
    {
      "cell_type": "code",
      "execution_count": null,
      "metadata": {
        "colab": {
          "base_uri": "https://localhost:8080/"
        },
        "id": "KhDm9QybUEdT",
        "outputId": "6941f3eb-d9e2-434d-ccbd-54aa9a82c6ef"
      },
      "outputs": [
        {
          "name": "stdout",
          "output_type": "stream",
          "text": [
            "Mounted at /content/drive\n"
          ]
        }
      ],
      "source": [
        " from google.colab import drive\n",
        "drive.mount('/content/drive')"
      ]
    },
    {
      "cell_type": "markdown",
      "metadata": {
        "id": "31Fahh_droW4"
      },
      "source": [
        "# **IMPORTING ESSENTIAL LIBRARIES**"
      ]
    },
    {
      "cell_type": "code",
      "execution_count": null,
      "metadata": {
        "id": "kk8y0TrywGJm"
      },
      "outputs": [],
      "source": [
        "import numpy as np\n",
        "import matplotlib.pyplot as plt\n",
        "import os\n",
        "import cv2\n",
        "import pandas as pd \n",
        "from sklearn import preprocessing\n",
        "import matplotlib.pyplot as plt\n",
        "from sklearn.preprocessing import StandardScaler\n",
        "from sklearn.svm import SVC\n",
        "from sklearn.metrics import confusion_matrix, classification_report\n",
        "from sklearn.metrics import precision_score, recall_score, f1_score, accuracy_score\n",
        "import pandas as pd\n",
        "from sklearn.preprocessing import LabelEncoder, OneHotEncoder"
      ]
    },
    {
      "cell_type": "markdown",
      "metadata": {
        "id": "frAf4Bhsr69n"
      },
      "source": [
        "# **LOADING DATASET**"
      ]
    },
    {
      "cell_type": "code",
      "execution_count": null,
      "metadata": {
        "id": "I25n80pTaAX4"
      },
      "outputs": [],
      "source": [
        "train_annot = pd.read_csv(\"/content/drive/MyDrive/datasets/minor -2 dataset/Train-2.csv\", encoding='latin-1')\n",
        "train_annot.dropna(how=\"any\", inplace=True, axis=0)\n",
        "train_annot.columns = ['text', 'label']\n",
        "\n",
        "train_annot.head()\n",
        "\n",
        "test_data = pd.read_csv(\"/content/drive/MyDrive/datasets/minor -2 dataset/Test-2.csv\", encoding='latin-1')\n",
        "test_data.dropna(how=\"any\", inplace=True, axis=0)\n",
        "test_data.columns = ['text', 'label']"
      ]
    },
    {
      "cell_type": "code",
      "execution_count": null,
      "metadata": {
        "colab": {
          "base_uri": "https://localhost:8080/",
          "height": 300
        },
        "id": "tOvNX1T-a7Vy",
        "outputId": "6758d061-7d81-43ae-93eb-ae7e7aa4c018"
      },
      "outputs": [
        {
          "data": {
            "text/html": [
              "\n",
              "  <div id=\"df-1cad8e06-6f6b-4f7e-b291-61efa4295a25\">\n",
              "    <div class=\"colab-df-container\">\n",
              "      <div>\n",
              "<style scoped>\n",
              "    .dataframe tbody tr th:only-of-type {\n",
              "        vertical-align: middle;\n",
              "    }\n",
              "\n",
              "    .dataframe tbody tr th {\n",
              "        vertical-align: top;\n",
              "    }\n",
              "\n",
              "    .dataframe thead th {\n",
              "        text-align: right;\n",
              "    }\n",
              "</style>\n",
              "<table border=\"1\" class=\"dataframe\">\n",
              "  <thead>\n",
              "    <tr style=\"text-align: right;\">\n",
              "      <th></th>\n",
              "      <th>label</th>\n",
              "    </tr>\n",
              "  </thead>\n",
              "  <tbody>\n",
              "    <tr>\n",
              "      <th>count</th>\n",
              "      <td>3726.000000</td>\n",
              "    </tr>\n",
              "    <tr>\n",
              "      <th>mean</th>\n",
              "      <td>0.376543</td>\n",
              "    </tr>\n",
              "    <tr>\n",
              "      <th>std</th>\n",
              "      <td>0.484584</td>\n",
              "    </tr>\n",
              "    <tr>\n",
              "      <th>min</th>\n",
              "      <td>0.000000</td>\n",
              "    </tr>\n",
              "    <tr>\n",
              "      <th>25%</th>\n",
              "      <td>0.000000</td>\n",
              "    </tr>\n",
              "    <tr>\n",
              "      <th>50%</th>\n",
              "      <td>0.000000</td>\n",
              "    </tr>\n",
              "    <tr>\n",
              "      <th>75%</th>\n",
              "      <td>1.000000</td>\n",
              "    </tr>\n",
              "    <tr>\n",
              "      <th>max</th>\n",
              "      <td>1.000000</td>\n",
              "    </tr>\n",
              "  </tbody>\n",
              "</table>\n",
              "</div>\n",
              "      <button class=\"colab-df-convert\" onclick=\"convertToInteractive('df-1cad8e06-6f6b-4f7e-b291-61efa4295a25')\"\n",
              "              title=\"Convert this dataframe to an interactive table.\"\n",
              "              style=\"display:none;\">\n",
              "        \n",
              "  <svg xmlns=\"http://www.w3.org/2000/svg\" height=\"24px\"viewBox=\"0 0 24 24\"\n",
              "       width=\"24px\">\n",
              "    <path d=\"M0 0h24v24H0V0z\" fill=\"none\"/>\n",
              "    <path d=\"M18.56 5.44l.94 2.06.94-2.06 2.06-.94-2.06-.94-.94-2.06-.94 2.06-2.06.94zm-11 1L8.5 8.5l.94-2.06 2.06-.94-2.06-.94L8.5 2.5l-.94 2.06-2.06.94zm10 10l.94 2.06.94-2.06 2.06-.94-2.06-.94-.94-2.06-.94 2.06-2.06.94z\"/><path d=\"M17.41 7.96l-1.37-1.37c-.4-.4-.92-.59-1.43-.59-.52 0-1.04.2-1.43.59L10.3 9.45l-7.72 7.72c-.78.78-.78 2.05 0 2.83L4 21.41c.39.39.9.59 1.41.59.51 0 1.02-.2 1.41-.59l7.78-7.78 2.81-2.81c.8-.78.8-2.07 0-2.86zM5.41 20L4 18.59l7.72-7.72 1.47 1.35L5.41 20z\"/>\n",
              "  </svg>\n",
              "      </button>\n",
              "      \n",
              "  <style>\n",
              "    .colab-df-container {\n",
              "      display:flex;\n",
              "      flex-wrap:wrap;\n",
              "      gap: 12px;\n",
              "    }\n",
              "\n",
              "    .colab-df-convert {\n",
              "      background-color: #E8F0FE;\n",
              "      border: none;\n",
              "      border-radius: 50%;\n",
              "      cursor: pointer;\n",
              "      display: none;\n",
              "      fill: #1967D2;\n",
              "      height: 32px;\n",
              "      padding: 0 0 0 0;\n",
              "      width: 32px;\n",
              "    }\n",
              "\n",
              "    .colab-df-convert:hover {\n",
              "      background-color: #E2EBFA;\n",
              "      box-shadow: 0px 1px 2px rgba(60, 64, 67, 0.3), 0px 1px 3px 1px rgba(60, 64, 67, 0.15);\n",
              "      fill: #174EA6;\n",
              "    }\n",
              "\n",
              "    [theme=dark] .colab-df-convert {\n",
              "      background-color: #3B4455;\n",
              "      fill: #D2E3FC;\n",
              "    }\n",
              "\n",
              "    [theme=dark] .colab-df-convert:hover {\n",
              "      background-color: #434B5C;\n",
              "      box-shadow: 0px 1px 3px 1px rgba(0, 0, 0, 0.15);\n",
              "      filter: drop-shadow(0px 1px 2px rgba(0, 0, 0, 0.3));\n",
              "      fill: #FFFFFF;\n",
              "    }\n",
              "  </style>\n",
              "\n",
              "      <script>\n",
              "        const buttonEl =\n",
              "          document.querySelector('#df-1cad8e06-6f6b-4f7e-b291-61efa4295a25 button.colab-df-convert');\n",
              "        buttonEl.style.display =\n",
              "          google.colab.kernel.accessAllowed ? 'block' : 'none';\n",
              "\n",
              "        async function convertToInteractive(key) {\n",
              "          const element = document.querySelector('#df-1cad8e06-6f6b-4f7e-b291-61efa4295a25');\n",
              "          const dataTable =\n",
              "            await google.colab.kernel.invokeFunction('convertToInteractive',\n",
              "                                                     [key], {});\n",
              "          if (!dataTable) return;\n",
              "\n",
              "          const docLinkHtml = 'Like what you see? Visit the ' +\n",
              "            '<a target=\"_blank\" href=https://colab.research.google.com/notebooks/data_table.ipynb>data table notebook</a>'\n",
              "            + ' to learn more about interactive tables.';\n",
              "          element.innerHTML = '';\n",
              "          dataTable['output_type'] = 'display_data';\n",
              "          await google.colab.output.renderOutput(dataTable, element);\n",
              "          const docLink = document.createElement('div');\n",
              "          docLink.innerHTML = docLinkHtml;\n",
              "          element.appendChild(docLink);\n",
              "        }\n",
              "      </script>\n",
              "    </div>\n",
              "  </div>\n",
              "  "
            ],
            "text/plain": [
              "             label\n",
              "count  3726.000000\n",
              "mean      0.376543\n",
              "std       0.484584\n",
              "min       0.000000\n",
              "25%       0.000000\n",
              "50%       0.000000\n",
              "75%       1.000000\n",
              "max       1.000000"
            ]
          },
          "execution_count": 4,
          "metadata": {},
          "output_type": "execute_result"
        }
      ],
      "source": [
        "train_annot.describe()"
      ]
    },
    {
      "cell_type": "code",
      "execution_count": null,
      "metadata": {
        "colab": {
          "base_uri": "https://localhost:8080/",
          "height": 175
        },
        "id": "1XHY_hSYbHGB",
        "outputId": "5e47f7bf-e023-49e3-d888-b0c21b9aecf1"
      },
      "outputs": [
        {
          "data": {
            "text/html": [
              "\n",
              "  <div id=\"df-e246720a-7eb6-49e3-b377-666aae25def1\">\n",
              "    <div class=\"colab-df-container\">\n",
              "      <div>\n",
              "<style scoped>\n",
              "    .dataframe tbody tr th:only-of-type {\n",
              "        vertical-align: middle;\n",
              "    }\n",
              "\n",
              "    .dataframe tbody tr th {\n",
              "        vertical-align: top;\n",
              "    }\n",
              "\n",
              "    .dataframe thead tr th {\n",
              "        text-align: left;\n",
              "    }\n",
              "\n",
              "    .dataframe thead tr:last-of-type th {\n",
              "        text-align: right;\n",
              "    }\n",
              "</style>\n",
              "<table border=\"1\" class=\"dataframe\">\n",
              "  <thead>\n",
              "    <tr>\n",
              "      <th></th>\n",
              "      <th colspan=\"4\" halign=\"left\">text</th>\n",
              "    </tr>\n",
              "    <tr>\n",
              "      <th></th>\n",
              "      <th>count</th>\n",
              "      <th>unique</th>\n",
              "      <th>top</th>\n",
              "      <th>freq</th>\n",
              "    </tr>\n",
              "    <tr>\n",
              "      <th>label</th>\n",
              "      <th></th>\n",
              "      <th></th>\n",
              "      <th></th>\n",
              "      <th></th>\n",
              "    </tr>\n",
              "  </thead>\n",
              "  <tbody>\n",
              "    <tr>\n",
              "      <th>0</th>\n",
              "      <td>2323</td>\n",
              "      <td>2323</td>\n",
              "      <td>Knowing ki Vikas kitna samjhata hai Priyanka a...</td>\n",
              "      <td>1</td>\n",
              "    </tr>\n",
              "    <tr>\n",
              "      <th>1</th>\n",
              "      <td>1403</td>\n",
              "      <td>1403</td>\n",
              "      <td>Sarkar banne ke bad Hindu hit me ek bhi faisla...</td>\n",
              "      <td>1</td>\n",
              "    </tr>\n",
              "  </tbody>\n",
              "</table>\n",
              "</div>\n",
              "      <button class=\"colab-df-convert\" onclick=\"convertToInteractive('df-e246720a-7eb6-49e3-b377-666aae25def1')\"\n",
              "              title=\"Convert this dataframe to an interactive table.\"\n",
              "              style=\"display:none;\">\n",
              "        \n",
              "  <svg xmlns=\"http://www.w3.org/2000/svg\" height=\"24px\"viewBox=\"0 0 24 24\"\n",
              "       width=\"24px\">\n",
              "    <path d=\"M0 0h24v24H0V0z\" fill=\"none\"/>\n",
              "    <path d=\"M18.56 5.44l.94 2.06.94-2.06 2.06-.94-2.06-.94-.94-2.06-.94 2.06-2.06.94zm-11 1L8.5 8.5l.94-2.06 2.06-.94-2.06-.94L8.5 2.5l-.94 2.06-2.06.94zm10 10l.94 2.06.94-2.06 2.06-.94-2.06-.94-.94-2.06-.94 2.06-2.06.94z\"/><path d=\"M17.41 7.96l-1.37-1.37c-.4-.4-.92-.59-1.43-.59-.52 0-1.04.2-1.43.59L10.3 9.45l-7.72 7.72c-.78.78-.78 2.05 0 2.83L4 21.41c.39.39.9.59 1.41.59.51 0 1.02-.2 1.41-.59l7.78-7.78 2.81-2.81c.8-.78.8-2.07 0-2.86zM5.41 20L4 18.59l7.72-7.72 1.47 1.35L5.41 20z\"/>\n",
              "  </svg>\n",
              "      </button>\n",
              "      \n",
              "  <style>\n",
              "    .colab-df-container {\n",
              "      display:flex;\n",
              "      flex-wrap:wrap;\n",
              "      gap: 12px;\n",
              "    }\n",
              "\n",
              "    .colab-df-convert {\n",
              "      background-color: #E8F0FE;\n",
              "      border: none;\n",
              "      border-radius: 50%;\n",
              "      cursor: pointer;\n",
              "      display: none;\n",
              "      fill: #1967D2;\n",
              "      height: 32px;\n",
              "      padding: 0 0 0 0;\n",
              "      width: 32px;\n",
              "    }\n",
              "\n",
              "    .colab-df-convert:hover {\n",
              "      background-color: #E2EBFA;\n",
              "      box-shadow: 0px 1px 2px rgba(60, 64, 67, 0.3), 0px 1px 3px 1px rgba(60, 64, 67, 0.15);\n",
              "      fill: #174EA6;\n",
              "    }\n",
              "\n",
              "    [theme=dark] .colab-df-convert {\n",
              "      background-color: #3B4455;\n",
              "      fill: #D2E3FC;\n",
              "    }\n",
              "\n",
              "    [theme=dark] .colab-df-convert:hover {\n",
              "      background-color: #434B5C;\n",
              "      box-shadow: 0px 1px 3px 1px rgba(0, 0, 0, 0.15);\n",
              "      filter: drop-shadow(0px 1px 2px rgba(0, 0, 0, 0.3));\n",
              "      fill: #FFFFFF;\n",
              "    }\n",
              "  </style>\n",
              "\n",
              "      <script>\n",
              "        const buttonEl =\n",
              "          document.querySelector('#df-e246720a-7eb6-49e3-b377-666aae25def1 button.colab-df-convert');\n",
              "        buttonEl.style.display =\n",
              "          google.colab.kernel.accessAllowed ? 'block' : 'none';\n",
              "\n",
              "        async function convertToInteractive(key) {\n",
              "          const element = document.querySelector('#df-e246720a-7eb6-49e3-b377-666aae25def1');\n",
              "          const dataTable =\n",
              "            await google.colab.kernel.invokeFunction('convertToInteractive',\n",
              "                                                     [key], {});\n",
              "          if (!dataTable) return;\n",
              "\n",
              "          const docLinkHtml = 'Like what you see? Visit the ' +\n",
              "            '<a target=\"_blank\" href=https://colab.research.google.com/notebooks/data_table.ipynb>data table notebook</a>'\n",
              "            + ' to learn more about interactive tables.';\n",
              "          element.innerHTML = '';\n",
              "          dataTable['output_type'] = 'display_data';\n",
              "          await google.colab.output.renderOutput(dataTable, element);\n",
              "          const docLink = document.createElement('div');\n",
              "          docLink.innerHTML = docLinkHtml;\n",
              "          element.appendChild(docLink);\n",
              "        }\n",
              "      </script>\n",
              "    </div>\n",
              "  </div>\n",
              "  "
            ],
            "text/plain": [
              "       text                                                               \n",
              "      count unique                                                top freq\n",
              "label                                                                     \n",
              "0      2323   2323  Knowing ki Vikas kitna samjhata hai Priyanka a...    1\n",
              "1      1403   1403  Sarkar banne ke bad Hindu hit me ek bhi faisla...    1"
            ]
          },
          "execution_count": 5,
          "metadata": {},
          "output_type": "execute_result"
        }
      ],
      "source": [
        "train_annot.groupby('label').describe()\n"
      ]
    },
    {
      "cell_type": "code",
      "execution_count": null,
      "metadata": {
        "id": "N6TZA1egbHUV"
      },
      "outputs": [],
      "source": [
        "train_annot['text_len'] = train_annot.text.apply(len)\n",
        "train_annot.head()\n",
        "\n",
        "test_data['text_len'] = test_data.text.apply(len)"
      ]
    },
    {
      "cell_type": "code",
      "execution_count": null,
      "metadata": {
        "colab": {
          "base_uri": "https://localhost:8080/",
          "height": 423
        },
        "id": "eQqhE9SleBji",
        "outputId": "a1d09003-0061-473a-baa7-5e965d2ea72e"
      },
      "outputs": [
        {
          "data": {
            "text/html": [
              "\n",
              "  <div id=\"df-f24e62ca-4368-4c6e-ba83-56b982e075dc\">\n",
              "    <div class=\"colab-df-container\">\n",
              "      <div>\n",
              "<style scoped>\n",
              "    .dataframe tbody tr th:only-of-type {\n",
              "        vertical-align: middle;\n",
              "    }\n",
              "\n",
              "    .dataframe tbody tr th {\n",
              "        vertical-align: top;\n",
              "    }\n",
              "\n",
              "    .dataframe thead th {\n",
              "        text-align: right;\n",
              "    }\n",
              "</style>\n",
              "<table border=\"1\" class=\"dataframe\">\n",
              "  <thead>\n",
              "    <tr style=\"text-align: right;\">\n",
              "      <th></th>\n",
              "      <th>text</th>\n",
              "      <th>label</th>\n",
              "      <th>text_len</th>\n",
              "    </tr>\n",
              "  </thead>\n",
              "  <tbody>\n",
              "    <tr>\n",
              "      <th>0</th>\n",
              "      <td>Knowing ki Vikas kitna samjhata hai Priyanka a...</td>\n",
              "      <td>0</td>\n",
              "      <td>126</td>\n",
              "    </tr>\n",
              "    <tr>\n",
              "      <th>1</th>\n",
              "      <td>I am Muhajir .. Aur mere lye sab se Pehly Paki...</td>\n",
              "      <td>0</td>\n",
              "      <td>196</td>\n",
              "    </tr>\n",
              "    <tr>\n",
              "      <th>2</th>\n",
              "      <td>Doctor  sab sahi me ke PhD (in hate politics) ...</td>\n",
              "      <td>0</td>\n",
              "      <td>166</td>\n",
              "    </tr>\n",
              "    <tr>\n",
              "      <th>3</th>\n",
              "      <td>Poore Desh me Patel OBC me aate Hain sirf gujr...</td>\n",
              "      <td>0</td>\n",
              "      <td>257</td>\n",
              "    </tr>\n",
              "    <tr>\n",
              "      <th>4</th>\n",
              "      <td>Sarkar banne ke bad Hindu hit me ek bhi faisla...</td>\n",
              "      <td>1</td>\n",
              "      <td>140</td>\n",
              "    </tr>\n",
              "    <tr>\n",
              "      <th>...</th>\n",
              "      <td>...</td>\n",
              "      <td>...</td>\n",
              "      <td>...</td>\n",
              "    </tr>\n",
              "    <tr>\n",
              "      <th>3722</th>\n",
              "      <td>pehle confirm karo ke Mohammad ne sach mein 8 ...</td>\n",
              "      <td>0</td>\n",
              "      <td>79</td>\n",
              "    </tr>\n",
              "    <tr>\n",
              "      <th>3723</th>\n",
              "      <td>ye attankwadi Indian agent hai jo terrorism ph...</td>\n",
              "      <td>0</td>\n",
              "      <td>55</td>\n",
              "    </tr>\n",
              "    <tr>\n",
              "      <th>3724</th>\n",
              "      <td>bola na terrorism ko support karna band karoge...</td>\n",
              "      <td>0</td>\n",
              "      <td>69</td>\n",
              "    </tr>\n",
              "    <tr>\n",
              "      <th>3725</th>\n",
              "      <td>lagta hai aap ne movie dekhi hai which is writ...</td>\n",
              "      <td>0</td>\n",
              "      <td>125</td>\n",
              "    </tr>\n",
              "    <tr>\n",
              "      <th>3726</th>\n",
              "      <td>tum log terrorism ko support karna band kardo ...</td>\n",
              "      <td>0</td>\n",
              "      <td>65</td>\n",
              "    </tr>\n",
              "  </tbody>\n",
              "</table>\n",
              "<p>3726 rows × 3 columns</p>\n",
              "</div>\n",
              "      <button class=\"colab-df-convert\" onclick=\"convertToInteractive('df-f24e62ca-4368-4c6e-ba83-56b982e075dc')\"\n",
              "              title=\"Convert this dataframe to an interactive table.\"\n",
              "              style=\"display:none;\">\n",
              "        \n",
              "  <svg xmlns=\"http://www.w3.org/2000/svg\" height=\"24px\"viewBox=\"0 0 24 24\"\n",
              "       width=\"24px\">\n",
              "    <path d=\"M0 0h24v24H0V0z\" fill=\"none\"/>\n",
              "    <path d=\"M18.56 5.44l.94 2.06.94-2.06 2.06-.94-2.06-.94-.94-2.06-.94 2.06-2.06.94zm-11 1L8.5 8.5l.94-2.06 2.06-.94-2.06-.94L8.5 2.5l-.94 2.06-2.06.94zm10 10l.94 2.06.94-2.06 2.06-.94-2.06-.94-.94-2.06-.94 2.06-2.06.94z\"/><path d=\"M17.41 7.96l-1.37-1.37c-.4-.4-.92-.59-1.43-.59-.52 0-1.04.2-1.43.59L10.3 9.45l-7.72 7.72c-.78.78-.78 2.05 0 2.83L4 21.41c.39.39.9.59 1.41.59.51 0 1.02-.2 1.41-.59l7.78-7.78 2.81-2.81c.8-.78.8-2.07 0-2.86zM5.41 20L4 18.59l7.72-7.72 1.47 1.35L5.41 20z\"/>\n",
              "  </svg>\n",
              "      </button>\n",
              "      \n",
              "  <style>\n",
              "    .colab-df-container {\n",
              "      display:flex;\n",
              "      flex-wrap:wrap;\n",
              "      gap: 12px;\n",
              "    }\n",
              "\n",
              "    .colab-df-convert {\n",
              "      background-color: #E8F0FE;\n",
              "      border: none;\n",
              "      border-radius: 50%;\n",
              "      cursor: pointer;\n",
              "      display: none;\n",
              "      fill: #1967D2;\n",
              "      height: 32px;\n",
              "      padding: 0 0 0 0;\n",
              "      width: 32px;\n",
              "    }\n",
              "\n",
              "    .colab-df-convert:hover {\n",
              "      background-color: #E2EBFA;\n",
              "      box-shadow: 0px 1px 2px rgba(60, 64, 67, 0.3), 0px 1px 3px 1px rgba(60, 64, 67, 0.15);\n",
              "      fill: #174EA6;\n",
              "    }\n",
              "\n",
              "    [theme=dark] .colab-df-convert {\n",
              "      background-color: #3B4455;\n",
              "      fill: #D2E3FC;\n",
              "    }\n",
              "\n",
              "    [theme=dark] .colab-df-convert:hover {\n",
              "      background-color: #434B5C;\n",
              "      box-shadow: 0px 1px 3px 1px rgba(0, 0, 0, 0.15);\n",
              "      filter: drop-shadow(0px 1px 2px rgba(0, 0, 0, 0.3));\n",
              "      fill: #FFFFFF;\n",
              "    }\n",
              "  </style>\n",
              "\n",
              "      <script>\n",
              "        const buttonEl =\n",
              "          document.querySelector('#df-f24e62ca-4368-4c6e-ba83-56b982e075dc button.colab-df-convert');\n",
              "        buttonEl.style.display =\n",
              "          google.colab.kernel.accessAllowed ? 'block' : 'none';\n",
              "\n",
              "        async function convertToInteractive(key) {\n",
              "          const element = document.querySelector('#df-f24e62ca-4368-4c6e-ba83-56b982e075dc');\n",
              "          const dataTable =\n",
              "            await google.colab.kernel.invokeFunction('convertToInteractive',\n",
              "                                                     [key], {});\n",
              "          if (!dataTable) return;\n",
              "\n",
              "          const docLinkHtml = 'Like what you see? Visit the ' +\n",
              "            '<a target=\"_blank\" href=https://colab.research.google.com/notebooks/data_table.ipynb>data table notebook</a>'\n",
              "            + ' to learn more about interactive tables.';\n",
              "          element.innerHTML = '';\n",
              "          dataTable['output_type'] = 'display_data';\n",
              "          await google.colab.output.renderOutput(dataTable, element);\n",
              "          const docLink = document.createElement('div');\n",
              "          docLink.innerHTML = docLinkHtml;\n",
              "          element.appendChild(docLink);\n",
              "        }\n",
              "      </script>\n",
              "    </div>\n",
              "  </div>\n",
              "  "
            ],
            "text/plain": [
              "                                                   text  label  text_len\n",
              "0     Knowing ki Vikas kitna samjhata hai Priyanka a...      0       126\n",
              "1     I am Muhajir .. Aur mere lye sab se Pehly Paki...      0       196\n",
              "2     Doctor  sab sahi me ke PhD (in hate politics) ...      0       166\n",
              "3     Poore Desh me Patel OBC me aate Hain sirf gujr...      0       257\n",
              "4     Sarkar banne ke bad Hindu hit me ek bhi faisla...      1       140\n",
              "...                                                 ...    ...       ...\n",
              "3722  pehle confirm karo ke Mohammad ne sach mein 8 ...      0        79\n",
              "3723  ye attankwadi Indian agent hai jo terrorism ph...      0        55\n",
              "3724  bola na terrorism ko support karna band karoge...      0        69\n",
              "3725  lagta hai aap ne movie dekhi hai which is writ...      0       125\n",
              "3726  tum log terrorism ko support karna band kardo ...      0        65\n",
              "\n",
              "[3726 rows x 3 columns]"
            ]
          },
          "execution_count": 7,
          "metadata": {},
          "output_type": "execute_result"
        }
      ],
      "source": [
        "train_annot"
      ]
    },
    {
      "cell_type": "code",
      "execution_count": null,
      "metadata": {
        "colab": {
          "base_uri": "https://localhost:8080/",
          "height": 36
        },
        "id": "tFd-feEJbIHF",
        "outputId": "8f16af3f-fb5d-48d0-93bb-59c495e3bc77"
      },
      "outputs": [
        {
          "data": {
            "application/vnd.google.colaboratory.intrinsic+json": {
              "type": "string"
            },
            "text/plain": [
              "'Aur raha sawal terrorism ka to tum logon se ziyada to koi hai he nahi atankwad :) jo apne he kisano ka khoon baha rahe hain :('"
            ]
          },
          "execution_count": 8,
          "metadata": {},
          "output_type": "execute_result"
        }
      ],
      "source": [
        "train_annot[train_annot.text_len == 126].text.iloc[0]\n",
        "test_data[test_data.text_len == 126].text.iloc[0]"
      ]
    },
    {
      "cell_type": "markdown",
      "metadata": {
        "id": "2HMUfs_zilyC"
      },
      "source": [
        "# **Dataset Pre-Processing**"
      ]
    },
    {
      "cell_type": "code",
      "execution_count": null,
      "metadata": {
        "id": "gsyJv5bakKwf"
      },
      "outputs": [],
      "source": [
        "import numpy as np\n",
        "import pandas as pd\n",
        "import re\n",
        "import nltk\n",
        "import spacy\n",
        "import string\n",
        "pd.options.mode.chained_assignment = None"
      ]
    },
    {
      "cell_type": "markdown",
      "metadata": {
        "id": "zaArykk8oYSF"
      },
      "source": [
        "**Lower Casing**"
      ]
    },
    {
      "cell_type": "code",
      "execution_count": null,
      "metadata": {
        "colab": {
          "base_uri": "https://localhost:8080/",
          "height": 206
        },
        "id": "AhK9zjsQbIcq",
        "outputId": "a15b5721-66c1-4a9b-f787-2f5f585b9aad"
      },
      "outputs": [
        {
          "data": {
            "text/html": [
              "\n",
              "  <div id=\"df-70c08b7a-9aa2-4bab-818d-075764b59864\">\n",
              "    <div class=\"colab-df-container\">\n",
              "      <div>\n",
              "<style scoped>\n",
              "    .dataframe tbody tr th:only-of-type {\n",
              "        vertical-align: middle;\n",
              "    }\n",
              "\n",
              "    .dataframe tbody tr th {\n",
              "        vertical-align: top;\n",
              "    }\n",
              "\n",
              "    .dataframe thead th {\n",
              "        text-align: right;\n",
              "    }\n",
              "</style>\n",
              "<table border=\"1\" class=\"dataframe\">\n",
              "  <thead>\n",
              "    <tr style=\"text-align: right;\">\n",
              "      <th></th>\n",
              "      <th>text</th>\n",
              "      <th>label</th>\n",
              "      <th>text_len</th>\n",
              "      <th>text_lower</th>\n",
              "    </tr>\n",
              "  </thead>\n",
              "  <tbody>\n",
              "    <tr>\n",
              "      <th>0</th>\n",
              "      <td>Knowing ki Vikas kitna samjhata hai Priyanka a...</td>\n",
              "      <td>0</td>\n",
              "      <td>126</td>\n",
              "      <td>knowing ki vikas kitna samjhata hai priyanka a...</td>\n",
              "    </tr>\n",
              "    <tr>\n",
              "      <th>1</th>\n",
              "      <td>I am Muhajir .. Aur mere lye sab se Pehly Paki...</td>\n",
              "      <td>0</td>\n",
              "      <td>196</td>\n",
              "      <td>i am muhajir .. aur mere lye sab se pehly paki...</td>\n",
              "    </tr>\n",
              "    <tr>\n",
              "      <th>2</th>\n",
              "      <td>Doctor  sab sahi me ke PhD (in hate politics) ...</td>\n",
              "      <td>0</td>\n",
              "      <td>166</td>\n",
              "      <td>doctor  sab sahi me ke phd (in hate politics) ...</td>\n",
              "    </tr>\n",
              "    <tr>\n",
              "      <th>3</th>\n",
              "      <td>Poore Desh me Patel OBC me aate Hain sirf gujr...</td>\n",
              "      <td>0</td>\n",
              "      <td>257</td>\n",
              "      <td>poore desh me patel obc me aate hain sirf gujr...</td>\n",
              "    </tr>\n",
              "    <tr>\n",
              "      <th>4</th>\n",
              "      <td>Sarkar banne ke bad Hindu hit me ek bhi faisla...</td>\n",
              "      <td>1</td>\n",
              "      <td>140</td>\n",
              "      <td>sarkar banne ke bad hindu hit me ek bhi faisla...</td>\n",
              "    </tr>\n",
              "  </tbody>\n",
              "</table>\n",
              "</div>\n",
              "      <button class=\"colab-df-convert\" onclick=\"convertToInteractive('df-70c08b7a-9aa2-4bab-818d-075764b59864')\"\n",
              "              title=\"Convert this dataframe to an interactive table.\"\n",
              "              style=\"display:none;\">\n",
              "        \n",
              "  <svg xmlns=\"http://www.w3.org/2000/svg\" height=\"24px\"viewBox=\"0 0 24 24\"\n",
              "       width=\"24px\">\n",
              "    <path d=\"M0 0h24v24H0V0z\" fill=\"none\"/>\n",
              "    <path d=\"M18.56 5.44l.94 2.06.94-2.06 2.06-.94-2.06-.94-.94-2.06-.94 2.06-2.06.94zm-11 1L8.5 8.5l.94-2.06 2.06-.94-2.06-.94L8.5 2.5l-.94 2.06-2.06.94zm10 10l.94 2.06.94-2.06 2.06-.94-2.06-.94-.94-2.06-.94 2.06-2.06.94z\"/><path d=\"M17.41 7.96l-1.37-1.37c-.4-.4-.92-.59-1.43-.59-.52 0-1.04.2-1.43.59L10.3 9.45l-7.72 7.72c-.78.78-.78 2.05 0 2.83L4 21.41c.39.39.9.59 1.41.59.51 0 1.02-.2 1.41-.59l7.78-7.78 2.81-2.81c.8-.78.8-2.07 0-2.86zM5.41 20L4 18.59l7.72-7.72 1.47 1.35L5.41 20z\"/>\n",
              "  </svg>\n",
              "      </button>\n",
              "      \n",
              "  <style>\n",
              "    .colab-df-container {\n",
              "      display:flex;\n",
              "      flex-wrap:wrap;\n",
              "      gap: 12px;\n",
              "    }\n",
              "\n",
              "    .colab-df-convert {\n",
              "      background-color: #E8F0FE;\n",
              "      border: none;\n",
              "      border-radius: 50%;\n",
              "      cursor: pointer;\n",
              "      display: none;\n",
              "      fill: #1967D2;\n",
              "      height: 32px;\n",
              "      padding: 0 0 0 0;\n",
              "      width: 32px;\n",
              "    }\n",
              "\n",
              "    .colab-df-convert:hover {\n",
              "      background-color: #E2EBFA;\n",
              "      box-shadow: 0px 1px 2px rgba(60, 64, 67, 0.3), 0px 1px 3px 1px rgba(60, 64, 67, 0.15);\n",
              "      fill: #174EA6;\n",
              "    }\n",
              "\n",
              "    [theme=dark] .colab-df-convert {\n",
              "      background-color: #3B4455;\n",
              "      fill: #D2E3FC;\n",
              "    }\n",
              "\n",
              "    [theme=dark] .colab-df-convert:hover {\n",
              "      background-color: #434B5C;\n",
              "      box-shadow: 0px 1px 3px 1px rgba(0, 0, 0, 0.15);\n",
              "      filter: drop-shadow(0px 1px 2px rgba(0, 0, 0, 0.3));\n",
              "      fill: #FFFFFF;\n",
              "    }\n",
              "  </style>\n",
              "\n",
              "      <script>\n",
              "        const buttonEl =\n",
              "          document.querySelector('#df-70c08b7a-9aa2-4bab-818d-075764b59864 button.colab-df-convert');\n",
              "        buttonEl.style.display =\n",
              "          google.colab.kernel.accessAllowed ? 'block' : 'none';\n",
              "\n",
              "        async function convertToInteractive(key) {\n",
              "          const element = document.querySelector('#df-70c08b7a-9aa2-4bab-818d-075764b59864');\n",
              "          const dataTable =\n",
              "            await google.colab.kernel.invokeFunction('convertToInteractive',\n",
              "                                                     [key], {});\n",
              "          if (!dataTable) return;\n",
              "\n",
              "          const docLinkHtml = 'Like what you see? Visit the ' +\n",
              "            '<a target=\"_blank\" href=https://colab.research.google.com/notebooks/data_table.ipynb>data table notebook</a>'\n",
              "            + ' to learn more about interactive tables.';\n",
              "          element.innerHTML = '';\n",
              "          dataTable['output_type'] = 'display_data';\n",
              "          await google.colab.output.renderOutput(dataTable, element);\n",
              "          const docLink = document.createElement('div');\n",
              "          docLink.innerHTML = docLinkHtml;\n",
              "          element.appendChild(docLink);\n",
              "        }\n",
              "      </script>\n",
              "    </div>\n",
              "  </div>\n",
              "  "
            ],
            "text/plain": [
              "                                                text  label  text_len  \\\n",
              "0  Knowing ki Vikas kitna samjhata hai Priyanka a...      0       126   \n",
              "1  I am Muhajir .. Aur mere lye sab se Pehly Paki...      0       196   \n",
              "2  Doctor  sab sahi me ke PhD (in hate politics) ...      0       166   \n",
              "3  Poore Desh me Patel OBC me aate Hain sirf gujr...      0       257   \n",
              "4  Sarkar banne ke bad Hindu hit me ek bhi faisla...      1       140   \n",
              "\n",
              "                                          text_lower  \n",
              "0  knowing ki vikas kitna samjhata hai priyanka a...  \n",
              "1  i am muhajir .. aur mere lye sab se pehly paki...  \n",
              "2  doctor  sab sahi me ke phd (in hate politics) ...  \n",
              "3  poore desh me patel obc me aate hain sirf gujr...  \n",
              "4  sarkar banne ke bad hindu hit me ek bhi faisla...  "
            ]
          },
          "execution_count": 10,
          "metadata": {},
          "output_type": "execute_result"
        }
      ],
      "source": [
        "train_annot[\"text_lower\"] = train_annot[\"text\"].str.lower()\n",
        "test_data[\"text_lower\"] = test_data[\"text\"].str.lower()\n",
        "train_annot.head()"
      ]
    },
    {
      "cell_type": "markdown",
      "metadata": {
        "id": "XPxn7WRmoeAq"
      },
      "source": [
        "**Removal of Punctuations**"
      ]
    },
    {
      "cell_type": "code",
      "execution_count": null,
      "metadata": {
        "colab": {
          "base_uri": "https://localhost:8080/",
          "height": 206
        },
        "id": "6SCbconibIxW",
        "outputId": "df334194-3228-4afa-a942-410ce9c3ad3c"
      },
      "outputs": [
        {
          "data": {
            "text/html": [
              "\n",
              "  <div id=\"df-261f7cea-dff5-419e-9e29-8eb8675fac50\">\n",
              "    <div class=\"colab-df-container\">\n",
              "      <div>\n",
              "<style scoped>\n",
              "    .dataframe tbody tr th:only-of-type {\n",
              "        vertical-align: middle;\n",
              "    }\n",
              "\n",
              "    .dataframe tbody tr th {\n",
              "        vertical-align: top;\n",
              "    }\n",
              "\n",
              "    .dataframe thead th {\n",
              "        text-align: right;\n",
              "    }\n",
              "</style>\n",
              "<table border=\"1\" class=\"dataframe\">\n",
              "  <thead>\n",
              "    <tr style=\"text-align: right;\">\n",
              "      <th></th>\n",
              "      <th>text</th>\n",
              "      <th>label</th>\n",
              "      <th>text_len</th>\n",
              "      <th>text_lower</th>\n",
              "      <th>text_wo_punct and lower</th>\n",
              "    </tr>\n",
              "  </thead>\n",
              "  <tbody>\n",
              "    <tr>\n",
              "      <th>0</th>\n",
              "      <td>Knowing ki Vikas kitna samjhata hai Priyanka a...</td>\n",
              "      <td>0</td>\n",
              "      <td>126</td>\n",
              "      <td>knowing ki vikas kitna samjhata hai priyanka a...</td>\n",
              "      <td>knowing ki vikas kitna samjhata hai priyanka a...</td>\n",
              "    </tr>\n",
              "    <tr>\n",
              "      <th>1</th>\n",
              "      <td>I am Muhajir .. Aur mere lye sab se Pehly Paki...</td>\n",
              "      <td>0</td>\n",
              "      <td>196</td>\n",
              "      <td>i am muhajir .. aur mere lye sab se pehly paki...</td>\n",
              "      <td>i am muhajir  aur mere lye sab se pehly pakist...</td>\n",
              "    </tr>\n",
              "    <tr>\n",
              "      <th>2</th>\n",
              "      <td>Doctor  sab sahi me ke PhD (in hate politics) ...</td>\n",
              "      <td>0</td>\n",
              "      <td>166</td>\n",
              "      <td>doctor  sab sahi me ke phd (in hate politics) ...</td>\n",
              "      <td>doctor  sab sahi me ke phd in hate politics wa...</td>\n",
              "    </tr>\n",
              "    <tr>\n",
              "      <th>3</th>\n",
              "      <td>Poore Desh me Patel OBC me aate Hain sirf gujr...</td>\n",
              "      <td>0</td>\n",
              "      <td>257</td>\n",
              "      <td>poore desh me patel obc me aate hain sirf gujr...</td>\n",
              "      <td>poore desh me patel obc me aate hain sirf gujr...</td>\n",
              "    </tr>\n",
              "    <tr>\n",
              "      <th>4</th>\n",
              "      <td>Sarkar banne ke bad Hindu hit me ek bhi faisla...</td>\n",
              "      <td>1</td>\n",
              "      <td>140</td>\n",
              "      <td>sarkar banne ke bad hindu hit me ek bhi faisla...</td>\n",
              "      <td>sarkar banne ke bad hindu hit me ek bhi faisla...</td>\n",
              "    </tr>\n",
              "  </tbody>\n",
              "</table>\n",
              "</div>\n",
              "      <button class=\"colab-df-convert\" onclick=\"convertToInteractive('df-261f7cea-dff5-419e-9e29-8eb8675fac50')\"\n",
              "              title=\"Convert this dataframe to an interactive table.\"\n",
              "              style=\"display:none;\">\n",
              "        \n",
              "  <svg xmlns=\"http://www.w3.org/2000/svg\" height=\"24px\"viewBox=\"0 0 24 24\"\n",
              "       width=\"24px\">\n",
              "    <path d=\"M0 0h24v24H0V0z\" fill=\"none\"/>\n",
              "    <path d=\"M18.56 5.44l.94 2.06.94-2.06 2.06-.94-2.06-.94-.94-2.06-.94 2.06-2.06.94zm-11 1L8.5 8.5l.94-2.06 2.06-.94-2.06-.94L8.5 2.5l-.94 2.06-2.06.94zm10 10l.94 2.06.94-2.06 2.06-.94-2.06-.94-.94-2.06-.94 2.06-2.06.94z\"/><path d=\"M17.41 7.96l-1.37-1.37c-.4-.4-.92-.59-1.43-.59-.52 0-1.04.2-1.43.59L10.3 9.45l-7.72 7.72c-.78.78-.78 2.05 0 2.83L4 21.41c.39.39.9.59 1.41.59.51 0 1.02-.2 1.41-.59l7.78-7.78 2.81-2.81c.8-.78.8-2.07 0-2.86zM5.41 20L4 18.59l7.72-7.72 1.47 1.35L5.41 20z\"/>\n",
              "  </svg>\n",
              "      </button>\n",
              "      \n",
              "  <style>\n",
              "    .colab-df-container {\n",
              "      display:flex;\n",
              "      flex-wrap:wrap;\n",
              "      gap: 12px;\n",
              "    }\n",
              "\n",
              "    .colab-df-convert {\n",
              "      background-color: #E8F0FE;\n",
              "      border: none;\n",
              "      border-radius: 50%;\n",
              "      cursor: pointer;\n",
              "      display: none;\n",
              "      fill: #1967D2;\n",
              "      height: 32px;\n",
              "      padding: 0 0 0 0;\n",
              "      width: 32px;\n",
              "    }\n",
              "\n",
              "    .colab-df-convert:hover {\n",
              "      background-color: #E2EBFA;\n",
              "      box-shadow: 0px 1px 2px rgba(60, 64, 67, 0.3), 0px 1px 3px 1px rgba(60, 64, 67, 0.15);\n",
              "      fill: #174EA6;\n",
              "    }\n",
              "\n",
              "    [theme=dark] .colab-df-convert {\n",
              "      background-color: #3B4455;\n",
              "      fill: #D2E3FC;\n",
              "    }\n",
              "\n",
              "    [theme=dark] .colab-df-convert:hover {\n",
              "      background-color: #434B5C;\n",
              "      box-shadow: 0px 1px 3px 1px rgba(0, 0, 0, 0.15);\n",
              "      filter: drop-shadow(0px 1px 2px rgba(0, 0, 0, 0.3));\n",
              "      fill: #FFFFFF;\n",
              "    }\n",
              "  </style>\n",
              "\n",
              "      <script>\n",
              "        const buttonEl =\n",
              "          document.querySelector('#df-261f7cea-dff5-419e-9e29-8eb8675fac50 button.colab-df-convert');\n",
              "        buttonEl.style.display =\n",
              "          google.colab.kernel.accessAllowed ? 'block' : 'none';\n",
              "\n",
              "        async function convertToInteractive(key) {\n",
              "          const element = document.querySelector('#df-261f7cea-dff5-419e-9e29-8eb8675fac50');\n",
              "          const dataTable =\n",
              "            await google.colab.kernel.invokeFunction('convertToInteractive',\n",
              "                                                     [key], {});\n",
              "          if (!dataTable) return;\n",
              "\n",
              "          const docLinkHtml = 'Like what you see? Visit the ' +\n",
              "            '<a target=\"_blank\" href=https://colab.research.google.com/notebooks/data_table.ipynb>data table notebook</a>'\n",
              "            + ' to learn more about interactive tables.';\n",
              "          element.innerHTML = '';\n",
              "          dataTable['output_type'] = 'display_data';\n",
              "          await google.colab.output.renderOutput(dataTable, element);\n",
              "          const docLink = document.createElement('div');\n",
              "          docLink.innerHTML = docLinkHtml;\n",
              "          element.appendChild(docLink);\n",
              "        }\n",
              "      </script>\n",
              "    </div>\n",
              "  </div>\n",
              "  "
            ],
            "text/plain": [
              "                                                text  label  text_len  \\\n",
              "0  Knowing ki Vikas kitna samjhata hai Priyanka a...      0       126   \n",
              "1  I am Muhajir .. Aur mere lye sab se Pehly Paki...      0       196   \n",
              "2  Doctor  sab sahi me ke PhD (in hate politics) ...      0       166   \n",
              "3  Poore Desh me Patel OBC me aate Hain sirf gujr...      0       257   \n",
              "4  Sarkar banne ke bad Hindu hit me ek bhi faisla...      1       140   \n",
              "\n",
              "                                          text_lower  \\\n",
              "0  knowing ki vikas kitna samjhata hai priyanka a...   \n",
              "1  i am muhajir .. aur mere lye sab se pehly paki...   \n",
              "2  doctor  sab sahi me ke phd (in hate politics) ...   \n",
              "3  poore desh me patel obc me aate hain sirf gujr...   \n",
              "4  sarkar banne ke bad hindu hit me ek bhi faisla...   \n",
              "\n",
              "                             text_wo_punct and lower  \n",
              "0  knowing ki vikas kitna samjhata hai priyanka a...  \n",
              "1  i am muhajir  aur mere lye sab se pehly pakist...  \n",
              "2  doctor  sab sahi me ke phd in hate politics wa...  \n",
              "3  poore desh me patel obc me aate hain sirf gujr...  \n",
              "4  sarkar banne ke bad hindu hit me ek bhi faisla...  "
            ]
          },
          "execution_count": 11,
          "metadata": {},
          "output_type": "execute_result"
        }
      ],
      "source": [
        "PUNCT_TO_REMOVE = string.punctuation\n",
        "def remove_punctuation(text):\n",
        "    \"\"\"custom function to remove the punctuation\"\"\"\n",
        "    return text.translate(str.maketrans('', '', PUNCT_TO_REMOVE))\n",
        "\n",
        "train_annot[\"text_wo_punct and lower\"] = train_annot[\"text_lower\"].apply(lambda text_lower: remove_punctuation(text_lower))\n",
        "test_data[\"text_wo_punct and lower\"] = test_data[\"text_lower\"].apply(lambda text_lower: remove_punctuation(text_lower))\n",
        "train_annot.head()"
      ]
    },
    {
      "cell_type": "markdown",
      "metadata": {
        "id": "0MMVW5tHmQn6"
      },
      "source": [
        "**Removal of Stopwords**"
      ]
    },
    {
      "cell_type": "code",
      "execution_count": null,
      "metadata": {
        "id": "58ujbsmxmJiG"
      },
      "outputs": [],
      "source": [
        "import nltk\n"
      ]
    },
    {
      "cell_type": "code",
      "execution_count": null,
      "metadata": {
        "colab": {
          "base_uri": "https://localhost:8080/"
        },
        "id": "ZxngDIsjmJrv",
        "outputId": "0b26ac6e-c168-4b9f-91b7-237833da1d5c"
      },
      "outputs": [
        {
          "name": "stderr",
          "output_type": "stream",
          "text": [
            "[nltk_data] Downloading package stopwords to /root/nltk_data...\n",
            "[nltk_data]   Unzipping corpora/stopwords.zip.\n"
          ]
        },
        {
          "data": {
            "text/plain": [
              "True"
            ]
          },
          "execution_count": 13,
          "metadata": {},
          "output_type": "execute_result"
        }
      ],
      "source": [
        "nltk.download('stopwords')"
      ]
    },
    {
      "cell_type": "code",
      "execution_count": null,
      "metadata": {
        "colab": {
          "base_uri": "https://localhost:8080/",
          "height": 123
        },
        "id": "5z0nKdl2mKE-",
        "outputId": "f8dc0464-27dd-4bc0-c117-87084896ef74"
      },
      "outputs": [
        {
          "data": {
            "application/vnd.google.colaboratory.intrinsic+json": {
              "type": "string"
            },
            "text/plain": [
              "\"i, me, my, myself, we, our, ours, ourselves, you, you're, you've, you'll, you'd, your, yours, yourself, yourselves, he, him, his, himself, she, she's, her, hers, herself, it, it's, its, itself, they, them, their, theirs, themselves, what, which, who, whom, this, that, that'll, these, those, am, is, are, was, were, be, been, being, have, has, had, having, do, does, did, doing, a, an, the, and, but, if, or, because, as, until, while, of, at, by, for, with, about, against, between, into, through, during, before, after, above, below, to, from, up, down, in, out, on, off, over, under, again, further, then, once, here, there, when, where, why, how, all, any, both, each, few, more, most, other, some, such, no, nor, not, only, own, same, so, than, too, very, s, t, can, will, just, don, don't, should, should've, now, d, ll, m, o, re, ve, y, ain, aren, aren't, couldn, couldn't, didn, didn't, doesn, doesn't, hadn, hadn't, hasn, hasn't, haven, haven't, isn, isn't, ma, mightn, mightn't, mustn, mustn't, needn, needn't, shan, shan't, shouldn, shouldn't, wasn, wasn't, weren, weren't, won, won't, wouldn, wouldn't\""
            ]
          },
          "execution_count": 14,
          "metadata": {},
          "output_type": "execute_result"
        }
      ],
      "source": [
        "from nltk.corpus import stopwords\n",
        "\", \".join(stopwords.words('english'))"
      ]
    },
    {
      "cell_type": "code",
      "execution_count": null,
      "metadata": {
        "id": "ngiYfLINmKMi"
      },
      "outputs": [],
      "source": [
        "STOPWORDS = set(stopwords.words('english'))\n",
        "def remove_stopwords(text):\n",
        "    \"\"\"custom function to remove the stopwords\"\"\"\n",
        "    return \" \".join([word for word in str(text).split() if word not in STOPWORDS])\n",
        "\n",
        "train_annot[\"text_wo_stop\"] = train_annot[\"text_wo_punct and lower\"].apply(lambda text: remove_stopwords(text))\n",
        "train_annot.head()\n",
        "\n",
        "test_data[\"text_wo_stop\"] = test_data[\"text_wo_punct and lower\"].apply(lambda text: remove_stopwords(text))"
      ]
    },
    {
      "cell_type": "markdown",
      "metadata": {
        "id": "Yl9lS1dPn4v3"
      },
      "source": [
        "**Removal of Frequent words**"
      ]
    },
    {
      "cell_type": "code",
      "execution_count": null,
      "metadata": {
        "colab": {
          "base_uri": "https://localhost:8080/"
        },
        "id": "tZRIxRYCmKX8",
        "outputId": "66ef5a31-366f-4841-93dd-8f3e6a543c60"
      },
      "outputs": [
        {
          "data": {
            "text/plain": [
              "[('hai', 2359),\n",
              " ('rape', 1815),\n",
              " ('ki', 1288),\n",
              " ('ko', 1215),\n",
              " ('ka', 1164),\n",
              " ('hate', 1125),\n",
              " ('ke', 1078),\n",
              " ('se', 956),\n",
              " ('ho', 859),\n",
              " ('aur', 790)]"
            ]
          },
          "execution_count": 16,
          "metadata": {},
          "output_type": "execute_result"
        }
      ],
      "source": [
        "from collections import Counter\n",
        "cnt = Counter()\n",
        "for text in train_annot[\"text_wo_stop\"].values:\n",
        "    for word in text.split():\n",
        "        cnt[word] += 1\n",
        "        \n",
        "cnt.most_common(10)"
      ]
    },
    {
      "cell_type": "code",
      "execution_count": null,
      "metadata": {
        "colab": {
          "base_uri": "https://localhost:8080/",
          "height": 337
        },
        "id": "6KirqynvmKij",
        "outputId": "9a5ae0ba-8f3e-4c79-f03e-99f6e80457b1"
      },
      "outputs": [
        {
          "data": {
            "text/html": [
              "\n",
              "  <div id=\"df-a2f7ba02-2099-452d-bf5d-10ae7b80f5cf\">\n",
              "    <div class=\"colab-df-container\">\n",
              "      <div>\n",
              "<style scoped>\n",
              "    .dataframe tbody tr th:only-of-type {\n",
              "        vertical-align: middle;\n",
              "    }\n",
              "\n",
              "    .dataframe tbody tr th {\n",
              "        vertical-align: top;\n",
              "    }\n",
              "\n",
              "    .dataframe thead th {\n",
              "        text-align: right;\n",
              "    }\n",
              "</style>\n",
              "<table border=\"1\" class=\"dataframe\">\n",
              "  <thead>\n",
              "    <tr style=\"text-align: right;\">\n",
              "      <th></th>\n",
              "      <th>text</th>\n",
              "      <th>label</th>\n",
              "      <th>text_len</th>\n",
              "      <th>text_lower</th>\n",
              "      <th>text_wo_punct and lower</th>\n",
              "      <th>text_wo_stop</th>\n",
              "      <th>text_wo_stopfreq</th>\n",
              "    </tr>\n",
              "  </thead>\n",
              "  <tbody>\n",
              "    <tr>\n",
              "      <th>0</th>\n",
              "      <td>Knowing ki Vikas kitna samjhata hai Priyanka a...</td>\n",
              "      <td>0</td>\n",
              "      <td>126</td>\n",
              "      <td>knowing ki vikas kitna samjhata hai priyanka a...</td>\n",
              "      <td>knowing ki vikas kitna samjhata hai priyanka a...</td>\n",
              "      <td>knowing ki vikas kitna samjhata hai priyanka a...</td>\n",
              "      <td>knowing vikas kitna samjhata priyanka itch gua...</td>\n",
              "    </tr>\n",
              "    <tr>\n",
              "      <th>1</th>\n",
              "      <td>I am Muhajir .. Aur mere lye sab se Pehly Paki...</td>\n",
              "      <td>0</td>\n",
              "      <td>196</td>\n",
              "      <td>i am muhajir .. aur mere lye sab se pehly paki...</td>\n",
              "      <td>i am muhajir  aur mere lye sab se pehly pakist...</td>\n",
              "      <td>muhajir aur mere lye sab se pehly pakistan agr...</td>\n",
              "      <td>muhajir mere lye sab pehly pakistan agr 10 lak...</td>\n",
              "    </tr>\n",
              "    <tr>\n",
              "      <th>2</th>\n",
              "      <td>Doctor  sab sahi me ke PhD (in hate politics) ...</td>\n",
              "      <td>0</td>\n",
              "      <td>166</td>\n",
              "      <td>doctor  sab sahi me ke phd (in hate politics) ...</td>\n",
              "      <td>doctor  sab sahi me ke phd in hate politics wa...</td>\n",
              "      <td>doctor sab sahi ke phd hate politics wale bhai...</td>\n",
              "      <td>doctor sab sahi phd politics wale bhai padhe l...</td>\n",
              "    </tr>\n",
              "    <tr>\n",
              "      <th>3</th>\n",
              "      <td>Poore Desh me Patel OBC me aate Hain sirf gujr...</td>\n",
              "      <td>0</td>\n",
              "      <td>257</td>\n",
              "      <td>poore desh me patel obc me aate hain sirf gujr...</td>\n",
              "      <td>poore desh me patel obc me aate hain sirf gujr...</td>\n",
              "      <td>poore desh patel obc aate hain sirf gujrat ko ...</td>\n",
              "      <td>poore desh patel obc aate hain sirf gujrat cho...</td>\n",
              "    </tr>\n",
              "    <tr>\n",
              "      <th>4</th>\n",
              "      <td>Sarkar banne ke bad Hindu hit me ek bhi faisla...</td>\n",
              "      <td>1</td>\n",
              "      <td>140</td>\n",
              "      <td>sarkar banne ke bad hindu hit me ek bhi faisla...</td>\n",
              "      <td>sarkar banne ke bad hindu hit me ek bhi faisla...</td>\n",
              "      <td>sarkar banne ke bad hindu hit ek bhi faisla jo...</td>\n",
              "      <td>sarkar banne bad hindu hit ek bhi faisla jo bj...</td>\n",
              "    </tr>\n",
              "  </tbody>\n",
              "</table>\n",
              "</div>\n",
              "      <button class=\"colab-df-convert\" onclick=\"convertToInteractive('df-a2f7ba02-2099-452d-bf5d-10ae7b80f5cf')\"\n",
              "              title=\"Convert this dataframe to an interactive table.\"\n",
              "              style=\"display:none;\">\n",
              "        \n",
              "  <svg xmlns=\"http://www.w3.org/2000/svg\" height=\"24px\"viewBox=\"0 0 24 24\"\n",
              "       width=\"24px\">\n",
              "    <path d=\"M0 0h24v24H0V0z\" fill=\"none\"/>\n",
              "    <path d=\"M18.56 5.44l.94 2.06.94-2.06 2.06-.94-2.06-.94-.94-2.06-.94 2.06-2.06.94zm-11 1L8.5 8.5l.94-2.06 2.06-.94-2.06-.94L8.5 2.5l-.94 2.06-2.06.94zm10 10l.94 2.06.94-2.06 2.06-.94-2.06-.94-.94-2.06-.94 2.06-2.06.94z\"/><path d=\"M17.41 7.96l-1.37-1.37c-.4-.4-.92-.59-1.43-.59-.52 0-1.04.2-1.43.59L10.3 9.45l-7.72 7.72c-.78.78-.78 2.05 0 2.83L4 21.41c.39.39.9.59 1.41.59.51 0 1.02-.2 1.41-.59l7.78-7.78 2.81-2.81c.8-.78.8-2.07 0-2.86zM5.41 20L4 18.59l7.72-7.72 1.47 1.35L5.41 20z\"/>\n",
              "  </svg>\n",
              "      </button>\n",
              "      \n",
              "  <style>\n",
              "    .colab-df-container {\n",
              "      display:flex;\n",
              "      flex-wrap:wrap;\n",
              "      gap: 12px;\n",
              "    }\n",
              "\n",
              "    .colab-df-convert {\n",
              "      background-color: #E8F0FE;\n",
              "      border: none;\n",
              "      border-radius: 50%;\n",
              "      cursor: pointer;\n",
              "      display: none;\n",
              "      fill: #1967D2;\n",
              "      height: 32px;\n",
              "      padding: 0 0 0 0;\n",
              "      width: 32px;\n",
              "    }\n",
              "\n",
              "    .colab-df-convert:hover {\n",
              "      background-color: #E2EBFA;\n",
              "      box-shadow: 0px 1px 2px rgba(60, 64, 67, 0.3), 0px 1px 3px 1px rgba(60, 64, 67, 0.15);\n",
              "      fill: #174EA6;\n",
              "    }\n",
              "\n",
              "    [theme=dark] .colab-df-convert {\n",
              "      background-color: #3B4455;\n",
              "      fill: #D2E3FC;\n",
              "    }\n",
              "\n",
              "    [theme=dark] .colab-df-convert:hover {\n",
              "      background-color: #434B5C;\n",
              "      box-shadow: 0px 1px 3px 1px rgba(0, 0, 0, 0.15);\n",
              "      filter: drop-shadow(0px 1px 2px rgba(0, 0, 0, 0.3));\n",
              "      fill: #FFFFFF;\n",
              "    }\n",
              "  </style>\n",
              "\n",
              "      <script>\n",
              "        const buttonEl =\n",
              "          document.querySelector('#df-a2f7ba02-2099-452d-bf5d-10ae7b80f5cf button.colab-df-convert');\n",
              "        buttonEl.style.display =\n",
              "          google.colab.kernel.accessAllowed ? 'block' : 'none';\n",
              "\n",
              "        async function convertToInteractive(key) {\n",
              "          const element = document.querySelector('#df-a2f7ba02-2099-452d-bf5d-10ae7b80f5cf');\n",
              "          const dataTable =\n",
              "            await google.colab.kernel.invokeFunction('convertToInteractive',\n",
              "                                                     [key], {});\n",
              "          if (!dataTable) return;\n",
              "\n",
              "          const docLinkHtml = 'Like what you see? Visit the ' +\n",
              "            '<a target=\"_blank\" href=https://colab.research.google.com/notebooks/data_table.ipynb>data table notebook</a>'\n",
              "            + ' to learn more about interactive tables.';\n",
              "          element.innerHTML = '';\n",
              "          dataTable['output_type'] = 'display_data';\n",
              "          await google.colab.output.renderOutput(dataTable, element);\n",
              "          const docLink = document.createElement('div');\n",
              "          docLink.innerHTML = docLinkHtml;\n",
              "          element.appendChild(docLink);\n",
              "        }\n",
              "      </script>\n",
              "    </div>\n",
              "  </div>\n",
              "  "
            ],
            "text/plain": [
              "                                                text  label  text_len  \\\n",
              "0  Knowing ki Vikas kitna samjhata hai Priyanka a...      0       126   \n",
              "1  I am Muhajir .. Aur mere lye sab se Pehly Paki...      0       196   \n",
              "2  Doctor  sab sahi me ke PhD (in hate politics) ...      0       166   \n",
              "3  Poore Desh me Patel OBC me aate Hain sirf gujr...      0       257   \n",
              "4  Sarkar banne ke bad Hindu hit me ek bhi faisla...      1       140   \n",
              "\n",
              "                                          text_lower  \\\n",
              "0  knowing ki vikas kitna samjhata hai priyanka a...   \n",
              "1  i am muhajir .. aur mere lye sab se pehly paki...   \n",
              "2  doctor  sab sahi me ke phd (in hate politics) ...   \n",
              "3  poore desh me patel obc me aate hain sirf gujr...   \n",
              "4  sarkar banne ke bad hindu hit me ek bhi faisla...   \n",
              "\n",
              "                             text_wo_punct and lower  \\\n",
              "0  knowing ki vikas kitna samjhata hai priyanka a...   \n",
              "1  i am muhajir  aur mere lye sab se pehly pakist...   \n",
              "2  doctor  sab sahi me ke phd in hate politics wa...   \n",
              "3  poore desh me patel obc me aate hain sirf gujr...   \n",
              "4  sarkar banne ke bad hindu hit me ek bhi faisla...   \n",
              "\n",
              "                                        text_wo_stop  \\\n",
              "0  knowing ki vikas kitna samjhata hai priyanka a...   \n",
              "1  muhajir aur mere lye sab se pehly pakistan agr...   \n",
              "2  doctor sab sahi ke phd hate politics wale bhai...   \n",
              "3  poore desh patel obc aate hain sirf gujrat ko ...   \n",
              "4  sarkar banne ke bad hindu hit ek bhi faisla jo...   \n",
              "\n",
              "                                    text_wo_stopfreq  \n",
              "0  knowing vikas kitna samjhata priyanka itch gua...  \n",
              "1  muhajir mere lye sab pehly pakistan agr 10 lak...  \n",
              "2  doctor sab sahi phd politics wale bhai padhe l...  \n",
              "3  poore desh patel obc aate hain sirf gujrat cho...  \n",
              "4  sarkar banne bad hindu hit ek bhi faisla jo bj...  "
            ]
          },
          "execution_count": 17,
          "metadata": {},
          "output_type": "execute_result"
        }
      ],
      "source": [
        "FREQWORDS = set([w for (w, wc) in cnt.most_common(10)])\n",
        "def remove_freqwords(text):\n",
        "    \"\"\"custom function to remove the frequent words\"\"\"\n",
        "    return \" \".join([word for word in str(text).split() if word not in FREQWORDS])\n",
        "\n",
        "train_annot[\"text_wo_stopfreq\"] = train_annot[\"text_wo_stop\"].apply(lambda text: remove_freqwords(text))\n",
        "train_annot.head()"
      ]
    },
    {
      "cell_type": "code",
      "execution_count": null,
      "metadata": {
        "colab": {
          "base_uri": "https://localhost:8080/",
          "height": 337
        },
        "id": "eGdQ2rM4mKrh",
        "outputId": "f3e55550-fa97-44ea-8e82-14cda23f3758"
      },
      "outputs": [
        {
          "data": {
            "text/html": [
              "\n",
              "  <div id=\"df-b659e76f-51c6-4ca6-ae11-97f763ee4bf9\">\n",
              "    <div class=\"colab-df-container\">\n",
              "      <div>\n",
              "<style scoped>\n",
              "    .dataframe tbody tr th:only-of-type {\n",
              "        vertical-align: middle;\n",
              "    }\n",
              "\n",
              "    .dataframe tbody tr th {\n",
              "        vertical-align: top;\n",
              "    }\n",
              "\n",
              "    .dataframe thead th {\n",
              "        text-align: right;\n",
              "    }\n",
              "</style>\n",
              "<table border=\"1\" class=\"dataframe\">\n",
              "  <thead>\n",
              "    <tr style=\"text-align: right;\">\n",
              "      <th></th>\n",
              "      <th>text</th>\n",
              "      <th>label</th>\n",
              "      <th>text_len</th>\n",
              "      <th>text_lower</th>\n",
              "      <th>text_wo_punct and lower</th>\n",
              "      <th>text_wo_stop</th>\n",
              "      <th>text_wo_stopfreq</th>\n",
              "      <th>text_wo_stopfreqrare</th>\n",
              "    </tr>\n",
              "  </thead>\n",
              "  <tbody>\n",
              "    <tr>\n",
              "      <th>0</th>\n",
              "      <td>Knowing ki Vikas kitna samjhata hai Priyanka a...</td>\n",
              "      <td>0</td>\n",
              "      <td>126</td>\n",
              "      <td>knowing ki vikas kitna samjhata hai priyanka a...</td>\n",
              "      <td>knowing ki vikas kitna samjhata hai priyanka a...</td>\n",
              "      <td>knowing ki vikas kitna samjhata hai priyanka a...</td>\n",
              "      <td>knowing vikas kitna samjhata priyanka itch gua...</td>\n",
              "      <td>knowing vikas kitna samjhata priyanka itch gua...</td>\n",
              "    </tr>\n",
              "    <tr>\n",
              "      <th>1</th>\n",
              "      <td>I am Muhajir .. Aur mere lye sab se Pehly Paki...</td>\n",
              "      <td>0</td>\n",
              "      <td>196</td>\n",
              "      <td>i am muhajir .. aur mere lye sab se pehly paki...</td>\n",
              "      <td>i am muhajir  aur mere lye sab se pehly pakist...</td>\n",
              "      <td>muhajir aur mere lye sab se pehly pakistan agr...</td>\n",
              "      <td>muhajir mere lye sab pehly pakistan agr 10 lak...</td>\n",
              "      <td>muhajir mere lye sab pehly pakistan agr 10 lak...</td>\n",
              "    </tr>\n",
              "    <tr>\n",
              "      <th>2</th>\n",
              "      <td>Doctor  sab sahi me ke PhD (in hate politics) ...</td>\n",
              "      <td>0</td>\n",
              "      <td>166</td>\n",
              "      <td>doctor  sab sahi me ke phd (in hate politics) ...</td>\n",
              "      <td>doctor  sab sahi me ke phd in hate politics wa...</td>\n",
              "      <td>doctor sab sahi ke phd hate politics wale bhai...</td>\n",
              "      <td>doctor sab sahi phd politics wale bhai padhe l...</td>\n",
              "      <td>doctor sab sahi phd politics wale bhai padhe l...</td>\n",
              "    </tr>\n",
              "    <tr>\n",
              "      <th>3</th>\n",
              "      <td>Poore Desh me Patel OBC me aate Hain sirf gujr...</td>\n",
              "      <td>0</td>\n",
              "      <td>257</td>\n",
              "      <td>poore desh me patel obc me aate hain sirf gujr...</td>\n",
              "      <td>poore desh me patel obc me aate hain sirf gujr...</td>\n",
              "      <td>poore desh patel obc aate hain sirf gujrat ko ...</td>\n",
              "      <td>poore desh patel obc aate hain sirf gujrat cho...</td>\n",
              "      <td>poore desh patel obc aate hain sirf gujrat cho...</td>\n",
              "    </tr>\n",
              "    <tr>\n",
              "      <th>4</th>\n",
              "      <td>Sarkar banne ke bad Hindu hit me ek bhi faisla...</td>\n",
              "      <td>1</td>\n",
              "      <td>140</td>\n",
              "      <td>sarkar banne ke bad hindu hit me ek bhi faisla...</td>\n",
              "      <td>sarkar banne ke bad hindu hit me ek bhi faisla...</td>\n",
              "      <td>sarkar banne ke bad hindu hit ek bhi faisla jo...</td>\n",
              "      <td>sarkar banne bad hindu hit ek bhi faisla jo bj...</td>\n",
              "      <td>sarkar banne bad hindu hit ek bhi faisla jo bj...</td>\n",
              "    </tr>\n",
              "  </tbody>\n",
              "</table>\n",
              "</div>\n",
              "      <button class=\"colab-df-convert\" onclick=\"convertToInteractive('df-b659e76f-51c6-4ca6-ae11-97f763ee4bf9')\"\n",
              "              title=\"Convert this dataframe to an interactive table.\"\n",
              "              style=\"display:none;\">\n",
              "        \n",
              "  <svg xmlns=\"http://www.w3.org/2000/svg\" height=\"24px\"viewBox=\"0 0 24 24\"\n",
              "       width=\"24px\">\n",
              "    <path d=\"M0 0h24v24H0V0z\" fill=\"none\"/>\n",
              "    <path d=\"M18.56 5.44l.94 2.06.94-2.06 2.06-.94-2.06-.94-.94-2.06-.94 2.06-2.06.94zm-11 1L8.5 8.5l.94-2.06 2.06-.94-2.06-.94L8.5 2.5l-.94 2.06-2.06.94zm10 10l.94 2.06.94-2.06 2.06-.94-2.06-.94-.94-2.06-.94 2.06-2.06.94z\"/><path d=\"M17.41 7.96l-1.37-1.37c-.4-.4-.92-.59-1.43-.59-.52 0-1.04.2-1.43.59L10.3 9.45l-7.72 7.72c-.78.78-.78 2.05 0 2.83L4 21.41c.39.39.9.59 1.41.59.51 0 1.02-.2 1.41-.59l7.78-7.78 2.81-2.81c.8-.78.8-2.07 0-2.86zM5.41 20L4 18.59l7.72-7.72 1.47 1.35L5.41 20z\"/>\n",
              "  </svg>\n",
              "      </button>\n",
              "      \n",
              "  <style>\n",
              "    .colab-df-container {\n",
              "      display:flex;\n",
              "      flex-wrap:wrap;\n",
              "      gap: 12px;\n",
              "    }\n",
              "\n",
              "    .colab-df-convert {\n",
              "      background-color: #E8F0FE;\n",
              "      border: none;\n",
              "      border-radius: 50%;\n",
              "      cursor: pointer;\n",
              "      display: none;\n",
              "      fill: #1967D2;\n",
              "      height: 32px;\n",
              "      padding: 0 0 0 0;\n",
              "      width: 32px;\n",
              "    }\n",
              "\n",
              "    .colab-df-convert:hover {\n",
              "      background-color: #E2EBFA;\n",
              "      box-shadow: 0px 1px 2px rgba(60, 64, 67, 0.3), 0px 1px 3px 1px rgba(60, 64, 67, 0.15);\n",
              "      fill: #174EA6;\n",
              "    }\n",
              "\n",
              "    [theme=dark] .colab-df-convert {\n",
              "      background-color: #3B4455;\n",
              "      fill: #D2E3FC;\n",
              "    }\n",
              "\n",
              "    [theme=dark] .colab-df-convert:hover {\n",
              "      background-color: #434B5C;\n",
              "      box-shadow: 0px 1px 3px 1px rgba(0, 0, 0, 0.15);\n",
              "      filter: drop-shadow(0px 1px 2px rgba(0, 0, 0, 0.3));\n",
              "      fill: #FFFFFF;\n",
              "    }\n",
              "  </style>\n",
              "\n",
              "      <script>\n",
              "        const buttonEl =\n",
              "          document.querySelector('#df-b659e76f-51c6-4ca6-ae11-97f763ee4bf9 button.colab-df-convert');\n",
              "        buttonEl.style.display =\n",
              "          google.colab.kernel.accessAllowed ? 'block' : 'none';\n",
              "\n",
              "        async function convertToInteractive(key) {\n",
              "          const element = document.querySelector('#df-b659e76f-51c6-4ca6-ae11-97f763ee4bf9');\n",
              "          const dataTable =\n",
              "            await google.colab.kernel.invokeFunction('convertToInteractive',\n",
              "                                                     [key], {});\n",
              "          if (!dataTable) return;\n",
              "\n",
              "          const docLinkHtml = 'Like what you see? Visit the ' +\n",
              "            '<a target=\"_blank\" href=https://colab.research.google.com/notebooks/data_table.ipynb>data table notebook</a>'\n",
              "            + ' to learn more about interactive tables.';\n",
              "          element.innerHTML = '';\n",
              "          dataTable['output_type'] = 'display_data';\n",
              "          await google.colab.output.renderOutput(dataTable, element);\n",
              "          const docLink = document.createElement('div');\n",
              "          docLink.innerHTML = docLinkHtml;\n",
              "          element.appendChild(docLink);\n",
              "        }\n",
              "      </script>\n",
              "    </div>\n",
              "  </div>\n",
              "  "
            ],
            "text/plain": [
              "                                                text  label  text_len  \\\n",
              "0  Knowing ki Vikas kitna samjhata hai Priyanka a...      0       126   \n",
              "1  I am Muhajir .. Aur mere lye sab se Pehly Paki...      0       196   \n",
              "2  Doctor  sab sahi me ke PhD (in hate politics) ...      0       166   \n",
              "3  Poore Desh me Patel OBC me aate Hain sirf gujr...      0       257   \n",
              "4  Sarkar banne ke bad Hindu hit me ek bhi faisla...      1       140   \n",
              "\n",
              "                                          text_lower  \\\n",
              "0  knowing ki vikas kitna samjhata hai priyanka a...   \n",
              "1  i am muhajir .. aur mere lye sab se pehly paki...   \n",
              "2  doctor  sab sahi me ke phd (in hate politics) ...   \n",
              "3  poore desh me patel obc me aate hain sirf gujr...   \n",
              "4  sarkar banne ke bad hindu hit me ek bhi faisla...   \n",
              "\n",
              "                             text_wo_punct and lower  \\\n",
              "0  knowing ki vikas kitna samjhata hai priyanka a...   \n",
              "1  i am muhajir  aur mere lye sab se pehly pakist...   \n",
              "2  doctor  sab sahi me ke phd in hate politics wa...   \n",
              "3  poore desh me patel obc me aate hain sirf gujr...   \n",
              "4  sarkar banne ke bad hindu hit me ek bhi faisla...   \n",
              "\n",
              "                                        text_wo_stop  \\\n",
              "0  knowing ki vikas kitna samjhata hai priyanka a...   \n",
              "1  muhajir aur mere lye sab se pehly pakistan agr...   \n",
              "2  doctor sab sahi ke phd hate politics wale bhai...   \n",
              "3  poore desh patel obc aate hain sirf gujrat ko ...   \n",
              "4  sarkar banne ke bad hindu hit ek bhi faisla jo...   \n",
              "\n",
              "                                    text_wo_stopfreq  \\\n",
              "0  knowing vikas kitna samjhata priyanka itch gua...   \n",
              "1  muhajir mere lye sab pehly pakistan agr 10 lak...   \n",
              "2  doctor sab sahi phd politics wale bhai padhe l...   \n",
              "3  poore desh patel obc aate hain sirf gujrat cho...   \n",
              "4  sarkar banne bad hindu hit ek bhi faisla jo bj...   \n",
              "\n",
              "                                text_wo_stopfreqrare  \n",
              "0  knowing vikas kitna samjhata priyanka itch gua...  \n",
              "1  muhajir mere lye sab pehly pakistan agr 10 lak...  \n",
              "2  doctor sab sahi phd politics wale bhai padhe l...  \n",
              "3  poore desh patel obc aate hain sirf gujrat cho...  \n",
              "4  sarkar banne bad hindu hit ek bhi faisla jo bj...  "
            ]
          },
          "execution_count": 18,
          "metadata": {},
          "output_type": "execute_result"
        }
      ],
      "source": [
        "\n",
        "n_rare_words = 10\n",
        "RAREWORDS = set([w for (w, wc) in cnt.most_common()[:-n_rare_words-1:-1]])\n",
        "def remove_rarewords(text):\n",
        "    \"\"\"custom function to remove the rare words\"\"\"\n",
        "    return \" \".join([word for word in str(text).split() if word not in RAREWORDS])\n",
        "\n",
        "train_annot[\"text_wo_stopfreqrare\"] = train_annot[\"text_wo_stopfreq\"].apply(lambda text: remove_rarewords(text))\n",
        "train_annot.head()"
      ]
    },
    {
      "cell_type": "code",
      "execution_count": null,
      "metadata": {
        "colab": {
          "base_uri": "https://localhost:8080/",
          "height": 337
        },
        "id": "_1AOR5AeLAlm",
        "outputId": "2c2986ce-4e79-4486-b61a-556d78ee967b"
      },
      "outputs": [
        {
          "data": {
            "text/html": [
              "\n",
              "  <div id=\"df-95e6060f-062f-419d-b30d-e251b22b76ce\">\n",
              "    <div class=\"colab-df-container\">\n",
              "      <div>\n",
              "<style scoped>\n",
              "    .dataframe tbody tr th:only-of-type {\n",
              "        vertical-align: middle;\n",
              "    }\n",
              "\n",
              "    .dataframe tbody tr th {\n",
              "        vertical-align: top;\n",
              "    }\n",
              "\n",
              "    .dataframe thead th {\n",
              "        text-align: right;\n",
              "    }\n",
              "</style>\n",
              "<table border=\"1\" class=\"dataframe\">\n",
              "  <thead>\n",
              "    <tr style=\"text-align: right;\">\n",
              "      <th></th>\n",
              "      <th>text</th>\n",
              "      <th>label</th>\n",
              "      <th>text_len</th>\n",
              "      <th>text_lower</th>\n",
              "      <th>text_wo_punct and lower</th>\n",
              "      <th>text_wo_stop</th>\n",
              "      <th>text_wo_stopfreq</th>\n",
              "      <th>text_wo_stopfreqrare</th>\n",
              "    </tr>\n",
              "  </thead>\n",
              "  <tbody>\n",
              "    <tr>\n",
              "      <th>0</th>\n",
              "      <td>#zulmkekhilaf SB k desh men me zulm rape n mur...</td>\n",
              "      <td>1</td>\n",
              "      <td>114</td>\n",
              "      <td>#zulmkekhilaf sb k desh men me zulm rape n mur...</td>\n",
              "      <td>zulmkekhilaf sb k desh men me zulm rape n murd...</td>\n",
              "      <td>zulmkekhilaf sb k desh men zulm rape n murder ...</td>\n",
              "      <td>zulmkekhilaf sb k desh men zulm n murder badh ...</td>\n",
              "      <td>zulmkekhilaf sb k desh men zulm n murder badh ...</td>\n",
              "    </tr>\n",
              "    <tr>\n",
              "      <th>1</th>\n",
              "      <td>Spread karne na karne se Kuchh nahi hota. Indi...</td>\n",
              "      <td>0</td>\n",
              "      <td>136</td>\n",
              "      <td>spread karne na karne se kuchh nahi hota. indi...</td>\n",
              "      <td>spread karne na karne se kuchh nahi hota india...</td>\n",
              "      <td>spread karne na karne se kuchh nahi hota india...</td>\n",
              "      <td>spread karne na karne kuchh nahi hota indians ...</td>\n",
              "      <td>spread karne na karne kuchh nahi hota indians ...</td>\n",
              "    </tr>\n",
              "    <tr>\n",
              "      <th>2</th>\n",
              "      <td>dhamki dene wale rape ki paidaish hi hain saale</td>\n",
              "      <td>1</td>\n",
              "      <td>47</td>\n",
              "      <td>dhamki dene wale rape ki paidaish hi hain saale</td>\n",
              "      <td>dhamki dene wale rape ki paidaish hi hain saale</td>\n",
              "      <td>dhamki dene wale rape ki paidaish hi hain saale</td>\n",
              "      <td>dhamki dene wale paidaish hi hain saale</td>\n",
              "      <td>dhamki dene wale paidaish hi hain saale</td>\n",
              "    </tr>\n",
              "    <tr>\n",
              "      <th>3</th>\n",
              "      <td>Yogi tere raj me roze dar ladki ka rape hua !!</td>\n",
              "      <td>0</td>\n",
              "      <td>46</td>\n",
              "      <td>yogi tere raj me roze dar ladki ka rape hua !!</td>\n",
              "      <td>yogi tere raj me roze dar ladki ka rape hua</td>\n",
              "      <td>yogi tere raj roze dar ladki ka rape hua</td>\n",
              "      <td>yogi tere raj roze dar ladki hua</td>\n",
              "      <td>yogi tere raj roze dar ladki hua</td>\n",
              "    </tr>\n",
              "    <tr>\n",
              "      <th>4</th>\n",
              "      <td>Waha to awaz nahi nikalti hai kyuki wo rape hi...</td>\n",
              "      <td>1</td>\n",
              "      <td>135</td>\n",
              "      <td>waha to awaz nahi nikalti hai kyuki wo rape hi...</td>\n",
              "      <td>waha to awaz nahi nikalti hai kyuki wo rape hi...</td>\n",
              "      <td>waha awaz nahi nikalti hai kyuki wo rape hindu...</td>\n",
              "      <td>waha awaz nahi nikalti kyuki wo hindu bhai ne ...</td>\n",
              "      <td>waha awaz nahi nikalti kyuki wo hindu bhai ne ...</td>\n",
              "    </tr>\n",
              "  </tbody>\n",
              "</table>\n",
              "</div>\n",
              "      <button class=\"colab-df-convert\" onclick=\"convertToInteractive('df-95e6060f-062f-419d-b30d-e251b22b76ce')\"\n",
              "              title=\"Convert this dataframe to an interactive table.\"\n",
              "              style=\"display:none;\">\n",
              "        \n",
              "  <svg xmlns=\"http://www.w3.org/2000/svg\" height=\"24px\"viewBox=\"0 0 24 24\"\n",
              "       width=\"24px\">\n",
              "    <path d=\"M0 0h24v24H0V0z\" fill=\"none\"/>\n",
              "    <path d=\"M18.56 5.44l.94 2.06.94-2.06 2.06-.94-2.06-.94-.94-2.06-.94 2.06-2.06.94zm-11 1L8.5 8.5l.94-2.06 2.06-.94-2.06-.94L8.5 2.5l-.94 2.06-2.06.94zm10 10l.94 2.06.94-2.06 2.06-.94-2.06-.94-.94-2.06-.94 2.06-2.06.94z\"/><path d=\"M17.41 7.96l-1.37-1.37c-.4-.4-.92-.59-1.43-.59-.52 0-1.04.2-1.43.59L10.3 9.45l-7.72 7.72c-.78.78-.78 2.05 0 2.83L4 21.41c.39.39.9.59 1.41.59.51 0 1.02-.2 1.41-.59l7.78-7.78 2.81-2.81c.8-.78.8-2.07 0-2.86zM5.41 20L4 18.59l7.72-7.72 1.47 1.35L5.41 20z\"/>\n",
              "  </svg>\n",
              "      </button>\n",
              "      \n",
              "  <style>\n",
              "    .colab-df-container {\n",
              "      display:flex;\n",
              "      flex-wrap:wrap;\n",
              "      gap: 12px;\n",
              "    }\n",
              "\n",
              "    .colab-df-convert {\n",
              "      background-color: #E8F0FE;\n",
              "      border: none;\n",
              "      border-radius: 50%;\n",
              "      cursor: pointer;\n",
              "      display: none;\n",
              "      fill: #1967D2;\n",
              "      height: 32px;\n",
              "      padding: 0 0 0 0;\n",
              "      width: 32px;\n",
              "    }\n",
              "\n",
              "    .colab-df-convert:hover {\n",
              "      background-color: #E2EBFA;\n",
              "      box-shadow: 0px 1px 2px rgba(60, 64, 67, 0.3), 0px 1px 3px 1px rgba(60, 64, 67, 0.15);\n",
              "      fill: #174EA6;\n",
              "    }\n",
              "\n",
              "    [theme=dark] .colab-df-convert {\n",
              "      background-color: #3B4455;\n",
              "      fill: #D2E3FC;\n",
              "    }\n",
              "\n",
              "    [theme=dark] .colab-df-convert:hover {\n",
              "      background-color: #434B5C;\n",
              "      box-shadow: 0px 1px 3px 1px rgba(0, 0, 0, 0.15);\n",
              "      filter: drop-shadow(0px 1px 2px rgba(0, 0, 0, 0.3));\n",
              "      fill: #FFFFFF;\n",
              "    }\n",
              "  </style>\n",
              "\n",
              "      <script>\n",
              "        const buttonEl =\n",
              "          document.querySelector('#df-95e6060f-062f-419d-b30d-e251b22b76ce button.colab-df-convert');\n",
              "        buttonEl.style.display =\n",
              "          google.colab.kernel.accessAllowed ? 'block' : 'none';\n",
              "\n",
              "        async function convertToInteractive(key) {\n",
              "          const element = document.querySelector('#df-95e6060f-062f-419d-b30d-e251b22b76ce');\n",
              "          const dataTable =\n",
              "            await google.colab.kernel.invokeFunction('convertToInteractive',\n",
              "                                                     [key], {});\n",
              "          if (!dataTable) return;\n",
              "\n",
              "          const docLinkHtml = 'Like what you see? Visit the ' +\n",
              "            '<a target=\"_blank\" href=https://colab.research.google.com/notebooks/data_table.ipynb>data table notebook</a>'\n",
              "            + ' to learn more about interactive tables.';\n",
              "          element.innerHTML = '';\n",
              "          dataTable['output_type'] = 'display_data';\n",
              "          await google.colab.output.renderOutput(dataTable, element);\n",
              "          const docLink = document.createElement('div');\n",
              "          docLink.innerHTML = docLinkHtml;\n",
              "          element.appendChild(docLink);\n",
              "        }\n",
              "      </script>\n",
              "    </div>\n",
              "  </div>\n",
              "  "
            ],
            "text/plain": [
              "                                                text  label  text_len  \\\n",
              "0  #zulmkekhilaf SB k desh men me zulm rape n mur...      1       114   \n",
              "1  Spread karne na karne se Kuchh nahi hota. Indi...      0       136   \n",
              "2    dhamki dene wale rape ki paidaish hi hain saale      1        47   \n",
              "3     Yogi tere raj me roze dar ladki ka rape hua !!      0        46   \n",
              "4  Waha to awaz nahi nikalti hai kyuki wo rape hi...      1       135   \n",
              "\n",
              "                                          text_lower  \\\n",
              "0  #zulmkekhilaf sb k desh men me zulm rape n mur...   \n",
              "1  spread karne na karne se kuchh nahi hota. indi...   \n",
              "2    dhamki dene wale rape ki paidaish hi hain saale   \n",
              "3     yogi tere raj me roze dar ladki ka rape hua !!   \n",
              "4  waha to awaz nahi nikalti hai kyuki wo rape hi...   \n",
              "\n",
              "                             text_wo_punct and lower  \\\n",
              "0  zulmkekhilaf sb k desh men me zulm rape n murd...   \n",
              "1  spread karne na karne se kuchh nahi hota india...   \n",
              "2    dhamki dene wale rape ki paidaish hi hain saale   \n",
              "3       yogi tere raj me roze dar ladki ka rape hua    \n",
              "4  waha to awaz nahi nikalti hai kyuki wo rape hi...   \n",
              "\n",
              "                                        text_wo_stop  \\\n",
              "0  zulmkekhilaf sb k desh men zulm rape n murder ...   \n",
              "1  spread karne na karne se kuchh nahi hota india...   \n",
              "2    dhamki dene wale rape ki paidaish hi hain saale   \n",
              "3           yogi tere raj roze dar ladki ka rape hua   \n",
              "4  waha awaz nahi nikalti hai kyuki wo rape hindu...   \n",
              "\n",
              "                                    text_wo_stopfreq  \\\n",
              "0  zulmkekhilaf sb k desh men zulm n murder badh ...   \n",
              "1  spread karne na karne kuchh nahi hota indians ...   \n",
              "2            dhamki dene wale paidaish hi hain saale   \n",
              "3                   yogi tere raj roze dar ladki hua   \n",
              "4  waha awaz nahi nikalti kyuki wo hindu bhai ne ...   \n",
              "\n",
              "                                text_wo_stopfreqrare  \n",
              "0  zulmkekhilaf sb k desh men zulm n murder badh ...  \n",
              "1  spread karne na karne kuchh nahi hota indians ...  \n",
              "2            dhamki dene wale paidaish hi hain saale  \n",
              "3                   yogi tere raj roze dar ladki hua  \n",
              "4  waha awaz nahi nikalti kyuki wo hindu bhai ne ...  "
            ]
          },
          "execution_count": 19,
          "metadata": {},
          "output_type": "execute_result"
        }
      ],
      "source": [
        "from collections import Counter\n",
        "cnt_test = Counter()\n",
        "for text in test_data[\"text_wo_stop\"].values:\n",
        "    for word in text.split():\n",
        "        cnt_test[word] += 1\n",
        "        \n",
        "cnt_test.most_common(10)\n",
        "\n",
        "FREQWORDS_test = set([w for (w, wc) in cnt_test.most_common(10)])\n",
        "def remove_freqwords_test(text):\n",
        "    \"\"\"custom function to remove the frequent words\"\"\"\n",
        "    return \" \".join([word for word in str(text).split() if word not in FREQWORDS_test])\n",
        "\n",
        "test_data[\"text_wo_stopfreq\"] = test_data[\"text_wo_stop\"].apply(lambda text: remove_freqwords_test(text))\n",
        "test_data.head()\n",
        "\n",
        "n_rare_words_test = 10\n",
        "RAREWORDS_test = set([w for (w, wc) in cnt_test.most_common()[:-n_rare_words-1:-1]])\n",
        "def remove_rarewords_test(text):\n",
        "    \"\"\"custom function to remove the rare words\"\"\"\n",
        "    return \" \".join([word for word in str(text).split() if word not in RAREWORDS_test])\n",
        "\n",
        "test_data[\"text_wo_stopfreqrare\"] = test_data[\"text_wo_stopfreq\"].apply(lambda text: remove_rarewords_test(text))\n",
        "test_data.head()"
      ]
    },
    {
      "cell_type": "markdown",
      "metadata": {
        "id": "fM_Pj3KAp4SK"
      },
      "source": [
        "**Stemming**"
      ]
    },
    {
      "cell_type": "code",
      "execution_count": null,
      "metadata": {
        "id": "x6Aq2pWap8fD"
      },
      "outputs": [],
      "source": [
        "from nltk.stem.porter import PorterStemmer\n",
        "stemmer = PorterStemmer()\n",
        "def stem_words(text):\n",
        "    return \" \".join([stemmer.stem(word) for word in text.split()])\n",
        "\n",
        "train_annot[\"Clean_text\"] = train_annot[\"text_wo_stopfreqrare\"].apply(lambda text: stem_words(text))\n",
        "train_annot.head()\n",
        "\n",
        "test_data[\"Clean_text\"] = test_data[\"text_wo_stopfreqrare\"].apply(lambda text: stem_words(text))"
      ]
    },
    {
      "cell_type": "markdown",
      "metadata": {
        "id": "Gc8T6ejFqm22"
      },
      "source": [
        "**Removal of Emojis**"
      ]
    },
    {
      "cell_type": "code",
      "execution_count": null,
      "metadata": {
        "colab": {
          "base_uri": "https://localhost:8080/",
          "height": 36
        },
        "id": "9ef-jhvip8t9",
        "outputId": "9dd45bd7-ae5c-4c5f-ef0e-48104bd969ac"
      },
      "outputs": [
        {
          "data": {
            "application/vnd.google.colaboratory.intrinsic+json": {
              "type": "string"
            },
            "text/plain": [
              "'game is on '"
            ]
          },
          "execution_count": 21,
          "metadata": {},
          "output_type": "execute_result"
        }
      ],
      "source": [
        "def remove_emoji(string):\n",
        "    emoji_pattern = re.compile(\"[\"\n",
        "                           u\"\\U0001F600-\\U0001F64F\"  # emoticons\n",
        "                           u\"\\U0001F300-\\U0001F5FF\"  # symbols & pictographs\n",
        "                           u\"\\U0001F680-\\U0001F6FF\"  # transport & map symbols\n",
        "                           u\"\\U0001F1E0-\\U0001F1FF\"  # flags (iOS)\n",
        "                           u\"\\U00002702-\\U000027B0\"\n",
        "                           u\"\\U000024C2-\\U0001F251\"\n",
        "                           \"]+\", flags=re.UNICODE)\n",
        "    return emoji_pattern.sub(r'', string)\n",
        "\n",
        "remove_emoji(\"game is on 🔥🔥\")"
      ]
    },
    {
      "cell_type": "code",
      "execution_count": null,
      "metadata": {
        "colab": {
          "base_uri": "https://localhost:8080/",
          "height": 36
        },
        "id": "WfARanfsp86V",
        "outputId": "3dcf295d-d898-4130-e857-0c8de4e774c6"
      },
      "outputs": [
        {
          "data": {
            "application/vnd.google.colaboratory.intrinsic+json": {
              "type": "string"
            },
            "text/plain": [
              "'Hilarious'"
            ]
          },
          "execution_count": 22,
          "metadata": {},
          "output_type": "execute_result"
        }
      ],
      "source": [
        "remove_emoji(\"Hilarious😂\")"
      ]
    },
    {
      "cell_type": "markdown",
      "metadata": {
        "id": "ac0EZ6ICq5OU"
      },
      "source": [
        "**Removal of Emoticons**"
      ]
    },
    {
      "cell_type": "code",
      "execution_count": null,
      "metadata": {
        "id": "BXxn6D2Yp9EM"
      },
      "outputs": [],
      "source": [
        "EMOTICONS = {\n",
        "    u\":‑\\)\":\"Happy face or smiley\",\n",
        "    u\":\\)\":\"Happy face or smiley\",\n",
        "    u\":-\\]\":\"Happy face or smiley\",\n",
        "    u\":\\]\":\"Happy face or smiley\",\n",
        "    u\":-3\":\"Happy face smiley\",\n",
        "    u\":3\":\"Happy face smiley\",\n",
        "    u\":->\":\"Happy face smiley\",\n",
        "    u\":>\":\"Happy face smiley\",\n",
        "    u\"8-\\)\":\"Happy face smiley\",\n",
        "    u\":o\\)\":\"Happy face smiley\",\n",
        "    u\":-\\}\":\"Happy face smiley\",\n",
        "    u\":\\}\":\"Happy face smiley\",\n",
        "    u\":-\\)\":\"Happy face smiley\",\n",
        "    u\":c\\)\":\"Happy face smiley\",\n",
        "    u\":\\^\\)\":\"Happy face smiley\",\n",
        "    u\"=\\]\":\"Happy face smiley\",\n",
        "    u\"=\\)\":\"Happy face smiley\",\n",
        "    u\":‑D\":\"Laughing, big grin or laugh with glasses\",\n",
        "    u\":D\":\"Laughing, big grin or laugh with glasses\"\n",
        "}"
      ]
    },
    {
      "cell_type": "code",
      "execution_count": null,
      "metadata": {
        "colab": {
          "base_uri": "https://localhost:8080/",
          "height": 36
        },
        "id": "oSFWibAdp9Pp",
        "outputId": "29a6d1e4-b100-4cff-ca45-e4e847b62a3c"
      },
      "outputs": [
        {
          "data": {
            "application/vnd.google.colaboratory.intrinsic+json": {
              "type": "string"
            },
            "text/plain": [
              "'Hello '"
            ]
          },
          "execution_count": 24,
          "metadata": {},
          "output_type": "execute_result"
        }
      ],
      "source": [
        "def remove_emoticons(text):\n",
        "    emoticon_pattern = re.compile(u'(' + u'|'.join(k for k in EMOTICONS) + u')')\n",
        "    return emoticon_pattern.sub(r'', text)\n",
        "\n",
        "remove_emoticons(\"Hello :-)\")"
      ]
    },
    {
      "cell_type": "code",
      "execution_count": null,
      "metadata": {
        "id": "FVqaU98qs5Hx"
      },
      "outputs": [],
      "source": [
        "train_annot.drop([\"text_wo_stopfreq\", \"text_wo_stopfreqrare\",\"text_lower\",\"text_wo_punct and lower\"], axis=1, inplace=True) \n",
        "test_data.drop([\"text_wo_stopfreq\", \"text_wo_stopfreqrare\",\"text_lower\",\"text_wo_punct and lower\"], axis=1, inplace=True) "
      ]
    },
    {
      "cell_type": "code",
      "execution_count": null,
      "metadata": {
        "colab": {
          "base_uri": "https://localhost:8080/",
          "height": 206
        },
        "id": "7zM3oNDxs5UT",
        "outputId": "1bf1f844-d51a-4766-a617-99881f0e2d1f"
      },
      "outputs": [
        {
          "data": {
            "text/html": [
              "\n",
              "  <div id=\"df-2865c293-7ced-48d2-bed9-7855e0f37882\">\n",
              "    <div class=\"colab-df-container\">\n",
              "      <div>\n",
              "<style scoped>\n",
              "    .dataframe tbody tr th:only-of-type {\n",
              "        vertical-align: middle;\n",
              "    }\n",
              "\n",
              "    .dataframe tbody tr th {\n",
              "        vertical-align: top;\n",
              "    }\n",
              "\n",
              "    .dataframe thead th {\n",
              "        text-align: right;\n",
              "    }\n",
              "</style>\n",
              "<table border=\"1\" class=\"dataframe\">\n",
              "  <thead>\n",
              "    <tr style=\"text-align: right;\">\n",
              "      <th></th>\n",
              "      <th>text</th>\n",
              "      <th>label</th>\n",
              "      <th>text_len</th>\n",
              "      <th>text_wo_stop</th>\n",
              "      <th>Clean_text</th>\n",
              "    </tr>\n",
              "  </thead>\n",
              "  <tbody>\n",
              "    <tr>\n",
              "      <th>0</th>\n",
              "      <td>Knowing ki Vikas kitna samjhata hai Priyanka a...</td>\n",
              "      <td>0</td>\n",
              "      <td>126</td>\n",
              "      <td>knowing ki vikas kitna samjhata hai priyanka a...</td>\n",
              "      <td>know vika kitna samjhata priyanka itch guard l...</td>\n",
              "    </tr>\n",
              "    <tr>\n",
              "      <th>1</th>\n",
              "      <td>I am Muhajir .. Aur mere lye sab se Pehly Paki...</td>\n",
              "      <td>0</td>\n",
              "      <td>196</td>\n",
              "      <td>muhajir aur mere lye sab se pehly pakistan agr...</td>\n",
              "      <td>muhajir mere lye sab pehli pakistan agr 10 lak...</td>\n",
              "    </tr>\n",
              "    <tr>\n",
              "      <th>2</th>\n",
              "      <td>Doctor  sab sahi me ke PhD (in hate politics) ...</td>\n",
              "      <td>0</td>\n",
              "      <td>166</td>\n",
              "      <td>doctor sab sahi ke phd hate politics wale bhai...</td>\n",
              "      <td>doctor sab sahi phd polit wale bhai padh likh ...</td>\n",
              "    </tr>\n",
              "    <tr>\n",
              "      <th>3</th>\n",
              "      <td>Poore Desh me Patel OBC me aate Hain sirf gujr...</td>\n",
              "      <td>0</td>\n",
              "      <td>257</td>\n",
              "      <td>poore desh patel obc aate hain sirf gujrat ko ...</td>\n",
              "      <td>poor desh patel obc aat hain sirf gujrat chor ...</td>\n",
              "    </tr>\n",
              "    <tr>\n",
              "      <th>4</th>\n",
              "      <td>Sarkar banne ke bad Hindu hit me ek bhi faisla...</td>\n",
              "      <td>1</td>\n",
              "      <td>140</td>\n",
              "      <td>sarkar banne ke bad hindu hit ek bhi faisla jo...</td>\n",
              "      <td>sarkar bann bad hindu hit ek bhi faisla jo bjp...</td>\n",
              "    </tr>\n",
              "  </tbody>\n",
              "</table>\n",
              "</div>\n",
              "      <button class=\"colab-df-convert\" onclick=\"convertToInteractive('df-2865c293-7ced-48d2-bed9-7855e0f37882')\"\n",
              "              title=\"Convert this dataframe to an interactive table.\"\n",
              "              style=\"display:none;\">\n",
              "        \n",
              "  <svg xmlns=\"http://www.w3.org/2000/svg\" height=\"24px\"viewBox=\"0 0 24 24\"\n",
              "       width=\"24px\">\n",
              "    <path d=\"M0 0h24v24H0V0z\" fill=\"none\"/>\n",
              "    <path d=\"M18.56 5.44l.94 2.06.94-2.06 2.06-.94-2.06-.94-.94-2.06-.94 2.06-2.06.94zm-11 1L8.5 8.5l.94-2.06 2.06-.94-2.06-.94L8.5 2.5l-.94 2.06-2.06.94zm10 10l.94 2.06.94-2.06 2.06-.94-2.06-.94-.94-2.06-.94 2.06-2.06.94z\"/><path d=\"M17.41 7.96l-1.37-1.37c-.4-.4-.92-.59-1.43-.59-.52 0-1.04.2-1.43.59L10.3 9.45l-7.72 7.72c-.78.78-.78 2.05 0 2.83L4 21.41c.39.39.9.59 1.41.59.51 0 1.02-.2 1.41-.59l7.78-7.78 2.81-2.81c.8-.78.8-2.07 0-2.86zM5.41 20L4 18.59l7.72-7.72 1.47 1.35L5.41 20z\"/>\n",
              "  </svg>\n",
              "      </button>\n",
              "      \n",
              "  <style>\n",
              "    .colab-df-container {\n",
              "      display:flex;\n",
              "      flex-wrap:wrap;\n",
              "      gap: 12px;\n",
              "    }\n",
              "\n",
              "    .colab-df-convert {\n",
              "      background-color: #E8F0FE;\n",
              "      border: none;\n",
              "      border-radius: 50%;\n",
              "      cursor: pointer;\n",
              "      display: none;\n",
              "      fill: #1967D2;\n",
              "      height: 32px;\n",
              "      padding: 0 0 0 0;\n",
              "      width: 32px;\n",
              "    }\n",
              "\n",
              "    .colab-df-convert:hover {\n",
              "      background-color: #E2EBFA;\n",
              "      box-shadow: 0px 1px 2px rgba(60, 64, 67, 0.3), 0px 1px 3px 1px rgba(60, 64, 67, 0.15);\n",
              "      fill: #174EA6;\n",
              "    }\n",
              "\n",
              "    [theme=dark] .colab-df-convert {\n",
              "      background-color: #3B4455;\n",
              "      fill: #D2E3FC;\n",
              "    }\n",
              "\n",
              "    [theme=dark] .colab-df-convert:hover {\n",
              "      background-color: #434B5C;\n",
              "      box-shadow: 0px 1px 3px 1px rgba(0, 0, 0, 0.15);\n",
              "      filter: drop-shadow(0px 1px 2px rgba(0, 0, 0, 0.3));\n",
              "      fill: #FFFFFF;\n",
              "    }\n",
              "  </style>\n",
              "\n",
              "      <script>\n",
              "        const buttonEl =\n",
              "          document.querySelector('#df-2865c293-7ced-48d2-bed9-7855e0f37882 button.colab-df-convert');\n",
              "        buttonEl.style.display =\n",
              "          google.colab.kernel.accessAllowed ? 'block' : 'none';\n",
              "\n",
              "        async function convertToInteractive(key) {\n",
              "          const element = document.querySelector('#df-2865c293-7ced-48d2-bed9-7855e0f37882');\n",
              "          const dataTable =\n",
              "            await google.colab.kernel.invokeFunction('convertToInteractive',\n",
              "                                                     [key], {});\n",
              "          if (!dataTable) return;\n",
              "\n",
              "          const docLinkHtml = 'Like what you see? Visit the ' +\n",
              "            '<a target=\"_blank\" href=https://colab.research.google.com/notebooks/data_table.ipynb>data table notebook</a>'\n",
              "            + ' to learn more about interactive tables.';\n",
              "          element.innerHTML = '';\n",
              "          dataTable['output_type'] = 'display_data';\n",
              "          await google.colab.output.renderOutput(dataTable, element);\n",
              "          const docLink = document.createElement('div');\n",
              "          docLink.innerHTML = docLinkHtml;\n",
              "          element.appendChild(docLink);\n",
              "        }\n",
              "      </script>\n",
              "    </div>\n",
              "  </div>\n",
              "  "
            ],
            "text/plain": [
              "                                                text  label  text_len  \\\n",
              "0  Knowing ki Vikas kitna samjhata hai Priyanka a...      0       126   \n",
              "1  I am Muhajir .. Aur mere lye sab se Pehly Paki...      0       196   \n",
              "2  Doctor  sab sahi me ke PhD (in hate politics) ...      0       166   \n",
              "3  Poore Desh me Patel OBC me aate Hain sirf gujr...      0       257   \n",
              "4  Sarkar banne ke bad Hindu hit me ek bhi faisla...      1       140   \n",
              "\n",
              "                                        text_wo_stop  \\\n",
              "0  knowing ki vikas kitna samjhata hai priyanka a...   \n",
              "1  muhajir aur mere lye sab se pehly pakistan agr...   \n",
              "2  doctor sab sahi ke phd hate politics wale bhai...   \n",
              "3  poore desh patel obc aate hain sirf gujrat ko ...   \n",
              "4  sarkar banne ke bad hindu hit ek bhi faisla jo...   \n",
              "\n",
              "                                          Clean_text  \n",
              "0  know vika kitna samjhata priyanka itch guard l...  \n",
              "1  muhajir mere lye sab pehli pakistan agr 10 lak...  \n",
              "2  doctor sab sahi phd polit wale bhai padh likh ...  \n",
              "3  poor desh patel obc aat hain sirf gujrat chor ...  \n",
              "4  sarkar bann bad hindu hit ek bhi faisla jo bjp...  "
            ]
          },
          "execution_count": 26,
          "metadata": {},
          "output_type": "execute_result"
        }
      ],
      "source": [
        "train_annot.head()"
      ]
    },
    {
      "cell_type": "code",
      "execution_count": null,
      "metadata": {
        "id": "5Jyk1-Qws5jR"
      },
      "outputs": [],
      "source": []
    },
    {
      "cell_type": "code",
      "execution_count": null,
      "metadata": {
        "colab": {
          "base_uri": "https://localhost:8080/",
          "height": 423
        },
        "id": "53ulmTFnsW6V",
        "outputId": "3ce9d0f5-4edc-4257-e94c-cb9285cd4bc2"
      },
      "outputs": [
        {
          "data": {
            "text/html": [
              "\n",
              "  <div id=\"df-1134a24d-10eb-4461-8966-75a5cdb62df5\">\n",
              "    <div class=\"colab-df-container\">\n",
              "      <div>\n",
              "<style scoped>\n",
              "    .dataframe tbody tr th:only-of-type {\n",
              "        vertical-align: middle;\n",
              "    }\n",
              "\n",
              "    .dataframe tbody tr th {\n",
              "        vertical-align: top;\n",
              "    }\n",
              "\n",
              "    .dataframe thead th {\n",
              "        text-align: right;\n",
              "    }\n",
              "</style>\n",
              "<table border=\"1\" class=\"dataframe\">\n",
              "  <thead>\n",
              "    <tr style=\"text-align: right;\">\n",
              "      <th></th>\n",
              "      <th>text</th>\n",
              "      <th>label</th>\n",
              "      <th>text_len</th>\n",
              "      <th>text_wo_stop</th>\n",
              "      <th>Clean_text</th>\n",
              "    </tr>\n",
              "  </thead>\n",
              "  <tbody>\n",
              "    <tr>\n",
              "      <th>0</th>\n",
              "      <td>Knowing ki Vikas kitna samjhata hai Priyanka a...</td>\n",
              "      <td>0</td>\n",
              "      <td>126</td>\n",
              "      <td>knowing ki vikas kitna samjhata hai priyanka a...</td>\n",
              "      <td>know vika kitna samjhata priyanka itch guard l...</td>\n",
              "    </tr>\n",
              "    <tr>\n",
              "      <th>1</th>\n",
              "      <td>I am Muhajir .. Aur mere lye sab se Pehly Paki...</td>\n",
              "      <td>0</td>\n",
              "      <td>196</td>\n",
              "      <td>muhajir aur mere lye sab se pehly pakistan agr...</td>\n",
              "      <td>muhajir mere lye sab pehli pakistan agr 10 lak...</td>\n",
              "    </tr>\n",
              "    <tr>\n",
              "      <th>2</th>\n",
              "      <td>Doctor  sab sahi me ke PhD (in hate politics) ...</td>\n",
              "      <td>0</td>\n",
              "      <td>166</td>\n",
              "      <td>doctor sab sahi ke phd hate politics wale bhai...</td>\n",
              "      <td>doctor sab sahi phd polit wale bhai padh likh ...</td>\n",
              "    </tr>\n",
              "    <tr>\n",
              "      <th>3</th>\n",
              "      <td>Poore Desh me Patel OBC me aate Hain sirf gujr...</td>\n",
              "      <td>0</td>\n",
              "      <td>257</td>\n",
              "      <td>poore desh patel obc aate hain sirf gujrat ko ...</td>\n",
              "      <td>poor desh patel obc aat hain sirf gujrat chor ...</td>\n",
              "    </tr>\n",
              "    <tr>\n",
              "      <th>4</th>\n",
              "      <td>Sarkar banne ke bad Hindu hit me ek bhi faisla...</td>\n",
              "      <td>1</td>\n",
              "      <td>140</td>\n",
              "      <td>sarkar banne ke bad hindu hit ek bhi faisla jo...</td>\n",
              "      <td>sarkar bann bad hindu hit ek bhi faisla jo bjp...</td>\n",
              "    </tr>\n",
              "    <tr>\n",
              "      <th>...</th>\n",
              "      <td>...</td>\n",
              "      <td>...</td>\n",
              "      <td>...</td>\n",
              "      <td>...</td>\n",
              "      <td>...</td>\n",
              "    </tr>\n",
              "    <tr>\n",
              "      <th>3722</th>\n",
              "      <td>pehle confirm karo ke Mohammad ne sach mein 8 ...</td>\n",
              "      <td>0</td>\n",
              "      <td>79</td>\n",
              "      <td>pehle confirm karo ke mohammad ne sach mein 8 ...</td>\n",
              "      <td>pehl confirm karo mohammad ne sach mein 8 saal...</td>\n",
              "    </tr>\n",
              "    <tr>\n",
              "      <th>3723</th>\n",
              "      <td>ye attankwadi Indian agent hai jo terrorism ph...</td>\n",
              "      <td>0</td>\n",
              "      <td>55</td>\n",
              "      <td>ye attankwadi indian agent hai jo terrorism ph...</td>\n",
              "      <td>ye indian agent jo terror phelat</td>\n",
              "    </tr>\n",
              "    <tr>\n",
              "      <th>3724</th>\n",
              "      <td>bola na terrorism ko support karna band karoge...</td>\n",
              "      <td>0</td>\n",
              "      <td>69</td>\n",
              "      <td>bola na terrorism ko support karna band karoge...</td>\n",
              "      <td>bola na terror support karna band karog tu kaa...</td>\n",
              "    </tr>\n",
              "    <tr>\n",
              "      <th>3725</th>\n",
              "      <td>lagta hai aap ne movie dekhi hai which is writ...</td>\n",
              "      <td>0</td>\n",
              "      <td>125</td>\n",
              "      <td>lagta hai aap ne movie dekhi hai written srk o...</td>\n",
              "      <td>lagta aap ne movi dekhi srk ne terror siva kuc...</td>\n",
              "    </tr>\n",
              "    <tr>\n",
              "      <th>3726</th>\n",
              "      <td>tum log terrorism ko support karna band kardo ...</td>\n",
              "      <td>0</td>\n",
              "      <td>65</td>\n",
              "      <td>tum log terrorism ko support karna band kardo ...</td>\n",
              "      <td>tum log terror support karna band kardo sabh t...</td>\n",
              "    </tr>\n",
              "  </tbody>\n",
              "</table>\n",
              "<p>3726 rows × 5 columns</p>\n",
              "</div>\n",
              "      <button class=\"colab-df-convert\" onclick=\"convertToInteractive('df-1134a24d-10eb-4461-8966-75a5cdb62df5')\"\n",
              "              title=\"Convert this dataframe to an interactive table.\"\n",
              "              style=\"display:none;\">\n",
              "        \n",
              "  <svg xmlns=\"http://www.w3.org/2000/svg\" height=\"24px\"viewBox=\"0 0 24 24\"\n",
              "       width=\"24px\">\n",
              "    <path d=\"M0 0h24v24H0V0z\" fill=\"none\"/>\n",
              "    <path d=\"M18.56 5.44l.94 2.06.94-2.06 2.06-.94-2.06-.94-.94-2.06-.94 2.06-2.06.94zm-11 1L8.5 8.5l.94-2.06 2.06-.94-2.06-.94L8.5 2.5l-.94 2.06-2.06.94zm10 10l.94 2.06.94-2.06 2.06-.94-2.06-.94-.94-2.06-.94 2.06-2.06.94z\"/><path d=\"M17.41 7.96l-1.37-1.37c-.4-.4-.92-.59-1.43-.59-.52 0-1.04.2-1.43.59L10.3 9.45l-7.72 7.72c-.78.78-.78 2.05 0 2.83L4 21.41c.39.39.9.59 1.41.59.51 0 1.02-.2 1.41-.59l7.78-7.78 2.81-2.81c.8-.78.8-2.07 0-2.86zM5.41 20L4 18.59l7.72-7.72 1.47 1.35L5.41 20z\"/>\n",
              "  </svg>\n",
              "      </button>\n",
              "      \n",
              "  <style>\n",
              "    .colab-df-container {\n",
              "      display:flex;\n",
              "      flex-wrap:wrap;\n",
              "      gap: 12px;\n",
              "    }\n",
              "\n",
              "    .colab-df-convert {\n",
              "      background-color: #E8F0FE;\n",
              "      border: none;\n",
              "      border-radius: 50%;\n",
              "      cursor: pointer;\n",
              "      display: none;\n",
              "      fill: #1967D2;\n",
              "      height: 32px;\n",
              "      padding: 0 0 0 0;\n",
              "      width: 32px;\n",
              "    }\n",
              "\n",
              "    .colab-df-convert:hover {\n",
              "      background-color: #E2EBFA;\n",
              "      box-shadow: 0px 1px 2px rgba(60, 64, 67, 0.3), 0px 1px 3px 1px rgba(60, 64, 67, 0.15);\n",
              "      fill: #174EA6;\n",
              "    }\n",
              "\n",
              "    [theme=dark] .colab-df-convert {\n",
              "      background-color: #3B4455;\n",
              "      fill: #D2E3FC;\n",
              "    }\n",
              "\n",
              "    [theme=dark] .colab-df-convert:hover {\n",
              "      background-color: #434B5C;\n",
              "      box-shadow: 0px 1px 3px 1px rgba(0, 0, 0, 0.15);\n",
              "      filter: drop-shadow(0px 1px 2px rgba(0, 0, 0, 0.3));\n",
              "      fill: #FFFFFF;\n",
              "    }\n",
              "  </style>\n",
              "\n",
              "      <script>\n",
              "        const buttonEl =\n",
              "          document.querySelector('#df-1134a24d-10eb-4461-8966-75a5cdb62df5 button.colab-df-convert');\n",
              "        buttonEl.style.display =\n",
              "          google.colab.kernel.accessAllowed ? 'block' : 'none';\n",
              "\n",
              "        async function convertToInteractive(key) {\n",
              "          const element = document.querySelector('#df-1134a24d-10eb-4461-8966-75a5cdb62df5');\n",
              "          const dataTable =\n",
              "            await google.colab.kernel.invokeFunction('convertToInteractive',\n",
              "                                                     [key], {});\n",
              "          if (!dataTable) return;\n",
              "\n",
              "          const docLinkHtml = 'Like what you see? Visit the ' +\n",
              "            '<a target=\"_blank\" href=https://colab.research.google.com/notebooks/data_table.ipynb>data table notebook</a>'\n",
              "            + ' to learn more about interactive tables.';\n",
              "          element.innerHTML = '';\n",
              "          dataTable['output_type'] = 'display_data';\n",
              "          await google.colab.output.renderOutput(dataTable, element);\n",
              "          const docLink = document.createElement('div');\n",
              "          docLink.innerHTML = docLinkHtml;\n",
              "          element.appendChild(docLink);\n",
              "        }\n",
              "      </script>\n",
              "    </div>\n",
              "  </div>\n",
              "  "
            ],
            "text/plain": [
              "                                                   text  label  text_len  \\\n",
              "0     Knowing ki Vikas kitna samjhata hai Priyanka a...      0       126   \n",
              "1     I am Muhajir .. Aur mere lye sab se Pehly Paki...      0       196   \n",
              "2     Doctor  sab sahi me ke PhD (in hate politics) ...      0       166   \n",
              "3     Poore Desh me Patel OBC me aate Hain sirf gujr...      0       257   \n",
              "4     Sarkar banne ke bad Hindu hit me ek bhi faisla...      1       140   \n",
              "...                                                 ...    ...       ...   \n",
              "3722  pehle confirm karo ke Mohammad ne sach mein 8 ...      0        79   \n",
              "3723  ye attankwadi Indian agent hai jo terrorism ph...      0        55   \n",
              "3724  bola na terrorism ko support karna band karoge...      0        69   \n",
              "3725  lagta hai aap ne movie dekhi hai which is writ...      0       125   \n",
              "3726  tum log terrorism ko support karna band kardo ...      0        65   \n",
              "\n",
              "                                           text_wo_stop  \\\n",
              "0     knowing ki vikas kitna samjhata hai priyanka a...   \n",
              "1     muhajir aur mere lye sab se pehly pakistan agr...   \n",
              "2     doctor sab sahi ke phd hate politics wale bhai...   \n",
              "3     poore desh patel obc aate hain sirf gujrat ko ...   \n",
              "4     sarkar banne ke bad hindu hit ek bhi faisla jo...   \n",
              "...                                                 ...   \n",
              "3722  pehle confirm karo ke mohammad ne sach mein 8 ...   \n",
              "3723  ye attankwadi indian agent hai jo terrorism ph...   \n",
              "3724  bola na terrorism ko support karna band karoge...   \n",
              "3725  lagta hai aap ne movie dekhi hai written srk o...   \n",
              "3726  tum log terrorism ko support karna band kardo ...   \n",
              "\n",
              "                                             Clean_text  \n",
              "0     know vika kitna samjhata priyanka itch guard l...  \n",
              "1     muhajir mere lye sab pehli pakistan agr 10 lak...  \n",
              "2     doctor sab sahi phd polit wale bhai padh likh ...  \n",
              "3     poor desh patel obc aat hain sirf gujrat chor ...  \n",
              "4     sarkar bann bad hindu hit ek bhi faisla jo bjp...  \n",
              "...                                                 ...  \n",
              "3722  pehl confirm karo mohammad ne sach mein 8 saal...  \n",
              "3723                   ye indian agent jo terror phelat  \n",
              "3724  bola na terror support karna band karog tu kaa...  \n",
              "3725  lagta aap ne movi dekhi srk ne terror siva kuc...  \n",
              "3726  tum log terror support karna band kardo sabh t...  \n",
              "\n",
              "[3726 rows x 5 columns]"
            ]
          },
          "execution_count": 27,
          "metadata": {},
          "output_type": "execute_result"
        }
      ],
      "source": [
        "train_annot"
      ]
    },
    {
      "cell_type": "code",
      "execution_count": null,
      "metadata": {
        "colab": {
          "base_uri": "https://localhost:8080/",
          "height": 423
        },
        "id": "U0moOXgOLR9n",
        "outputId": "9f3e49dd-a05a-4f29-ca70-3f07438b1594"
      },
      "outputs": [
        {
          "data": {
            "text/html": [
              "\n",
              "  <div id=\"df-5d12422b-a78e-458d-bd3b-ab47122454bb\">\n",
              "    <div class=\"colab-df-container\">\n",
              "      <div>\n",
              "<style scoped>\n",
              "    .dataframe tbody tr th:only-of-type {\n",
              "        vertical-align: middle;\n",
              "    }\n",
              "\n",
              "    .dataframe tbody tr th {\n",
              "        vertical-align: top;\n",
              "    }\n",
              "\n",
              "    .dataframe thead th {\n",
              "        text-align: right;\n",
              "    }\n",
              "</style>\n",
              "<table border=\"1\" class=\"dataframe\">\n",
              "  <thead>\n",
              "    <tr style=\"text-align: right;\">\n",
              "      <th></th>\n",
              "      <th>text</th>\n",
              "      <th>label</th>\n",
              "      <th>text_len</th>\n",
              "      <th>text_wo_stop</th>\n",
              "      <th>Clean_text</th>\n",
              "    </tr>\n",
              "  </thead>\n",
              "  <tbody>\n",
              "    <tr>\n",
              "      <th>0</th>\n",
              "      <td>#zulmkekhilaf SB k desh men me zulm rape n mur...</td>\n",
              "      <td>1</td>\n",
              "      <td>114</td>\n",
              "      <td>zulmkekhilaf sb k desh men zulm rape n murder ...</td>\n",
              "      <td>zulmkekhilaf sb k desh men zulm n murder badh ...</td>\n",
              "    </tr>\n",
              "    <tr>\n",
              "      <th>1</th>\n",
              "      <td>Spread karne na karne se Kuchh nahi hota. Indi...</td>\n",
              "      <td>0</td>\n",
              "      <td>136</td>\n",
              "      <td>spread karne na karne se kuchh nahi hota india...</td>\n",
              "      <td>spread karn na karn kuchh nahi hota indian pak...</td>\n",
              "    </tr>\n",
              "    <tr>\n",
              "      <th>2</th>\n",
              "      <td>dhamki dene wale rape ki paidaish hi hain saale</td>\n",
              "      <td>1</td>\n",
              "      <td>47</td>\n",
              "      <td>dhamki dene wale rape ki paidaish hi hain saale</td>\n",
              "      <td>dhamki dene wale paidaish hi hain saal</td>\n",
              "    </tr>\n",
              "    <tr>\n",
              "      <th>3</th>\n",
              "      <td>Yogi tere raj me roze dar ladki ka rape hua !!</td>\n",
              "      <td>0</td>\n",
              "      <td>46</td>\n",
              "      <td>yogi tere raj roze dar ladki ka rape hua</td>\n",
              "      <td>yogi tere raj roze dar ladki hua</td>\n",
              "    </tr>\n",
              "    <tr>\n",
              "      <th>4</th>\n",
              "      <td>Waha to awaz nahi nikalti hai kyuki wo rape hi...</td>\n",
              "      <td>1</td>\n",
              "      <td>135</td>\n",
              "      <td>waha awaz nahi nikalti hai kyuki wo rape hindu...</td>\n",
              "      <td>waha awaz nahi nikalti kyuki wo hindu bhai ne ...</td>\n",
              "    </tr>\n",
              "    <tr>\n",
              "      <th>...</th>\n",
              "      <td>...</td>\n",
              "      <td>...</td>\n",
              "      <td>...</td>\n",
              "      <td>...</td>\n",
              "      <td>...</td>\n",
              "    </tr>\n",
              "    <tr>\n",
              "      <th>842</th>\n",
              "      <td>Toilets tm log banwa ni sakte</td>\n",
              "      <td>1</td>\n",
              "      <td>29</td>\n",
              "      <td>toilets tm log banwa ni sakte</td>\n",
              "      <td>toilet tm log ni sakt</td>\n",
              "    </tr>\n",
              "    <tr>\n",
              "      <th>843</th>\n",
              "      <td>Rape tm log rukwa ni sakte</td>\n",
              "      <td>1</td>\n",
              "      <td>26</td>\n",
              "      <td>rape tm log rukwa ni sakte</td>\n",
              "      <td>tm log ni sakt</td>\n",
              "    </tr>\n",
              "    <tr>\n",
              "      <th>844</th>\n",
              "      <td>Aur phir mun utha Kar ah jate ho Twitter par</td>\n",
              "      <td>1</td>\n",
              "      <td>44</td>\n",
              "      <td>aur phir mun utha kar ah jate ho twitter par</td>\n",
              "      <td>phir kar jate twitter par</td>\n",
              "    </tr>\n",
              "    <tr>\n",
              "      <th>845</th>\n",
              "      <td>News mai  dekhte nahi in chakro makn Khoon Hojate</td>\n",
              "      <td>1</td>\n",
              "      <td>49</td>\n",
              "      <td>news mai dekhte nahi chakro makn khoon hojate</td>\n",
              "      <td>news mai dekht nahi khoon hojat</td>\n",
              "    </tr>\n",
              "    <tr>\n",
              "      <th>846</th>\n",
              "      <td>Tere jaise kuch jihadio ke wajah se yanha rape...</td>\n",
              "      <td>0</td>\n",
              "      <td>55</td>\n",
              "      <td>tere jaise kuch jihadio ke wajah se yanha rape...</td>\n",
              "      <td>tere jais kuch wajah hote</td>\n",
              "    </tr>\n",
              "  </tbody>\n",
              "</table>\n",
              "<p>847 rows × 5 columns</p>\n",
              "</div>\n",
              "      <button class=\"colab-df-convert\" onclick=\"convertToInteractive('df-5d12422b-a78e-458d-bd3b-ab47122454bb')\"\n",
              "              title=\"Convert this dataframe to an interactive table.\"\n",
              "              style=\"display:none;\">\n",
              "        \n",
              "  <svg xmlns=\"http://www.w3.org/2000/svg\" height=\"24px\"viewBox=\"0 0 24 24\"\n",
              "       width=\"24px\">\n",
              "    <path d=\"M0 0h24v24H0V0z\" fill=\"none\"/>\n",
              "    <path d=\"M18.56 5.44l.94 2.06.94-2.06 2.06-.94-2.06-.94-.94-2.06-.94 2.06-2.06.94zm-11 1L8.5 8.5l.94-2.06 2.06-.94-2.06-.94L8.5 2.5l-.94 2.06-2.06.94zm10 10l.94 2.06.94-2.06 2.06-.94-2.06-.94-.94-2.06-.94 2.06-2.06.94z\"/><path d=\"M17.41 7.96l-1.37-1.37c-.4-.4-.92-.59-1.43-.59-.52 0-1.04.2-1.43.59L10.3 9.45l-7.72 7.72c-.78.78-.78 2.05 0 2.83L4 21.41c.39.39.9.59 1.41.59.51 0 1.02-.2 1.41-.59l7.78-7.78 2.81-2.81c.8-.78.8-2.07 0-2.86zM5.41 20L4 18.59l7.72-7.72 1.47 1.35L5.41 20z\"/>\n",
              "  </svg>\n",
              "      </button>\n",
              "      \n",
              "  <style>\n",
              "    .colab-df-container {\n",
              "      display:flex;\n",
              "      flex-wrap:wrap;\n",
              "      gap: 12px;\n",
              "    }\n",
              "\n",
              "    .colab-df-convert {\n",
              "      background-color: #E8F0FE;\n",
              "      border: none;\n",
              "      border-radius: 50%;\n",
              "      cursor: pointer;\n",
              "      display: none;\n",
              "      fill: #1967D2;\n",
              "      height: 32px;\n",
              "      padding: 0 0 0 0;\n",
              "      width: 32px;\n",
              "    }\n",
              "\n",
              "    .colab-df-convert:hover {\n",
              "      background-color: #E2EBFA;\n",
              "      box-shadow: 0px 1px 2px rgba(60, 64, 67, 0.3), 0px 1px 3px 1px rgba(60, 64, 67, 0.15);\n",
              "      fill: #174EA6;\n",
              "    }\n",
              "\n",
              "    [theme=dark] .colab-df-convert {\n",
              "      background-color: #3B4455;\n",
              "      fill: #D2E3FC;\n",
              "    }\n",
              "\n",
              "    [theme=dark] .colab-df-convert:hover {\n",
              "      background-color: #434B5C;\n",
              "      box-shadow: 0px 1px 3px 1px rgba(0, 0, 0, 0.15);\n",
              "      filter: drop-shadow(0px 1px 2px rgba(0, 0, 0, 0.3));\n",
              "      fill: #FFFFFF;\n",
              "    }\n",
              "  </style>\n",
              "\n",
              "      <script>\n",
              "        const buttonEl =\n",
              "          document.querySelector('#df-5d12422b-a78e-458d-bd3b-ab47122454bb button.colab-df-convert');\n",
              "        buttonEl.style.display =\n",
              "          google.colab.kernel.accessAllowed ? 'block' : 'none';\n",
              "\n",
              "        async function convertToInteractive(key) {\n",
              "          const element = document.querySelector('#df-5d12422b-a78e-458d-bd3b-ab47122454bb');\n",
              "          const dataTable =\n",
              "            await google.colab.kernel.invokeFunction('convertToInteractive',\n",
              "                                                     [key], {});\n",
              "          if (!dataTable) return;\n",
              "\n",
              "          const docLinkHtml = 'Like what you see? Visit the ' +\n",
              "            '<a target=\"_blank\" href=https://colab.research.google.com/notebooks/data_table.ipynb>data table notebook</a>'\n",
              "            + ' to learn more about interactive tables.';\n",
              "          element.innerHTML = '';\n",
              "          dataTable['output_type'] = 'display_data';\n",
              "          await google.colab.output.renderOutput(dataTable, element);\n",
              "          const docLink = document.createElement('div');\n",
              "          docLink.innerHTML = docLinkHtml;\n",
              "          element.appendChild(docLink);\n",
              "        }\n",
              "      </script>\n",
              "    </div>\n",
              "  </div>\n",
              "  "
            ],
            "text/plain": [
              "                                                  text  label  text_len  \\\n",
              "0    #zulmkekhilaf SB k desh men me zulm rape n mur...      1       114   \n",
              "1    Spread karne na karne se Kuchh nahi hota. Indi...      0       136   \n",
              "2      dhamki dene wale rape ki paidaish hi hain saale      1        47   \n",
              "3       Yogi tere raj me roze dar ladki ka rape hua !!      0        46   \n",
              "4    Waha to awaz nahi nikalti hai kyuki wo rape hi...      1       135   \n",
              "..                                                 ...    ...       ...   \n",
              "842                      Toilets tm log banwa ni sakte      1        29   \n",
              "843                         Rape tm log rukwa ni sakte      1        26   \n",
              "844       Aur phir mun utha Kar ah jate ho Twitter par      1        44   \n",
              "845  News mai  dekhte nahi in chakro makn Khoon Hojate      1        49   \n",
              "846  Tere jaise kuch jihadio ke wajah se yanha rape...      0        55   \n",
              "\n",
              "                                          text_wo_stop  \\\n",
              "0    zulmkekhilaf sb k desh men zulm rape n murder ...   \n",
              "1    spread karne na karne se kuchh nahi hota india...   \n",
              "2      dhamki dene wale rape ki paidaish hi hain saale   \n",
              "3             yogi tere raj roze dar ladki ka rape hua   \n",
              "4    waha awaz nahi nikalti hai kyuki wo rape hindu...   \n",
              "..                                                 ...   \n",
              "842                      toilets tm log banwa ni sakte   \n",
              "843                         rape tm log rukwa ni sakte   \n",
              "844       aur phir mun utha kar ah jate ho twitter par   \n",
              "845      news mai dekhte nahi chakro makn khoon hojate   \n",
              "846  tere jaise kuch jihadio ke wajah se yanha rape...   \n",
              "\n",
              "                                            Clean_text  \n",
              "0    zulmkekhilaf sb k desh men zulm n murder badh ...  \n",
              "1    spread karn na karn kuchh nahi hota indian pak...  \n",
              "2               dhamki dene wale paidaish hi hain saal  \n",
              "3                     yogi tere raj roze dar ladki hua  \n",
              "4    waha awaz nahi nikalti kyuki wo hindu bhai ne ...  \n",
              "..                                                 ...  \n",
              "842                              toilet tm log ni sakt  \n",
              "843                                     tm log ni sakt  \n",
              "844                          phir kar jate twitter par  \n",
              "845                    news mai dekht nahi khoon hojat  \n",
              "846                          tere jais kuch wajah hote  \n",
              "\n",
              "[847 rows x 5 columns]"
            ]
          },
          "execution_count": 28,
          "metadata": {},
          "output_type": "execute_result"
        }
      ],
      "source": [
        "test_data"
      ]
    },
    {
      "cell_type": "code",
      "execution_count": null,
      "metadata": {
        "id": "cc_t9lP4nbqo"
      },
      "outputs": [],
      "source": [
        "from sklearn.feature_extraction.text import TfidfVectorizer\n",
        "from sklearn.pipeline import Pipeline\n",
        "from sklearn.feature_extraction.text import CountVectorizer\n",
        "from sklearn.feature_extraction.text import TfidfTransformer\n",
        "from sklearn.linear_model import SGDClassifier\n",
        "\n",
        "pipeline_SGD = Pipeline([('vect', CountVectorizer()), ('tfidf', TfidfTransformer()), ('nb', SGDClassifier()),])\n",
        "\n"
      ]
    },
    {
      "cell_type": "code",
      "execution_count": null,
      "metadata": {
        "id": "A4DXZVj9nGPe"
      },
      "outputs": [],
      "source": [
        "from tensorflow.keras.preprocessing.sequence import pad_sequences\n",
        "import numpy as np\n",
        "import tensorflow as tf\n",
        "from sklearn.model_selection import train_test_split\n",
        "\n",
        "# Splitting the dataset into train and test\n",
        "X_train, X_test, y_train, y_test = train_test_split(train_annot['text'], train_annot['label'], random_state=0)\n",
        "\n",
        "max_features = 50000\n",
        "# Creating train, validation and test sequences\n",
        "tokenizer = tf.keras.preprocessing.text.Tokenizer(num_words=max_features)\n",
        "tokenizer.fit_on_texts(X_train)\n",
        "\n",
        "x_train = tokenizer.texts_to_sequences(X_train)\n",
        "x_valid = tokenizer.texts_to_sequences(X_test)\n",
        "x_test = tokenizer.texts_to_sequences(test_data['text'])\n",
        "\n",
        "# Padding the sequences\n",
        "maxlen = 32\n",
        "x_train = pad_sequences(x_train, padding='post', maxlen=maxlen)\n",
        "x_valid = pad_sequences(x_valid, padding='post', maxlen=maxlen)\n",
        "x_test = pad_sequences(x_test, padding='post', maxlen=maxlen)\n",
        "\n",
        "# Converting labels to numpy arrays\n",
        "train_labels = np.asarray(y_train)\n",
        "valid_labels = np.asarray(y_test)\n",
        "test_labels = np.asarray(test_data['label'].tolist())\n",
        "\n",
        "# Creating train, validation, and test datasets\n",
        "train_ds = tf.data.Dataset.from_tensor_slices((x_train, train_labels))\n",
        "valid_ds = tf.data.Dataset.from_tensor_slices((x_valid, valid_labels))\n",
        "test_ds = tf.data.Dataset.from_tensor_slices((x_test, test_labels))\n"
      ]
    },
    {
      "cell_type": "code",
      "execution_count": null,
      "metadata": {
        "id": "eKVV4hCr6NY2"
      },
      "outputs": [],
      "source": [
        "import tensorflow as tf\n",
        "from tensorflow.keras import layers\n",
        "from tensorflow.keras import losses\n",
        "from tensorflow.keras import regularizers\n",
        "from tensorflow.keras import preprocessing\n",
        "from tensorflow.keras.preprocessing.text import Tokenizer\n",
        "from tensorflow.keras.preprocessing.sequence import pad_sequences"
      ]
    },
    {
      "cell_type": "code",
      "execution_count": null,
      "metadata": {
        "id": "lnYmPJUg7I1o"
      },
      "outputs": [],
      "source": [
        "import matplotlib as mpl\n",
        "import matplotlib.pyplot as plt\n",
        "import seaborn as sns"
      ]
    },
    {
      "cell_type": "code",
      "execution_count": null,
      "metadata": {
        "id": "_8v3D7u87KVS"
      },
      "outputs": [],
      "source": [
        "import warnings\n",
        "warnings.filterwarnings('ignore')"
      ]
    },
    {
      "cell_type": "code",
      "execution_count": null,
      "metadata": {
        "colab": {
          "base_uri": "https://localhost:8080/",
          "height": 564
        },
        "id": "WJNjYiXa7Vjd",
        "outputId": "feb3710f-04f3-4357-a154-ca09c436546e"
      },
      "outputs": [
        {
          "data": {
            "text/html": [
              "\n",
              "  <div id=\"df-c3d68d69-cc79-4fdf-bc61-7c9e4e15c6f3\">\n",
              "    <div class=\"colab-df-container\">\n",
              "      <div>\n",
              "<style scoped>\n",
              "    .dataframe tbody tr th:only-of-type {\n",
              "        vertical-align: middle;\n",
              "    }\n",
              "\n",
              "    .dataframe tbody tr th {\n",
              "        vertical-align: top;\n",
              "    }\n",
              "\n",
              "    .dataframe thead th {\n",
              "        text-align: right;\n",
              "    }\n",
              "</style>\n",
              "<table border=\"1\" class=\"dataframe\">\n",
              "  <thead>\n",
              "    <tr style=\"text-align: right;\">\n",
              "      <th></th>\n",
              "      <th>label</th>\n",
              "    </tr>\n",
              "  </thead>\n",
              "  <tbody>\n",
              "    <tr>\n",
              "      <th>0</th>\n",
              "      <td>2323</td>\n",
              "    </tr>\n",
              "    <tr>\n",
              "      <th>1</th>\n",
              "      <td>1403</td>\n",
              "    </tr>\n",
              "  </tbody>\n",
              "</table>\n",
              "</div>\n",
              "      <button class=\"colab-df-convert\" onclick=\"convertToInteractive('df-c3d68d69-cc79-4fdf-bc61-7c9e4e15c6f3')\"\n",
              "              title=\"Convert this dataframe to an interactive table.\"\n",
              "              style=\"display:none;\">\n",
              "        \n",
              "  <svg xmlns=\"http://www.w3.org/2000/svg\" height=\"24px\"viewBox=\"0 0 24 24\"\n",
              "       width=\"24px\">\n",
              "    <path d=\"M0 0h24v24H0V0z\" fill=\"none\"/>\n",
              "    <path d=\"M18.56 5.44l.94 2.06.94-2.06 2.06-.94-2.06-.94-.94-2.06-.94 2.06-2.06.94zm-11 1L8.5 8.5l.94-2.06 2.06-.94-2.06-.94L8.5 2.5l-.94 2.06-2.06.94zm10 10l.94 2.06.94-2.06 2.06-.94-2.06-.94-.94-2.06-.94 2.06-2.06.94z\"/><path d=\"M17.41 7.96l-1.37-1.37c-.4-.4-.92-.59-1.43-.59-.52 0-1.04.2-1.43.59L10.3 9.45l-7.72 7.72c-.78.78-.78 2.05 0 2.83L4 21.41c.39.39.9.59 1.41.59.51 0 1.02-.2 1.41-.59l7.78-7.78 2.81-2.81c.8-.78.8-2.07 0-2.86zM5.41 20L4 18.59l7.72-7.72 1.47 1.35L5.41 20z\"/>\n",
              "  </svg>\n",
              "      </button>\n",
              "      \n",
              "  <style>\n",
              "    .colab-df-container {\n",
              "      display:flex;\n",
              "      flex-wrap:wrap;\n",
              "      gap: 12px;\n",
              "    }\n",
              "\n",
              "    .colab-df-convert {\n",
              "      background-color: #E8F0FE;\n",
              "      border: none;\n",
              "      border-radius: 50%;\n",
              "      cursor: pointer;\n",
              "      display: none;\n",
              "      fill: #1967D2;\n",
              "      height: 32px;\n",
              "      padding: 0 0 0 0;\n",
              "      width: 32px;\n",
              "    }\n",
              "\n",
              "    .colab-df-convert:hover {\n",
              "      background-color: #E2EBFA;\n",
              "      box-shadow: 0px 1px 2px rgba(60, 64, 67, 0.3), 0px 1px 3px 1px rgba(60, 64, 67, 0.15);\n",
              "      fill: #174EA6;\n",
              "    }\n",
              "\n",
              "    [theme=dark] .colab-df-convert {\n",
              "      background-color: #3B4455;\n",
              "      fill: #D2E3FC;\n",
              "    }\n",
              "\n",
              "    [theme=dark] .colab-df-convert:hover {\n",
              "      background-color: #434B5C;\n",
              "      box-shadow: 0px 1px 3px 1px rgba(0, 0, 0, 0.15);\n",
              "      filter: drop-shadow(0px 1px 2px rgba(0, 0, 0, 0.3));\n",
              "      fill: #FFFFFF;\n",
              "    }\n",
              "  </style>\n",
              "\n",
              "      <script>\n",
              "        const buttonEl =\n",
              "          document.querySelector('#df-c3d68d69-cc79-4fdf-bc61-7c9e4e15c6f3 button.colab-df-convert');\n",
              "        buttonEl.style.display =\n",
              "          google.colab.kernel.accessAllowed ? 'block' : 'none';\n",
              "\n",
              "        async function convertToInteractive(key) {\n",
              "          const element = document.querySelector('#df-c3d68d69-cc79-4fdf-bc61-7c9e4e15c6f3');\n",
              "          const dataTable =\n",
              "            await google.colab.kernel.invokeFunction('convertToInteractive',\n",
              "                                                     [key], {});\n",
              "          if (!dataTable) return;\n",
              "\n",
              "          const docLinkHtml = 'Like what you see? Visit the ' +\n",
              "            '<a target=\"_blank\" href=https://colab.research.google.com/notebooks/data_table.ipynb>data table notebook</a>'\n",
              "            + ' to learn more about interactive tables.';\n",
              "          element.innerHTML = '';\n",
              "          dataTable['output_type'] = 'display_data';\n",
              "          await google.colab.output.renderOutput(dataTable, element);\n",
              "          const docLink = document.createElement('div');\n",
              "          docLink.innerHTML = docLinkHtml;\n",
              "          element.appendChild(docLink);\n",
              "        }\n",
              "      </script>\n",
              "    </div>\n",
              "  </div>\n",
              "  "
            ],
            "text/plain": [
              "   label\n",
              "0   2323\n",
              "1   1403"
            ]
          },
          "metadata": {},
          "output_type": "display_data"
        },
        {
          "name": "stdout",
          "output_type": "stream",
          "text": [
            "0s : 1s  ::   1.66 : 1\n"
          ]
        },
        {
          "data": {
            "image/png": "[encoded data removed]",
            "text/plain": [
              "<Figure size 640x480 with 1 Axes>"
            ]
          },
          "metadata": {},
          "output_type": "display_data"
        }
      ],
      "source": [
        "display(train_annot['label'].value_counts().to_frame())\n",
        "print(\"0s : 1s  ::  \",(train_annot['label'].value_counts()[0]/train_annot['label'].value_counts()[1]).round(2),\": 1\")\n",
        "plt.bar([0,1],train_annot['label'].value_counts())\n",
        "plt.title(\"class proportions in the dataset\")\n",
        "plt.show()"
      ]
    },
    {
      "cell_type": "markdown",
      "metadata": {
        "id": "KitUnXSstiY8"
      },
      "source": []
    },
    {
      "cell_type": "code",
      "execution_count": null,
      "metadata": {
        "colab": {
          "base_uri": "https://localhost:8080/"
        },
        "id": "M0n7Qitw-tAm",
        "outputId": "a6ef63ca-05e8-4940-9577-2143f99e7cd6"
      },
      "outputs": [
        {
          "name": "stdout",
          "output_type": "stream",
          "text": [
            "932\n",
            "932\n",
            "(2794,)\n",
            "(932,)\n"
          ]
        }
      ],
      "source": [
        "\n",
        "\n",
        "print(len(valid_labels))\n",
        "print(len(valid_labels))\n",
        "print(train_labels.shape)\n",
        "print(valid_labels.shape)\n",
        "\n"
      ]
    },
    {
      "cell_type": "code",
      "execution_count": null,
      "metadata": {
        "colab": {
          "base_uri": "https://localhost:8080/"
        },
        "id": "tAUro-aLidVi",
        "outputId": "41424b34-76d7-42a5-c051-acf2303dab41"
      },
      "outputs": [
        {
          "name": "stdout",
          "output_type": "stream",
          "text": [
            "Validation data shape: (32,), ()\n"
          ]
        }
      ],
      "source": [
        "valid_ds_np = valid_ds.as_numpy_iterator()\n",
        "for x_valid, y_valid in valid_ds_np:\n",
        "    print(f'Validation data shape: {x_valid.shape}, {y_valid.shape}')\n",
        "    break\n"
      ]
    },
    {
      "cell_type": "code",
      "execution_count": null,
      "metadata": {
        "colab": {
          "base_uri": "https://localhost:8080/"
        },
        "id": "vUcVBDZ3immi",
        "outputId": "f9fd95b1-e3db-45f1-dd1c-72db4d275ad4"
      },
      "outputs": [
        {
          "name": "stdout",
          "output_type": "stream",
          "text": [
            "(TensorSpec(shape=(32,), dtype=tf.int32, name=None), TensorSpec(shape=(), dtype=tf.int64, name=None))\n"
          ]
        }
      ],
      "source": [
        "print(train_ds.element_spec)\n",
        "\n"
      ]
    },
    {
      "cell_type": "markdown",
      "metadata": {
        "id": "uklfIYa1_LQi"
      },
      "source": [
        "# ***LSTM***"
      ]
    },
    {
      "cell_type": "code",
      "execution_count": null,
      "metadata": {
        "id": "F7TyvjvSHl9L"
      },
      "outputs": [],
      "source": [
        "num_words = 50000\n",
        "\n",
        "tokenizer = Tokenizer(num_words=num_words,oov_token=\"unk\")\n",
        "tokenizer.fit_on_texts(X_train)"
      ]
    },
    {
      "cell_type": "code",
      "execution_count": null,
      "metadata": {
        "colab": {
          "base_uri": "https://localhost:8080/"
        },
        "id": "c9z89SUC_Ux3",
        "outputId": "8f84ddaa-3302-4a04-e4a0-2568903fb2c9"
      },
      "outputs": [
        {
          "name": "stdout",
          "output_type": "stream",
          "text": [
            "Epoch 1/10\n",
            "88/88 [==============================] - 23s 205ms/step - loss: 0.6539 - accuracy: 0.6163\n",
            "Epoch 2/10\n",
            "88/88 [==============================] - 12s 136ms/step - loss: 0.5328 - accuracy: 0.7316\n",
            "Epoch 3/10\n",
            "88/88 [==============================] - 5s 56ms/step - loss: 0.2934 - accuracy: 0.8973\n",
            "Epoch 4/10\n",
            "88/88 [==============================] - 3s 31ms/step - loss: 0.1386 - accuracy: 0.9553\n",
            "Epoch 5/10\n",
            "88/88 [==============================] - 2s 22ms/step - loss: 0.0791 - accuracy: 0.9782\n",
            "Epoch 6/10\n",
            "88/88 [==============================] - 2s 19ms/step - loss: 0.0488 - accuracy: 0.9839\n",
            "Epoch 7/10\n",
            "88/88 [==============================] - 2s 21ms/step - loss: 0.0200 - accuracy: 0.9946\n",
            "Epoch 8/10\n",
            "88/88 [==============================] - 1s 17ms/step - loss: 0.0242 - accuracy: 0.9946\n",
            "Epoch 9/10\n",
            "88/88 [==============================] - 2s 23ms/step - loss: 0.0158 - accuracy: 0.9961\n",
            "Epoch 10/10\n",
            "88/88 [==============================] - 1s 17ms/step - loss: 0.0196 - accuracy: 0.9953\n"
          ]
        },
        {
          "data": {
            "text/plain": [
              "<keras.callbacks.History at 0x7f9b4af30f40>"
            ]
          },
          "execution_count": 39,
          "metadata": {},
          "output_type": "execute_result"
        }
      ],
      "source": [
        "from keras.models import Sequential\n",
        "from keras.layers import Dense, Dropout\n",
        "from keras.layers import LSTM\n",
        "from keras.layers import Input, Activation\n",
        "from keras.layers import Embedding\n",
        "from keras.preprocessing import sequence\n",
        "from keras.models import Model\n",
        "\n",
        "def create_lstm_model():\n",
        "    tweet_input = Input(shape=(maxlen,), dtype='int32')\n",
        "    #tweet_encoder = Embedding(num_words, 200, weights=[embedding_matrix], input_length=maxlen, trainable=True)(tweet_input)\n",
        "    tweet_encoder = Embedding(num_words, 200, input_length=maxlen)(tweet_input)\n",
        "    tweet_encoder = Dropout(0.5)(tweet_encoder)\n",
        "    merged = LSTM(100)(tweet_encoder)\n",
        "    merged = Dropout(0.5)(merged)\n",
        "    merged = Dense(1)(merged)\n",
        "    output = Activation('sigmoid')(merged)\n",
        "    model = Model(inputs=[tweet_input], outputs=[output])\n",
        "    model.compile(loss='binary_crossentropy', optimizer='adam', metrics=['accuracy'])\n",
        "    #model.summary()\n",
        "    return model\n",
        "\n",
        "lstm_model = create_lstm_model()\n",
        "lstm_model.fit(x_train, y_train, epochs=10, batch_size=32, verbose=1)"
      ]
    },
    {
      "cell_type": "code",
      "execution_count": null,
      "metadata": {
        "colab": {
          "base_uri": "https://localhost:8080/"
        },
        "id": "OsKpUZKQ0dS5",
        "outputId": "8d1d3889-3475-4c50-c9ec-119ff76c50f3"
      },
      "outputs": [
        {
          "name": "stdout",
          "output_type": "stream",
          "text": [
            "27/27 [==============================] - 1s 3ms/step - loss: 1.9231 - accuracy: 0.6434\n",
            "Test loss: 1.9231256246566772\n",
            "Test accuracy: 0.6434474587440491\n"
          ]
        }
      ],
      "source": [
        "# Assuming you have already trained your LSTM model and have x_test and y_test data\n",
        "\n",
        "# Evaluate the model on the test data\n",
        "loss, accuracy = lstm_model.evaluate(x_test, test_labels, verbose=1)\n",
        "\n",
        "# Print the test loss and accuracy\n",
        "print('Test loss:', loss)\n",
        "print('Test accuracy:', accuracy)\n"
      ]
    },
    {
      "cell_type": "code",
      "execution_count": null,
      "metadata": {
        "id": "qhmg8kVDceRC"
      },
      "outputs": [],
      "source": [
        "lstm_model.save('model.h5')"
      ]
    },
    {
      "cell_type": "markdown",
      "metadata": {
        "id": "zk6Sqkmwv0nB"
      },
      "source": [
        "# **BERT-CNN**"
      ]
    },
    {
      "cell_type": "code",
      "execution_count": null,
      "metadata": {
        "colab": {
          "base_uri": "https://localhost:8080/"
        },
        "id": "7VF4dXaiv7xO",
        "outputId": "409cb7ea-1b98-41af-b1f3-a009a73b1834"
      },
      "outputs": [
        {
          "name": "stdout",
          "output_type": "stream",
          "text": [
            "\u001b[2K     \u001b[90m━━━━━━━━━━━━━━━━━━━━━━━━━━━━━━━━━━━━━━━━\u001b[0m \u001b[32m6.0/6.0 MB\u001b[0m \u001b[31m38.0 MB/s\u001b[0m eta \u001b[36m0:00:00\u001b[0m\n",
            "\u001b[2K     \u001b[90m━━━━━━━━━━━━━━━━━━━━━━━━━━━━━━━━━━━━━━━━\u001b[0m \u001b[32m2.6/2.6 MB\u001b[0m \u001b[31m27.1 MB/s\u001b[0m eta \u001b[36m0:00:00\u001b[0m\n",
            "\u001b[2K     \u001b[90m━━━━━━━━━━━━━━━━━━━━━━━━━━━━━━━━━━━━━━\u001b[0m \u001b[32m630.1/630.1 kB\u001b[0m \u001b[31m40.2 MB/s\u001b[0m eta \u001b[36m0:00:00\u001b[0m\n",
            "\u001b[2K     \u001b[90m━━━━━━━━━━━━━━━━━━━━━━━━━━━━━━━━━━━━━━\u001b[0m \u001b[32m240.6/240.6 kB\u001b[0m \u001b[31m21.4 MB/s\u001b[0m eta \u001b[36m0:00:00\u001b[0m\n",
            "\u001b[2K     \u001b[90m━━━━━━━━━━━━━━━━━━━━━━━━━━━━━━━━━━━━━━━━\u001b[0m \u001b[32m43.6/43.6 kB\u001b[0m \u001b[31m3.8 MB/s\u001b[0m eta \u001b[36m0:00:00\u001b[0m\n",
            "\u001b[?25h  Preparing metadata (setup.py) ... \u001b[?25l\u001b[?25hdone\n",
            "\u001b[2K     \u001b[90m━━━━━━━━━━━━━━━━━━━━━━━━━━━━━━━━━━━━━━\u001b[0m \u001b[32m591.0/591.0 kB\u001b[0m \u001b[31m40.7 MB/s\u001b[0m eta \u001b[36m0:00:00\u001b[0m\n",
            "\u001b[2K     \u001b[90m━━━━━━━━━━━━━━━━━━━━━━━━━━━━━━━━━━━━━━\u001b[0m \u001b[32m118.9/118.9 kB\u001b[0m \u001b[31m12.2 MB/s\u001b[0m eta \u001b[36m0:00:00\u001b[0m\n",
            "\u001b[2K     \u001b[90m━━━━━━━━━━━━━━━━━━━━━━━━━━━━━━━━━━━━━━━━\u001b[0m \u001b[32m1.3/1.3 MB\u001b[0m \u001b[31m64.7 MB/s\u001b[0m eta \u001b[36m0:00:00\u001b[0m\n",
            "\u001b[2K     \u001b[90m━━━━━━━━━━━━━━━━━━━━━━━━━━━━━━━━━━━━━━━━\u001b[0m \u001b[32m17.1/17.1 MB\u001b[0m \u001b[31m52.6 MB/s\u001b[0m eta \u001b[36m0:00:00\u001b[0m\n",
            "\u001b[?25h  Building wheel for seqeval (setup.py) ... \u001b[?25l\u001b[?25hdone\n",
            "Looking in indexes: https://pypi.org/simple, https://us-python.pkg.dev/colab-wheels/public/simple/\n",
            "Collecting transformers\n",
            "  Downloading transformers-4.28.1-py3-none-any.whl (7.0 MB)\n",
            "\u001b[2K     \u001b[90m━━━━━━━━━━━━━━━━━━━━━━━━━━━━━━━━━━━━━━━━\u001b[0m \u001b[32m7.0/7.0 MB\u001b[0m \u001b[31m44.7 MB/s\u001b[0m eta \u001b[36m0:00:00\u001b[0m\n",
            "\u001b[?25hRequirement already satisfied: numpy>=1.17 in /usr/local/lib/python3.9/dist-packages (from transformers) (1.23.5)\n",
            "Collecting huggingface-hub<1.0,>=0.11.0\n",
            "  Downloading huggingface_hub-0.14.1-py3-none-any.whl (224 kB)\n",
            "\u001b[2K     \u001b[90m━━━━━━━━━━━━━━━━━━━━━━━━━━━━━━━━━━━━━━\u001b[0m \u001b[32m224.5/224.5 kB\u001b[0m \u001b[31m18.0 MB/s\u001b[0m eta \u001b[36m0:00:00\u001b[0m\n",
            "\u001b[?25hCollecting tokenizers!=0.11.3,<0.14,>=0.11.1\n",
            "  Downloading tokenizers-0.13.3-cp39-cp39-manylinux_2_17_x86_64.manylinux2014_x86_64.whl (7.8 MB)\n",
            "\u001b[2K     \u001b[90m━━━━━━━━━━━━━━━━━━━━━━━━━━━━━━━━━━━━━━━━\u001b[0m \u001b[32m7.8/7.8 MB\u001b[0m \u001b[31m69.6 MB/s\u001b[0m eta \u001b[36m0:00:00\u001b[0m\n",
            "\u001b[?25hRequirement already satisfied: filelock in /usr/local/lib/python3.9/dist-packages (from transformers) (3.12.0)\n",
            "Requirement already satisfied: regex!=2019.12.17 in /usr/local/lib/python3.9/dist-packages (from transformers) (2022.10.31)\n",
            "Requirement already satisfied: packaging>=20.0 in /usr/local/lib/python3.9/dist-packages (from transformers) (23.1)\n",
            "Requirement already satisfied: requests in /usr/local/lib/python3.9/dist-packages (from transformers) (2.27.1)\n",
            "Requirement already satisfied: pyyaml>=5.1 in /usr/local/lib/python3.9/dist-packages (from transformers) (5.4.1)\n",
            "Requirement already satisfied: tqdm>=4.27 in /usr/local/lib/python3.9/dist-packages (from transformers) (4.65.0)\n",
            "Requirement already satisfied: typing-extensions>=3.7.4.3 in /usr/local/lib/python3.9/dist-packages (from huggingface-hub<1.0,>=0.11.0->transformers) (4.5.0)\n",
            "Requirement already satisfied: fsspec in /usr/local/lib/python3.9/dist-packages (from huggingface-hub<1.0,>=0.11.0->transformers) (2023.4.0)\n",
            "Requirement already satisfied: charset-normalizer~=2.0.0 in /usr/local/lib/python3.9/dist-packages (from requests->transformers) (2.0.12)\n",
            "Requirement already satisfied: urllib3<1.27,>=1.21.1 in /usr/local/lib/python3.9/dist-packages (from requests->transformers) (1.26.15)\n",
            "Requirement already satisfied: certifi>=2017.4.17 in /usr/local/lib/python3.9/dist-packages (from requests->transformers) (2022.12.7)\n",
            "Requirement already satisfied: idna<4,>=2.5 in /usr/local/lib/python3.9/dist-packages (from requests->transformers) (3.4)\n",
            "Installing collected packages: tokenizers, huggingface-hub, transformers\n",
            "Successfully installed huggingface-hub-0.14.1 tokenizers-0.13.3 transformers-4.28.1\n"
          ]
        }
      ],
      "source": [
        "import locale\n",
        "locale.getpreferredencoding = lambda: \"UTF-8\"\n",
        "!pip install -q tensorflow-text\n",
        "!pip install -q tf-models-official\n",
        "!pip install transformers"
      ]
    },
    {
      "cell_type": "code",
      "execution_count": null,
      "metadata": {
        "colab": {
          "base_uri": "https://localhost:8080/"
        },
        "id": "LeCQlT46wNL6",
        "outputId": "dc884376-ba90-4744-97ef-30d63781ee58"
      },
      "outputs": [
        {
          "name": "stderr",
          "output_type": "stream",
          "text": [
            "WARNING:jax._src.xla_bridge:No GPU/TPU found, falling back to CPU. (Set TF_CPP_MIN_LOG_LEVEL=0 and rerun for more info.)\n"
          ]
        },
        {
          "name": "stdout",
          "output_type": "stream",
          "text": [
            "2.12.0\n"
          ]
        }
      ],
      "source": [
        "from sklearn.model_selection import GroupKFold\n",
        "import matplotlib.pyplot as plt\n",
        "from tqdm.notebook import tqdm\n",
        "import tensorflow as tf\n",
        "import tensorflow_hub as hub\n",
        "import tensorflow_text as text\n",
        "import tensorflow.keras.backend as K\n",
        "from scipy.stats import spearmanr\n",
        "from math import floor, ceil\n",
        "from transformers import *\n",
        "\n",
        "np.set_printoptions(suppress=True)\n",
        "print(tf.__version__)\n",
        "\n",
        "import shutil\n",
        "from official.nlp import optimization\n",
        "\n",
        "tf.get_logger().setLevel('ERROR')"
      ]
    },
    {
      "cell_type": "code",
      "execution_count": null,
      "metadata": {
        "colab": {
          "base_uri": "https://localhost:8080/"
        },
        "id": "7Q_XBUVzajpB",
        "outputId": "db65c9c1-b75d-4626-accd-5dd207bf9778"
      },
      "outputs": [
        {
          "name": "stdout",
          "output_type": "stream",
          "text": [
            "BERT model selected           : https://tfhub.dev/tensorflow/small_bert/bert_en_uncased_L-4_H-512_A-8/1\n",
            "Preprocess model auto-selected: https://tfhub.dev/tensorflow/bert_en_uncased_preprocess/1\n"
          ]
        }
      ],
      "source": [
        "bert_model_name = 'small_bert/bert_en_uncased_L-4_H-512_A-8'\n",
        "map_name_to_handle = {\n",
        "    'bert_en_uncased_L-12_H-768_A-12':\n",
        "        'https://tfhub.dev/tensorflow/bert_en_uncased_L-12_H-768_A-12/3',\n",
        "    'bert_en_cased_L-12_H-768_A-12':\n",
        "        'https://tfhub.dev/tensorflow/bert_en_cased_L-12_H-768_A-12/3',\n",
        "    'bert_multi_cased_L-12_H-768_A-12':\n",
        "        'https://tfhub.dev/tensorflow/bert_multi_cased_L-12_H-768_A-12/3',\n",
        "    'small_bert/bert_en_uncased_L-2_H-128_A-2':\n",
        "        'https://tfhub.dev/tensorflow/small_bert/bert_en_uncased_L-2_H-128_A-2/1',\n",
        "    'small_bert/bert_en_uncased_L-2_H-256_A-4':\n",
        "        'https://tfhub.dev/tensorflow/small_bert/bert_en_uncased_L-2_H-256_A-4/1',\n",
        "    'small_bert/bert_en_uncased_L-2_H-512_A-8':\n",
        "        'https://tfhub.dev/tensorflow/small_bert/bert_en_uncased_L-2_H-512_A-8/1',\n",
        "    'small_bert/bert_en_uncased_L-2_H-768_A-12':\n",
        "        'https://tfhub.dev/tensorflow/small_bert/bert_en_uncased_L-2_H-768_A-12/1',\n",
        "    'small_bert/bert_en_uncased_L-4_H-128_A-2':\n",
        "        'https://tfhub.dev/tensorflow/small_bert/bert_en_uncased_L-4_H-128_A-2/1',\n",
        "    'small_bert/bert_en_uncased_L-4_H-256_A-4':\n",
        "        'https://tfhub.dev/tensorflow/small_bert/bert_en_uncased_L-4_H-256_A-4/1',\n",
        "    'small_bert/bert_en_uncased_L-4_H-512_A-8':\n",
        "        'https://tfhub.dev/tensorflow/small_bert/bert_en_uncased_L-4_H-512_A-8/1',\n",
        "    'small_bert/bert_en_uncased_L-4_H-768_A-12':\n",
        "        'https://tfhub.dev/tensorflow/small_bert/bert_en_uncased_L-4_H-768_A-12/1',\n",
        "    'small_bert/bert_en_uncased_L-6_H-128_A-2':\n",
        "        'https://tfhub.dev/tensorflow/small_bert/bert_en_uncased_L-6_H-128_A-2/1',\n",
        "    'small_bert/bert_en_uncased_L-6_H-256_A-4':\n",
        "        'https://tfhub.dev/tensorflow/small_bert/bert_en_uncased_L-6_H-256_A-4/1',\n",
        "    'small_bert/bert_en_uncased_L-6_H-512_A-8':\n",
        "        'https://tfhub.dev/tensorflow/small_bert/bert_en_uncased_L-6_H-512_A-8/1',\n",
        "    'small_bert/bert_en_uncased_L-6_H-768_A-12':\n",
        "        'https://tfhub.dev/tensorflow/small_bert/bert_en_uncased_L-6_H-768_A-12/1',\n",
        "    'small_bert/bert_en_uncased_L-8_H-128_A-2':\n",
        "        'https://tfhub.dev/tensorflow/small_bert/bert_en_uncased_L-8_H-128_A-2/1',\n",
        "    'small_bert/bert_en_uncased_L-8_H-256_A-4':\n",
        "        'https://tfhub.dev/tensorflow/small_bert/bert_en_uncased_L-8_H-256_A-4/1',\n",
        "    'small_bert/bert_en_uncased_L-8_H-512_A-8':\n",
        "        'https://tfhub.dev/tensorflow/small_bert/bert_en_uncased_L-8_H-512_A-8/1',\n",
        "    'small_bert/bert_en_uncased_L-8_H-768_A-12':\n",
        "        'https://tfhub.dev/tensorflow/small_bert/bert_en_uncased_L-8_H-768_A-12/1',\n",
        "    'small_bert/bert_en_uncased_L-10_H-128_A-2':\n",
        "        'https://tfhub.dev/tensorflow/small_bert/bert_en_uncased_L-10_H-128_A-2/1',\n",
        "    'small_bert/bert_en_uncased_L-10_H-256_A-4':\n",
        "        'https://tfhub.dev/tensorflow/small_bert/bert_en_uncased_L-10_H-256_A-4/1',\n",
        "    'small_bert/bert_en_uncased_L-10_H-512_A-8':\n",
        "        'https://tfhub.dev/tensorflow/small_bert/bert_en_uncased_L-10_H-512_A-8/1',\n",
        "    'small_bert/bert_en_uncased_L-10_H-768_A-12':\n",
        "        'https://tfhub.dev/tensorflow/small_bert/bert_en_uncased_L-10_H-768_A-12/1',\n",
        "    'small_bert/bert_en_uncased_L-12_H-128_A-2':\n",
        "        'https://tfhub.dev/tensorflow/small_bert/bert_en_uncased_L-12_H-128_A-2/1',\n",
        "    'small_bert/bert_en_uncased_L-12_H-256_A-4':\n",
        "        'https://tfhub.dev/tensorflow/small_bert/bert_en_uncased_L-12_H-256_A-4/1',\n",
        "    'small_bert/bert_en_uncased_L-12_H-512_A-8':\n",
        "        'https://tfhub.dev/tensorflow/small_bert/bert_en_uncased_L-12_H-512_A-8/1',\n",
        "    'small_bert/bert_en_uncased_L-12_H-768_A-12':\n",
        "        'https://tfhub.dev/tensorflow/small_bert/bert_en_uncased_L-12_H-768_A-12/1',\n",
        "    'albert_en_base':\n",
        "        'https://tfhub.dev/tensorflow/albert_en_base/2',\n",
        "    'electra_small':\n",
        "        'https://tfhub.dev/google/electra_small/2',\n",
        "    'electra_base':\n",
        "        'https://tfhub.dev/google/electra_base/2',\n",
        "    'experts_pubmed':\n",
        "        'https://tfhub.dev/google/experts/bert/pubmed/2',\n",
        "    'experts_wiki_books':\n",
        "        'https://tfhub.dev/google/experts/bert/wiki_books/2',\n",
        "    'talking-heads_base':\n",
        "        'https://tfhub.dev/tensorflow/talkheads_ggelu_bert_en_base/1',\n",
        "}\n",
        "\n",
        "map_model_to_preprocess = {\n",
        "    'bert_en_uncased_L-12_H-768_A-12':\n",
        "        'https://tfhub.dev/tensorflow/bert_en_uncased_preprocess/1',\n",
        "    'bert_en_cased_L-12_H-768_A-12':\n",
        "        'https://tfhub.dev/tensorflow/bert_en_cased_preprocess/1',\n",
        "    'small_bert/bert_en_uncased_L-2_H-128_A-2':\n",
        "        'https://tfhub.dev/tensorflow/bert_en_uncased_preprocess/1',\n",
        "    'small_bert/bert_en_uncased_L-2_H-256_A-4':\n",
        "        'https://tfhub.dev/tensorflow/bert_en_uncased_preprocess/1',\n",
        "    'small_bert/bert_en_uncased_L-2_H-512_A-8':\n",
        "        'https://tfhub.dev/tensorflow/bert_en_uncased_preprocess/1',\n",
        "    'small_bert/bert_en_uncased_L-2_H-768_A-12':\n",
        "        'https://tfhub.dev/tensorflow/bert_en_uncased_preprocess/1',\n",
        "    'small_bert/bert_en_uncased_L-4_H-128_A-2':\n",
        "        'https://tfhub.dev/tensorflow/bert_en_uncased_preprocess/1',\n",
        "    'small_bert/bert_en_uncased_L-4_H-256_A-4':\n",
        "        'https://tfhub.dev/tensorflow/bert_en_uncased_preprocess/1',\n",
        "    'small_bert/bert_en_uncased_L-4_H-512_A-8':\n",
        "        'https://tfhub.dev/tensorflow/bert_en_uncased_preprocess/1',\n",
        "    'small_bert/bert_en_uncased_L-4_H-768_A-12':\n",
        "        'https://tfhub.dev/tensorflow/bert_en_uncased_preprocess/1',\n",
        "    'small_bert/bert_en_uncased_L-6_H-128_A-2':\n",
        "        'https://tfhub.dev/tensorflow/bert_en_uncased_preprocess/1',\n",
        "    'small_bert/bert_en_uncased_L-6_H-256_A-4':\n",
        "        'https://tfhub.dev/tensorflow/bert_en_uncased_preprocess/1',\n",
        "    'small_bert/bert_en_uncased_L-6_H-512_A-8':\n",
        "        'https://tfhub.dev/tensorflow/bert_en_uncased_preprocess/1',\n",
        "    'small_bert/bert_en_uncased_L-6_H-768_A-12':\n",
        "        'https://tfhub.dev/tensorflow/bert_en_uncased_preprocess/1',\n",
        "    'small_bert/bert_en_uncased_L-8_H-128_A-2':\n",
        "        'https://tfhub.dev/tensorflow/bert_en_uncased_preprocess/1',\n",
        "    'small_bert/bert_en_uncased_L-8_H-256_A-4':\n",
        "        'https://tfhub.dev/tensorflow/bert_en_uncased_preprocess/1',\n",
        "    'small_bert/bert_en_uncased_L-8_H-512_A-8':\n",
        "        'https://tfhub.dev/tensorflow/bert_en_uncased_preprocess/1',\n",
        "    'small_bert/bert_en_uncased_L-8_H-768_A-12':\n",
        "        'https://tfhub.dev/tensorflow/bert_en_uncased_preprocess/1',\n",
        "    'small_bert/bert_en_uncased_L-10_H-128_A-2':\n",
        "        'https://tfhub.dev/tensorflow/bert_en_uncased_preprocess/1',\n",
        "    'small_bert/bert_en_uncased_L-10_H-256_A-4':\n",
        "        'https://tfhub.dev/tensorflow/bert_en_uncased_preprocess/1',\n",
        "    'small_bert/bert_en_uncased_L-10_H-512_A-8':\n",
        "        'https://tfhub.dev/tensorflow/bert_en_uncased_preprocess/1',\n",
        "    'small_bert/bert_en_uncased_L-10_H-768_A-12':\n",
        "        'https://tfhub.dev/tensorflow/bert_en_uncased_preprocess/1',\n",
        "    'small_bert/bert_en_uncased_L-12_H-128_A-2':\n",
        "        'https://tfhub.dev/tensorflow/bert_en_uncased_preprocess/1',\n",
        "    'small_bert/bert_en_uncased_L-12_H-256_A-4':\n",
        "        'https://tfhub.dev/tensorflow/bert_en_uncased_preprocess/1',\n",
        "    'small_bert/bert_en_uncased_L-12_H-512_A-8':\n",
        "        'https://tfhub.dev/tensorflow/bert_en_uncased_preprocess/1',\n",
        "    'small_bert/bert_en_uncased_L-12_H-768_A-12':\n",
        "        'https://tfhub.dev/tensorflow/bert_en_uncased_preprocess/1',\n",
        "    'bert_multi_cased_L-12_H-768_A-12':\n",
        "        'https://tfhub.dev/tensorflow/bert_multi_cased_preprocess/1',\n",
        "    'albert_en_base':\n",
        "        'https://tfhub.dev/tensorflow/albert_en_preprocess/1',\n",
        "    'electra_small':\n",
        "        'https://tfhub.dev/tensorflow/bert_en_uncased_preprocess/1',\n",
        "    'electra_base':\n",
        "        'https://tfhub.dev/tensorflow/bert_en_uncased_preprocess/1',\n",
        "    'experts_pubmed':\n",
        "        'https://tfhub.dev/tensorflow/bert_en_uncased_preprocess/1',\n",
        "    'experts_wiki_books':\n",
        "        'https://tfhub.dev/tensorflow/bert_en_uncased_preprocess/1',\n",
        "    'talking-heads_base':\n",
        "        'https://tfhub.dev/tensorflow/bert_en_uncased_preprocess/1',\n",
        "}\n",
        "\n",
        "tfhub_handle_encoder = map_name_to_handle[bert_model_name]\n",
        "tfhub_handle_preprocess = map_model_to_preprocess[bert_model_name]\n",
        "\n",
        "print(f'BERT model selected           : {tfhub_handle_encoder}')\n",
        "print(f'Preprocess model auto-selected: {tfhub_handle_preprocess}')\n"
      ]
    },
    {
      "cell_type": "code",
      "execution_count": null,
      "metadata": {
        "colab": {
          "base_uri": "https://localhost:8080/"
        },
        "id": "w69UToDbCJQQ",
        "outputId": "d62dc88f-0e17-4e8c-9b46-ee5ad7fcaa2c"
      },
      "outputs": [
        {
          "name": "stdout",
          "output_type": "stream",
          "text": [
            "Looking in indexes: https://pypi.org/simple, https://us-python.pkg.dev/colab-wheels/public/simple/\n",
            "Requirement already satisfied: tensorflow-hub in /usr/local/lib/python3.9/dist-packages (0.13.0)\n",
            "Requirement already satisfied: numpy>=1.12.0 in /usr/local/lib/python3.9/dist-packages (from tensorflow-hub) (1.23.5)\n",
            "Requirement already satisfied: protobuf>=3.19.6 in /usr/local/lib/python3.9/dist-packages (from tensorflow-hub) (3.20.3)\n"
          ]
        }
      ],
      "source": [
        "!pip install tensorflow-hub --upgrade"
      ]
    },
    {
      "cell_type": "markdown",
      "metadata": {
        "id": "J2iXngscxh52"
      },
      "source": [
        "# **PRE PROCESSING FOR BERT-CNN**"
      ]
    },
    {
      "cell_type": "code",
      "execution_count": null,
      "metadata": {
        "id": "sKJzBd4QeurF"
      },
      "outputs": [],
      "source": [
        "bert_model = hub.KerasLayer(tfhub_handle_encoder)"
      ]
    },
    {
      "cell_type": "code",
      "execution_count": null,
      "metadata": {
        "id": "Rm4harLHIIi4"
      },
      "outputs": [],
      "source": [
        "#for text_batch, label_batch in train_ds.take(1):\n",
        " # for i in range(1):\n",
        "  #  tweet = text_batch.numpy()[i]\n",
        "   # print(f'Tweet: {text_batch.numpy()[i]}')\n",
        "    #label = label_batch.numpy\n",
        "    #print(f'Label : {label}')"
      ]
    },
    {
      "cell_type": "code",
      "execution_count": null,
      "metadata": {
        "colab": {
          "base_uri": "https://localhost:8080/"
        },
        "id": "aJW2FyTDe43n",
        "outputId": "cbb0dd14-8563-4cdf-fd15-6f945ecf0621"
      },
      "outputs": [
        {
          "data": {
            "text/plain": [
              "array([ 3.938462, 15.      ])"
            ]
          },
          "execution_count": 84,
          "metadata": {},
          "output_type": "execute_result"
        }
      ],
      "source": [
        "initial_output_bias = np.array([3.938462, 15])\n",
        "initial_output_bias"
      ]
    },
    {
      "cell_type": "code",
      "execution_count": null,
      "metadata": {
        "id": "HYWIk9Mjf69P"
      },
      "outputs": [],
      "source": [
        "def build_classifier_model(output_bias=None):\n",
        "    if output_bias is not None:\n",
        "        output_bias = tf.keras.initializers.Constant(output_bias)\n",
        "        #print(output_bias)\n",
        "        \n",
        "    text_input = tf.keras.layers.Input(shape=(), dtype=tf.string, name='text')\n",
        "    preprocessing_layer = hub.KerasLayer(tfhub_handle_preprocess, name='preprocessing')\n",
        "    encoder_inputs = preprocessing_layer(text_input)\n",
        "    encoder = hub.KerasLayer(tfhub_handle_encoder, trainable=True, name='BERT_encoder')\n",
        "    outputs = encoder(encoder_inputs)\n",
        "    net = outputs['pooled_output']\n",
        "    net = tf.keras.layers.Dense(512, activation=\"relu\")(net)\n",
        "    net = tf.keras.layers.Dropout(0.2)(net)\n",
        "#   net = tf.keras.layers.Dense(1, activation=None, name='classifier')(net)\n",
        "    net = tf.keras.layers.Dense(2, activation=\"softmax\", name='classifier', bias_initializer=output_bias)(net)\n",
        "    \n",
        "    return tf.keras.Model(text_input, net)"
      ]
    },
    {
      "cell_type": "code",
      "execution_count": null,
      "metadata": {
        "colab": {
          "base_uri": "https://localhost:8080/",
          "height": 1000
        },
        "id": "pA7Qt2w7gCLn",
        "outputId": "c1f682cc-5c9f-4a7b-852a-233c90ff6951"
      },
      "outputs": [
        {
          "name": "stdout",
          "output_type": "stream",
          "text": [
            "Model: \"model_1\"\n",
            "__________________________________________________________________________________________________\n",
            " Layer (type)                   Output Shape         Param #     Connected to                     \n",
            "==================================================================================================\n",
            " text (InputLayer)              [(None,)]            0           []                               \n",
            "                                                                                                  \n",
            " preprocessing (KerasLayer)     {'input_type_ids':   0           ['text[0][0]']                   \n",
            "                                (None, 128),                                                      \n",
            "                                 'input_word_ids':                                                \n",
            "                                (None, 128),                                                      \n",
            "                                 'input_mask': (Non                                               \n",
            "                                e, 128)}                                                          \n",
            "                                                                                                  \n",
            " BERT_encoder (KerasLayer)      {'encoder_outputs':  28763649    ['preprocessing[0][0]',          \n",
            "                                 [(None, 128, 512),               'preprocessing[0][1]',          \n",
            "                                 (None, 128, 512),                'preprocessing[0][2]']          \n",
            "                                 (None, 128, 512),                                                \n",
            "                                 (None, 128, 512)],                                               \n",
            "                                 'default': (None,                                                \n",
            "                                512),                                                             \n",
            "                                 'sequence_output':                                               \n",
            "                                 (None, 128, 512),                                                \n",
            "                                 'pooled_output': (                                               \n",
            "                                None, 512)}                                                       \n",
            "                                                                                                  \n",
            " dense_1 (Dense)                (None, 512)          262656      ['BERT_encoder[0][5]']           \n",
            "                                                                                                  \n",
            " dropout_1 (Dropout)            (None, 512)          0           ['dense_1[0][0]']                \n",
            "                                                                                                  \n",
            " classifier (Dense)             (None, 2)            1026        ['dropout_1[0][0]']              \n",
            "                                                                                                  \n",
            "==================================================================================================\n",
            "Total params: 29,027,331\n",
            "Trainable params: 29,027,330\n",
            "Non-trainable params: 1\n",
            "__________________________________________________________________________________________________\n"
          ]
        },
        {
          "data": {
            "image/png": "[encoded data removed]",
            "text/plain": [
              "<IPython.core.display.Image object>"
            ]
          },
          "execution_count": 86,
          "metadata": {},
          "output_type": "execute_result"
        }
      ],
      "source": [
        "classifier_model = build_classifier_model(output_bias=initial_output_bias)\n",
        "classifier_model.get_weights()[-1]\n",
        "classifier_model.summary()\n",
        "tf.keras.utils.plot_model(classifier_model)\n"
      ]
    },
    {
      "cell_type": "code",
      "execution_count": null,
      "metadata": {
        "id": "acaMxEgSgjki"
      },
      "outputs": [],
      "source": [
        "loss = tf.keras.losses.SparseCategoricalCrossentropy(from_logits=True)\n",
        "metrics = tf.keras.metrics.SparseCategoricalAccuracy('accuracy')\n",
        "#metrics = tf.metrics.Accuracy()"
      ]
    },
    {
      "cell_type": "code",
      "execution_count": null,
      "metadata": {
        "id": "A97AJtKygpFr"
      },
      "outputs": [],
      "source": [
        "epochs = 80\n",
        "steps_per_epoch = int(tf.data.experimental.cardinality(train_ds).numpy())\n",
        "num_train_steps = steps_per_epoch * epochs\n",
        "num_warmup_steps = int(0.1*num_train_steps)\n",
        "\n",
        "init_lr = 3e-5\n",
        "optimizer = optimization.create_optimizer(init_lr=init_lr,\n",
        "                                          num_train_steps=num_train_steps,\n",
        "                                          num_warmup_steps=num_warmup_steps,\n",
        "                                          optimizer_type='adamw')\n",
        "\n",
        "classifier_model.compile(optimizer=optimizer,\n",
        "                         loss='binary_crossentropy',\n",
        "                         metrics=['accuracy'])"
      ]
    },
    {
      "cell_type": "code",
      "execution_count": null,
      "metadata": {
        "id": "WNqPgLkthm2-"
      },
      "outputs": [],
      "source": [
        "weight_for_0 = (1 / 2323)*(3726)/3.0 \n",
        "weight_for_1 = (1 / 1403)*(3726)/3.0\n",
        "\n",
        "\n",
        "\n",
        "class_weight = {0: weight_for_0, 1: weight_for_1}"
      ]
    },
    {
      "cell_type": "code",
      "execution_count": null,
      "metadata": {
        "colab": {
          "base_uri": "https://localhost:8080/"
        },
        "id": "jtyOj2nV9bds",
        "outputId": "e8967c2b-6ecf-4c14-b206-59c8f0bc0600"
      },
      "outputs": [
        {
          "name": "stdout",
          "output_type": "stream",
          "text": [
            "['text']\n",
            "tf.Tensor(\n",
            "[  73  107   12   13 3953    4   67  118   42   13 1843   19  538   15\n",
            "  108 3954  127  364 2500 2501    6  108 2502    4  162   24  398  398\n",
            "  735    0    0    0    0    0    0    0    0    0    0    0    0    0\n",
            "    0    0    0    0    0    0    0    0], shape=(50,), dtype=int32)\n",
            "tf.Tensor(0, shape=(), dtype=int64)\n",
            "tf.Tensor(\n",
            "[  221   559    38  1672  3663  3288    67    10    43     2     1  6392\n",
            "   208    43     2  1753  3575 10706     0     0     0     0     0     0\n",
            "     0     0     0     0     0     0     0     0     0     0     0     0\n",
            "     0     0     0     0     0     0     0     0     0     0     0     0\n",
            "     0     0], shape=(50,), dtype=int32)\n",
            "tf.Tensor(0, shape=(), dtype=int64)\n"
          ]
        }
      ],
      "source": [
        "print(classifier_model.input_names)\n",
        "for x, y in train_ds.take(1):\n",
        "    print(x)\n",
        "    print(y)\n",
        "    \n",
        "for x, y in valid_ds.take(1):\n",
        "    print(x)\n",
        "    print(y)\n"
      ]
    },
    {
      "cell_type": "code",
      "execution_count": null,
      "metadata": {
        "id": "XabDg_1tgiI3"
      },
      "outputs": [],
      "source": [
        "def one_hot_label(text, label):\n",
        "    label = tf.cast(label, tf.int32) # convert label to int32\n",
        "    one_hot = tf.one_hot(label, depth=2)\n",
        "    return text, one_hot\n",
        "\n",
        "train_ds = train_ds.map(one_hot_label)\n",
        "valid_ds = valid_ds.map(one_hot_label)\n",
        "test_ds = test_ds.map(one_hot_label)"
      ]
    },
    {
      "cell_type": "code",
      "execution_count": null,
      "metadata": {
        "colab": {
          "base_uri": "https://localhost:8080/"
        },
        "id": "GBERR95njuKN",
        "outputId": "6bcbd4c0-c458-4d17-fe41-e663ea93bd33"
      },
      "outputs": [
        {
          "name": "stdout",
          "output_type": "stream",
          "text": [
            "Validation data shape: (32,), (2,)\n"
          ]
        }
      ],
      "source": [
        "valid_ds_np = valid_ds.as_numpy_iterator()\n",
        "for x_valid, y_valid in valid_ds_np:\n",
        "    print(f'Validation data shape: {x_valid.shape}, {y_valid.shape}')\n",
        "    break\n"
      ]
    },
    {
      "cell_type": "code",
      "execution_count": null,
      "metadata": {
        "colab": {
          "base_uri": "https://localhost:8080/",
          "height": 252
        },
        "id": "NJv5NlqO6kjC",
        "outputId": "3fce8277-b41d-497a-8b6e-7e3d38ef00b2"
      },
      "outputs": [
        {
          "name": "stdout",
          "output_type": "stream",
          "text": [
            "Training model with https://tfhub.dev/tensorflow/small_bert/bert_en_uncased_L-4_H-512_A-8/1\n"
          ]
        },
        {
          "ename": "NameError",
          "evalue": "ignored",
          "output_type": "error",
          "traceback": [
            "\u001b[0;31m---------------------------------------------------------------------------\u001b[0m",
            "\u001b[0;31mNameError\u001b[0m                                 Traceback (most recent call last)",
            "\u001b[0;32m<ipython-input-127-b5124f6247d2>\u001b[0m in \u001b[0;36m<cell line: 3>\u001b[0;34m()\u001b[0m\n\u001b[1;32m      1\u001b[0m \u001b[0mprint\u001b[0m\u001b[0;34m(\u001b[0m\u001b[0;34mf'Training model with {tfhub_handle_encoder}'\u001b[0m\u001b[0;34m)\u001b[0m\u001b[0;34m\u001b[0m\u001b[0;34m\u001b[0m\u001b[0m\n\u001b[1;32m      2\u001b[0m \u001b[0;34m\u001b[0m\u001b[0m\n\u001b[0;32m----> 3\u001b[0;31m \u001b[0;32mclass\u001b[0m \u001b[0mPrintShapesCallback\u001b[0m\u001b[0;34m(\u001b[0m\u001b[0mkeras\u001b[0m\u001b[0;34m.\u001b[0m\u001b[0mcallbacks\u001b[0m\u001b[0;34m.\u001b[0m\u001b[0mCallback\u001b[0m\u001b[0;34m)\u001b[0m\u001b[0;34m:\u001b[0m\u001b[0;34m\u001b[0m\u001b[0;34m\u001b[0m\u001b[0m\n\u001b[0m\u001b[1;32m      4\u001b[0m     \u001b[0;32mdef\u001b[0m \u001b[0mon_train_batch_end\u001b[0m\u001b[0;34m(\u001b[0m\u001b[0mself\u001b[0m\u001b[0;34m,\u001b[0m \u001b[0mbatch\u001b[0m\u001b[0;34m,\u001b[0m \u001b[0mlogs\u001b[0m\u001b[0;34m=\u001b[0m\u001b[0;32mNone\u001b[0m\u001b[0;34m)\u001b[0m\u001b[0;34m:\u001b[0m\u001b[0;34m\u001b[0m\u001b[0;34m\u001b[0m\u001b[0m\n\u001b[1;32m      5\u001b[0m         \u001b[0mprint\u001b[0m\u001b[0;34m(\u001b[0m\u001b[0;34mf\"Labels shape: {logs['size']}\"\u001b[0m\u001b[0;34m)\u001b[0m\u001b[0;34m\u001b[0m\u001b[0;34m\u001b[0m\u001b[0m\n",
            "\u001b[0;31mNameError\u001b[0m: name 'keras' is not defined"
          ]
        }
      ],
      "source": [
        "print(f'Training model with {tfhub_handle_encoder}')\n",
        "\n",
        "class PrintShapesCallback(keras.callbacks.Callback):\n",
        "    def on_train_batch_end(self, batch, logs=None):\n",
        "        print(f\"Labels shape: {logs['size']}\")\n",
        "        print(f\"Logits shape: {logs['outputs'].shape}\")\n",
        "\n",
        "\n",
        "history = classifier_model.fit(train_ds, validation_data=valid_ds, epochs=epochs, class_weight=class_weight,callbacks=[PrintShapesCallback()])\n"
      ]
    },
    {
      "cell_type": "markdown",
      "metadata": {
        "id": "ZMWv5neN1RjF"
      },
      "source": [
        "# **ELMO**"
      ]
    },
    {
      "cell_type": "code",
      "execution_count": null,
      "metadata": {
        "colab": {
          "base_uri": "https://localhost:8080/",
          "height": 235
        },
        "id": "NFifdujS02fK",
        "outputId": "7a5fa2a1-94ef-43c1-db62-0ab235897857"
      },
      "outputs": [
        {
          "ename": "NameError",
          "evalue": "ignored",
          "output_type": "error",
          "traceback": [
            "\u001b[0;31m---------------------------------------------------------------------------\u001b[0m",
            "\u001b[0;31mNameError\u001b[0m                                 Traceback (most recent call last)",
            "\u001b[0;32m<ipython-input-42-e9da06da0519>\u001b[0m in \u001b[0;36m<cell line: 2>\u001b[0;34m()\u001b[0m\n\u001b[1;32m      1\u001b[0m \u001b[0;31m# Define the ELMo layer\u001b[0m\u001b[0;34m\u001b[0m\u001b[0;34m\u001b[0m\u001b[0m\n\u001b[0;32m----> 2\u001b[0;31m \u001b[0melmo\u001b[0m \u001b[0;34m=\u001b[0m \u001b[0mhub\u001b[0m\u001b[0;34m.\u001b[0m\u001b[0mKerasLayer\u001b[0m\u001b[0;34m(\u001b[0m\u001b[0;34m\"https://tfhub.dev/google/elmo/3\"\u001b[0m\u001b[0;34m,\u001b[0m \u001b[0moutput_shape\u001b[0m\u001b[0;34m=\u001b[0m\u001b[0;34m[\u001b[0m\u001b[0;32mNone\u001b[0m\u001b[0;34m,\u001b[0m \u001b[0;36m1024\u001b[0m\u001b[0;34m]\u001b[0m\u001b[0;34m,\u001b[0m \u001b[0minput_shape\u001b[0m\u001b[0;34m=\u001b[0m\u001b[0;34m[\u001b[0m\u001b[0;34m]\u001b[0m\u001b[0;34m,\u001b[0m \u001b[0mdtype\u001b[0m\u001b[0;34m=\u001b[0m\u001b[0mtf\u001b[0m\u001b[0;34m.\u001b[0m\u001b[0mstring\u001b[0m\u001b[0;34m)\u001b[0m\u001b[0;34m\u001b[0m\u001b[0;34m\u001b[0m\u001b[0m\n\u001b[0m\u001b[1;32m      3\u001b[0m \u001b[0;34m\u001b[0m\u001b[0m\n\u001b[1;32m      4\u001b[0m \u001b[0;31m# Define the model architecture\u001b[0m\u001b[0;34m\u001b[0m\u001b[0;34m\u001b[0m\u001b[0m\n\u001b[1;32m      5\u001b[0m model = tf.keras.Sequential([\n",
            "\u001b[0;31mNameError\u001b[0m: name 'hub' is not defined"
          ]
        }
      ],
      "source": [
        "# Define the ELMo layer\n",
        "elmo = hub.KerasLayer(\"https://tfhub.dev/google/elmo/3\", output_shape=[None, 1024], input_shape=[], dtype=tf.string)\n",
        "\n",
        "# Define the model architecture\n",
        "model = tf.keras.Sequential([\n",
        "    elmo,\n",
        "    tf.keras.layers.Dense(256, activation=\"relu\"),\n",
        "    tf.keras.layers.Dense(128, activation=\"relu\"),\n",
        "    tf.keras.layers.Dense(128, activation=\"relu\"),\n",
        "    tf.keras.layers.Dense(5, activation=\"softmax\")\n",
        "])\n",
        "\n",
        "# Convert train_annot and test_data to tensor slices\n",
        "train_ds = tf.data.Dataset.from_tensor_slices((train_annot['text'], train_annot['label']))\n",
        "valid_ds = tf.data.Dataset.from_tensor_slices((test_data['text'], test_data['label']))\n",
        "\n",
        "# Shuffle and batch the datasets\n",
        "train_ds = train_ds.shuffle(len(train_annot)).batch(32)\n",
        "valid_ds = valid_ds.shuffle(len(test_data)).batch(32)\n",
        "\n",
        "# Compile the model\n",
        "model.compile(loss=\"sparse_categorical_crossentropy\", optimizer=\"adam\", metrics=[\"accuracy\"])\n",
        "\n",
        "# Train the model on train_ds\n",
        "model.fit(train_ds, validation_data=valid_ds, epochs=5)\n",
        "\n",
        "# Evaluate the model on test_ds\n",
        "test_ds = tf.data.Dataset.from_tensor_slices(test_data['text'])\n",
        "test_ds = test_ds.batch(32)\n",
        "model.evaluate(test_ds)"
      ]
    },
    {
      "cell_type": "code",
      "execution_count": null,
      "metadata": {
        "id": "B2B9jAD_UspQ"
      },
      "outputs": [],
      "source": [
        "# Save the model\n",
        "model.save(\"elmo_model.h5\")\n"
      ]
    },
    {
      "cell_type": "code",
      "execution_count": null,
      "metadata": {
        "id": "Wk_L7uEvJTtP"
      },
      "outputs": [],
      "source": []
    },
    {
      "cell_type": "markdown",
      "metadata": {
        "id": "vTK6jSnQJeks"
      },
      "source": [
        "**BI-LSTM**"
      ]
    },
    {
      "cell_type": "code",
      "execution_count": null,
      "metadata": {
        "id": "o1NeDCSuJnPS"
      },
      "outputs": [],
      "source": [
        "import pandas as pd\n",
        "import numpy as np\n",
        "import matplotlib.pyplot as plt\n",
        "import nltk\n",
        "from nltk.corpus import stopwords\n",
        "from nltk.tokenize import word_tokenize\n",
        "import keras\n",
        "from keras.models import Sequential\n",
        "from keras.initializers import Constant\n",
        "from keras.preprocessing.text import Tokenizer\n",
        "from tensorflow.keras.preprocessing.sequence import pad_sequences\n",
        "from tensorflow.keras.optimizers import Adam\n",
        "from keras.layers.convolutional import Conv2D\n",
        "from keras.layers.convolutional import MaxPooling2D\n",
        "from keras.layers import BatchNormalization\n",
        "from keras.callbacks import ReduceLROnPlateau,CSVLogger\n",
        "from tqdm.notebook import tqdm\n",
        "import tensorflow as tf\n",
        "from tensorflow.keras.layers import (\n",
        "    BatchNormalization, LSTM,SeparableConv2D, MaxPooling2D, Activation, Flatten, Dropout, Dense\n",
        ")\n",
        "from tensorflow.keras.layers import Dense, Dropout, Activation,Flatten,Embedding,Conv1D, GlobalMaxPooling1D \n",
        "from sklearn.model_selection import train_test_split\n",
        "from sklearn.metrics import accuracy_score, f1_score, confusion_matrix,classification_report\n",
        "import shutil"
      ]
    },
    {
      "cell_type": "code",
      "execution_count": null,
      "metadata": {
        "id": "2m3Sg8esLCl1"
      },
      "outputs": [],
      "source": [
        "from keras.layers import Embedding\n",
        "from tensorflow.keras.layers import Bidirectional"
      ]
    },
    {
      "cell_type": "code",
      "execution_count": null,
      "metadata": {
        "id": "Wdm5tLiDNOJs"
      },
      "outputs": [],
      "source": [
        "nRowsRead = None"
      ]
    },
    {
      "cell_type": "code",
      "execution_count": null,
      "metadata": {
        "id": "xExfIHFmM773"
      },
      "outputs": [],
      "source": [
        "df0 = pd.read_csv('/content/drive/MyDrive/datasets/minor -2 dataset/Train-2.csv', delimiter=',', nrows = nRowsRead)"
      ]
    },
    {
      "cell_type": "code",
      "execution_count": null,
      "metadata": {
        "colab": {
          "base_uri": "https://localhost:8080/",
          "height": 423
        },
        "id": "XX9Hx_KbNH6d",
        "outputId": "50e4f6e1-9913-4dea-f794-70b5f7f7eac7"
      },
      "outputs": [
        {
          "data": {
            "text/html": [
              "\n",
              "  <div id=\"df-8c8b620e-f151-46ff-9261-6587be9d0764\">\n",
              "    <div class=\"colab-df-container\">\n",
              "      <div>\n",
              "<style scoped>\n",
              "    .dataframe tbody tr th:only-of-type {\n",
              "        vertical-align: middle;\n",
              "    }\n",
              "\n",
              "    .dataframe tbody tr th {\n",
              "        vertical-align: top;\n",
              "    }\n",
              "\n",
              "    .dataframe thead th {\n",
              "        text-align: right;\n",
              "    }\n",
              "</style>\n",
              "<table border=\"1\" class=\"dataframe\">\n",
              "  <thead>\n",
              "    <tr style=\"text-align: right;\">\n",
              "      <th></th>\n",
              "      <th>text</th>\n",
              "      <th>label</th>\n",
              "    </tr>\n",
              "  </thead>\n",
              "  <tbody>\n",
              "    <tr>\n",
              "      <th>0</th>\n",
              "      <td>Knowing ki Vikas kitna samjhata hai Priyanka a...</td>\n",
              "      <td>0</td>\n",
              "    </tr>\n",
              "    <tr>\n",
              "      <th>1</th>\n",
              "      <td>I am Muhajir .. Aur mere lye sab se Pehly Paki...</td>\n",
              "      <td>0</td>\n",
              "    </tr>\n",
              "    <tr>\n",
              "      <th>2</th>\n",
              "      <td>Doctor  sab sahi me ke PhD (in hate politics) ...</td>\n",
              "      <td>0</td>\n",
              "    </tr>\n",
              "    <tr>\n",
              "      <th>3</th>\n",
              "      <td>Poore Desh me Patel OBC me aate Hain sirf gujr...</td>\n",
              "      <td>0</td>\n",
              "    </tr>\n",
              "    <tr>\n",
              "      <th>4</th>\n",
              "      <td>Sarkar banne ke bad Hindu hit me ek bhi faisla...</td>\n",
              "      <td>1</td>\n",
              "    </tr>\n",
              "    <tr>\n",
              "      <th>...</th>\n",
              "      <td>...</td>\n",
              "      <td>...</td>\n",
              "    </tr>\n",
              "    <tr>\n",
              "      <th>3722</th>\n",
              "      <td>pehle confirm karo ke Mohammad ne sach mein 8 ...</td>\n",
              "      <td>0</td>\n",
              "    </tr>\n",
              "    <tr>\n",
              "      <th>3723</th>\n",
              "      <td>ye attankwadi Indian agent hai jo terrorism ph...</td>\n",
              "      <td>0</td>\n",
              "    </tr>\n",
              "    <tr>\n",
              "      <th>3724</th>\n",
              "      <td>bola na terrorism ko support karna band karoge...</td>\n",
              "      <td>0</td>\n",
              "    </tr>\n",
              "    <tr>\n",
              "      <th>3725</th>\n",
              "      <td>lagta hai aap ne movie dekhi hai which is writ...</td>\n",
              "      <td>0</td>\n",
              "    </tr>\n",
              "    <tr>\n",
              "      <th>3726</th>\n",
              "      <td>tum log terrorism ko support karna band kardo ...</td>\n",
              "      <td>0</td>\n",
              "    </tr>\n",
              "  </tbody>\n",
              "</table>\n",
              "<p>3727 rows × 2 columns</p>\n",
              "</div>\n",
              "      <button class=\"colab-df-convert\" onclick=\"convertToInteractive('df-8c8b620e-f151-46ff-9261-6587be9d0764')\"\n",
              "              title=\"Convert this dataframe to an interactive table.\"\n",
              "              style=\"display:none;\">\n",
              "        \n",
              "  <svg xmlns=\"http://www.w3.org/2000/svg\" height=\"24px\"viewBox=\"0 0 24 24\"\n",
              "       width=\"24px\">\n",
              "    <path d=\"M0 0h24v24H0V0z\" fill=\"none\"/>\n",
              "    <path d=\"M18.56 5.44l.94 2.06.94-2.06 2.06-.94-2.06-.94-.94-2.06-.94 2.06-2.06.94zm-11 1L8.5 8.5l.94-2.06 2.06-.94-2.06-.94L8.5 2.5l-.94 2.06-2.06.94zm10 10l.94 2.06.94-2.06 2.06-.94-2.06-.94-.94-2.06-.94 2.06-2.06.94z\"/><path d=\"M17.41 7.96l-1.37-1.37c-.4-.4-.92-.59-1.43-.59-.52 0-1.04.2-1.43.59L10.3 9.45l-7.72 7.72c-.78.78-.78 2.05 0 2.83L4 21.41c.39.39.9.59 1.41.59.51 0 1.02-.2 1.41-.59l7.78-7.78 2.81-2.81c.8-.78.8-2.07 0-2.86zM5.41 20L4 18.59l7.72-7.72 1.47 1.35L5.41 20z\"/>\n",
              "  </svg>\n",
              "      </button>\n",
              "      \n",
              "  <style>\n",
              "    .colab-df-container {\n",
              "      display:flex;\n",
              "      flex-wrap:wrap;\n",
              "      gap: 12px;\n",
              "    }\n",
              "\n",
              "    .colab-df-convert {\n",
              "      background-color: #E8F0FE;\n",
              "      border: none;\n",
              "      border-radius: 50%;\n",
              "      cursor: pointer;\n",
              "      display: none;\n",
              "      fill: #1967D2;\n",
              "      height: 32px;\n",
              "      padding: 0 0 0 0;\n",
              "      width: 32px;\n",
              "    }\n",
              "\n",
              "    .colab-df-convert:hover {\n",
              "      background-color: #E2EBFA;\n",
              "      box-shadow: 0px 1px 2px rgba(60, 64, 67, 0.3), 0px 1px 3px 1px rgba(60, 64, 67, 0.15);\n",
              "      fill: #174EA6;\n",
              "    }\n",
              "\n",
              "    [theme=dark] .colab-df-convert {\n",
              "      background-color: #3B4455;\n",
              "      fill: #D2E3FC;\n",
              "    }\n",
              "\n",
              "    [theme=dark] .colab-df-convert:hover {\n",
              "      background-color: #434B5C;\n",
              "      box-shadow: 0px 1px 3px 1px rgba(0, 0, 0, 0.15);\n",
              "      filter: drop-shadow(0px 1px 2px rgba(0, 0, 0, 0.3));\n",
              "      fill: #FFFFFF;\n",
              "    }\n",
              "  </style>\n",
              "\n",
              "      <script>\n",
              "        const buttonEl =\n",
              "          document.querySelector('#df-8c8b620e-f151-46ff-9261-6587be9d0764 button.colab-df-convert');\n",
              "        buttonEl.style.display =\n",
              "          google.colab.kernel.accessAllowed ? 'block' : 'none';\n",
              "\n",
              "        async function convertToInteractive(key) {\n",
              "          const element = document.querySelector('#df-8c8b620e-f151-46ff-9261-6587be9d0764');\n",
              "          const dataTable =\n",
              "            await google.colab.kernel.invokeFunction('convertToInteractive',\n",
              "                                                     [key], {});\n",
              "          if (!dataTable) return;\n",
              "\n",
              "          const docLinkHtml = 'Like what you see? Visit the ' +\n",
              "            '<a target=\"_blank\" href=https://colab.research.google.com/notebooks/data_table.ipynb>data table notebook</a>'\n",
              "            + ' to learn more about interactive tables.';\n",
              "          element.innerHTML = '';\n",
              "          dataTable['output_type'] = 'display_data';\n",
              "          await google.colab.output.renderOutput(dataTable, element);\n",
              "          const docLink = document.createElement('div');\n",
              "          docLink.innerHTML = docLinkHtml;\n",
              "          element.appendChild(docLink);\n",
              "        }\n",
              "      </script>\n",
              "    </div>\n",
              "  </div>\n",
              "  "
            ],
            "text/plain": [
              "                                                   text  label\n",
              "0     Knowing ki Vikas kitna samjhata hai Priyanka a...      0\n",
              "1     I am Muhajir .. Aur mere lye sab se Pehly Paki...      0\n",
              "2     Doctor  sab sahi me ke PhD (in hate politics) ...      0\n",
              "3     Poore Desh me Patel OBC me aate Hain sirf gujr...      0\n",
              "4     Sarkar banne ke bad Hindu hit me ek bhi faisla...      1\n",
              "...                                                 ...    ...\n",
              "3722  pehle confirm karo ke Mohammad ne sach mein 8 ...      0\n",
              "3723  ye attankwadi Indian agent hai jo terrorism ph...      0\n",
              "3724  bola na terrorism ko support karna band karoge...      0\n",
              "3725  lagta hai aap ne movie dekhi hai which is writ...      0\n",
              "3726  tum log terrorism ko support karna band kardo ...      0\n",
              "\n",
              "[3727 rows x 2 columns]"
            ]
          },
          "execution_count": 6,
          "metadata": {},
          "output_type": "execute_result"
        }
      ],
      "source": [
        "df0"
      ]
    },
    {
      "cell_type": "code",
      "execution_count": null,
      "metadata": {
        "id": "R7OSnYPJNYC0"
      },
      "outputs": [],
      "source": [
        "nRow, nCol = df0.shape"
      ]
    },
    {
      "cell_type": "code",
      "execution_count": null,
      "metadata": {
        "colab": {
          "base_uri": "https://localhost:8080/"
        },
        "id": "uZXciHOWNYOD",
        "outputId": "91071905-0984-4b31-c750-96b0c5c54657"
      },
      "outputs": [
        {
          "name": "stdout",
          "output_type": "stream",
          "text": [
            "There are 3727 rows and 2 columns\n"
          ]
        }
      ],
      "source": [
        "print('There are {} rows and {} columns'.format(nRow, nCol))"
      ]
    },
    {
      "cell_type": "code",
      "execution_count": null,
      "metadata": {
        "id": "7smKQds9NYQ6"
      },
      "outputs": [],
      "source": [
        "a=df0['text']"
      ]
    },
    {
      "cell_type": "code",
      "execution_count": null,
      "metadata": {
        "colab": {
          "base_uri": "https://localhost:8080/"
        },
        "id": "L4ex5EFgPGW-",
        "outputId": "cb4bf26d-b229-4f15-d935-0860cbc5f7b3"
      },
      "outputs": [
        {
          "data": {
            "text/plain": [
              "0       Knowing ki Vikas kitna samjhata hai Priyanka a...\n",
              "1       I am Muhajir .. Aur mere lye sab se Pehly Paki...\n",
              "2       Doctor  sab sahi me ke PhD (in hate politics) ...\n",
              "3       Poore Desh me Patel OBC me aate Hain sirf gujr...\n",
              "4       Sarkar banne ke bad Hindu hit me ek bhi faisla...\n",
              "                              ...                        \n",
              "3722    pehle confirm karo ke Mohammad ne sach mein 8 ...\n",
              "3723    ye attankwadi Indian agent hai jo terrorism ph...\n",
              "3724    bola na terrorism ko support karna band karoge...\n",
              "3725    lagta hai aap ne movie dekhi hai which is writ...\n",
              "3726    tum log terrorism ko support karna band kardo ...\n",
              "Name: text, Length: 3727, dtype: object"
            ]
          },
          "execution_count": 10,
          "metadata": {},
          "output_type": "execute_result"
        }
      ],
      "source": [
        "a"
      ]
    },
    {
      "cell_type": "code",
      "execution_count": null,
      "metadata": {
        "id": "q9uqj2KvNYUT"
      },
      "outputs": [],
      "source": [
        "b=df0['label'].map({0: '0', 1: '1'})"
      ]
    },
    {
      "cell_type": "code",
      "execution_count": null,
      "metadata": {
        "colab": {
          "base_uri": "https://localhost:8080/"
        },
        "id": "lD_pPF0GPO6H",
        "outputId": "3a71945f-9dc6-41d2-b3bc-995e3a12598d"
      },
      "outputs": [
        {
          "data": {
            "text/plain": [
              "0       0\n",
              "1       0\n",
              "2       0\n",
              "3       0\n",
              "4       1\n",
              "       ..\n",
              "3722    0\n",
              "3723    0\n",
              "3724    0\n",
              "3725    0\n",
              "3726    0\n",
              "Name: label, Length: 3727, dtype: object"
            ]
          },
          "execution_count": 12,
          "metadata": {},
          "output_type": "execute_result"
        }
      ],
      "source": [
        "b"
      ]
    },
    {
      "cell_type": "code",
      "execution_count": null,
      "metadata": {
        "id": "0L7PgZf4NYW9"
      },
      "outputs": [],
      "source": [
        "df= pd.concat([a,b], axis=1)"
      ]
    },
    {
      "cell_type": "code",
      "execution_count": null,
      "metadata": {
        "id": "RBUWvPaeCvPZ"
      },
      "outputs": [],
      "source": [
        "nhate,hate = np.bincount(df['label'])\n"
      ]
    },
    {
      "cell_type": "code",
      "execution_count": null,
      "metadata": {
        "id": "qoleOStWD_Ia"
      },
      "outputs": [],
      "source": [
        "total=nhate+hate"
      ]
    },
    {
      "cell_type": "code",
      "execution_count": null,
      "metadata": {
        "colab": {
          "base_uri": "https://localhost:8080/"
        },
        "id": "_IiRcLPuEC6R",
        "outputId": "616a340a-9f10-4504-87a8-74b0f36bb115"
      },
      "outputs": [
        {
          "name": "stdout",
          "output_type": "stream",
          "text": [
            "Examples:\n",
            "    Total: 3727\n",
            "    nhate: 2323 (62.33% of total)\n",
            "\n",
            "Examples:\n",
            "    Total: 3727\n",
            "    hate: 1404 (37.67% of total)\n",
            "\n"
          ]
        }
      ],
      "source": [
        "print('Examples:\\n    Total: {}\\n    nhate: {} ({:.2f}% of total)\\n'.format(\n",
        "    total, nhate, 100 * nhate / total))\n",
        "print('Examples:\\n    Total: {}\\n    hate: {} ({:.2f}% of total)\\n'.format(\n",
        "    total, hate, 100 * hate / total))\n"
      ]
    },
    {
      "cell_type": "code",
      "execution_count": null,
      "metadata": {
        "colab": {
          "base_uri": "https://localhost:8080/",
          "height": 423
        },
        "id": "xYVNIzjgNYZv",
        "outputId": "569a6efd-0aa5-4cb8-c415-6ee4819f9326"
      },
      "outputs": [
        {
          "data": {
            "text/html": [
              "\n",
              "  <div id=\"df-0a4c555d-8326-4a98-8214-0a2a4e503b80\">\n",
              "    <div class=\"colab-df-container\">\n",
              "      <div>\n",
              "<style scoped>\n",
              "    .dataframe tbody tr th:only-of-type {\n",
              "        vertical-align: middle;\n",
              "    }\n",
              "\n",
              "    .dataframe tbody tr th {\n",
              "        vertical-align: top;\n",
              "    }\n",
              "\n",
              "    .dataframe thead th {\n",
              "        text-align: right;\n",
              "    }\n",
              "</style>\n",
              "<table border=\"1\" class=\"dataframe\">\n",
              "  <thead>\n",
              "    <tr style=\"text-align: right;\">\n",
              "      <th></th>\n",
              "      <th>text</th>\n",
              "      <th>label</th>\n",
              "    </tr>\n",
              "  </thead>\n",
              "  <tbody>\n",
              "    <tr>\n",
              "      <th>0</th>\n",
              "      <td>Knowing ki Vikas kitna samjhata hai Priyanka a...</td>\n",
              "      <td>0</td>\n",
              "    </tr>\n",
              "    <tr>\n",
              "      <th>1</th>\n",
              "      <td>I am Muhajir .. Aur mere lye sab se Pehly Paki...</td>\n",
              "      <td>0</td>\n",
              "    </tr>\n",
              "    <tr>\n",
              "      <th>2</th>\n",
              "      <td>Doctor  sab sahi me ke PhD (in hate politics) ...</td>\n",
              "      <td>0</td>\n",
              "    </tr>\n",
              "    <tr>\n",
              "      <th>3</th>\n",
              "      <td>Poore Desh me Patel OBC me aate Hain sirf gujr...</td>\n",
              "      <td>0</td>\n",
              "    </tr>\n",
              "    <tr>\n",
              "      <th>4</th>\n",
              "      <td>Sarkar banne ke bad Hindu hit me ek bhi faisla...</td>\n",
              "      <td>1</td>\n",
              "    </tr>\n",
              "    <tr>\n",
              "      <th>...</th>\n",
              "      <td>...</td>\n",
              "      <td>...</td>\n",
              "    </tr>\n",
              "    <tr>\n",
              "      <th>3722</th>\n",
              "      <td>pehle confirm karo ke Mohammad ne sach mein 8 ...</td>\n",
              "      <td>0</td>\n",
              "    </tr>\n",
              "    <tr>\n",
              "      <th>3723</th>\n",
              "      <td>ye attankwadi Indian agent hai jo terrorism ph...</td>\n",
              "      <td>0</td>\n",
              "    </tr>\n",
              "    <tr>\n",
              "      <th>3724</th>\n",
              "      <td>bola na terrorism ko support karna band karoge...</td>\n",
              "      <td>0</td>\n",
              "    </tr>\n",
              "    <tr>\n",
              "      <th>3725</th>\n",
              "      <td>lagta hai aap ne movie dekhi hai which is writ...</td>\n",
              "      <td>0</td>\n",
              "    </tr>\n",
              "    <tr>\n",
              "      <th>3726</th>\n",
              "      <td>tum log terrorism ko support karna band kardo ...</td>\n",
              "      <td>0</td>\n",
              "    </tr>\n",
              "  </tbody>\n",
              "</table>\n",
              "<p>3727 rows × 2 columns</p>\n",
              "</div>\n",
              "      <button class=\"colab-df-convert\" onclick=\"convertToInteractive('df-0a4c555d-8326-4a98-8214-0a2a4e503b80')\"\n",
              "              title=\"Convert this dataframe to an interactive table.\"\n",
              "              style=\"display:none;\">\n",
              "        \n",
              "  <svg xmlns=\"http://www.w3.org/2000/svg\" height=\"24px\"viewBox=\"0 0 24 24\"\n",
              "       width=\"24px\">\n",
              "    <path d=\"M0 0h24v24H0V0z\" fill=\"none\"/>\n",
              "    <path d=\"M18.56 5.44l.94 2.06.94-2.06 2.06-.94-2.06-.94-.94-2.06-.94 2.06-2.06.94zm-11 1L8.5 8.5l.94-2.06 2.06-.94-2.06-.94L8.5 2.5l-.94 2.06-2.06.94zm10 10l.94 2.06.94-2.06 2.06-.94-2.06-.94-.94-2.06-.94 2.06-2.06.94z\"/><path d=\"M17.41 7.96l-1.37-1.37c-.4-.4-.92-.59-1.43-.59-.52 0-1.04.2-1.43.59L10.3 9.45l-7.72 7.72c-.78.78-.78 2.05 0 2.83L4 21.41c.39.39.9.59 1.41.59.51 0 1.02-.2 1.41-.59l7.78-7.78 2.81-2.81c.8-.78.8-2.07 0-2.86zM5.41 20L4 18.59l7.72-7.72 1.47 1.35L5.41 20z\"/>\n",
              "  </svg>\n",
              "      </button>\n",
              "      \n",
              "  <style>\n",
              "    .colab-df-container {\n",
              "      display:flex;\n",
              "      flex-wrap:wrap;\n",
              "      gap: 12px;\n",
              "    }\n",
              "\n",
              "    .colab-df-convert {\n",
              "      background-color: #E8F0FE;\n",
              "      border: none;\n",
              "      border-radius: 50%;\n",
              "      cursor: pointer;\n",
              "      display: none;\n",
              "      fill: #1967D2;\n",
              "      height: 32px;\n",
              "      padding: 0 0 0 0;\n",
              "      width: 32px;\n",
              "    }\n",
              "\n",
              "    .colab-df-convert:hover {\n",
              "      background-color: #E2EBFA;\n",
              "      box-shadow: 0px 1px 2px rgba(60, 64, 67, 0.3), 0px 1px 3px 1px rgba(60, 64, 67, 0.15);\n",
              "      fill: #174EA6;\n",
              "    }\n",
              "\n",
              "    [theme=dark] .colab-df-convert {\n",
              "      background-color: #3B4455;\n",
              "      fill: #D2E3FC;\n",
              "    }\n",
              "\n",
              "    [theme=dark] .colab-df-convert:hover {\n",
              "      background-color: #434B5C;\n",
              "      box-shadow: 0px 1px 3px 1px rgba(0, 0, 0, 0.15);\n",
              "      filter: drop-shadow(0px 1px 2px rgba(0, 0, 0, 0.3));\n",
              "      fill: #FFFFFF;\n",
              "    }\n",
              "  </style>\n",
              "\n",
              "      <script>\n",
              "        const buttonEl =\n",
              "          document.querySelector('#df-0a4c555d-8326-4a98-8214-0a2a4e503b80 button.colab-df-convert');\n",
              "        buttonEl.style.display =\n",
              "          google.colab.kernel.accessAllowed ? 'block' : 'none';\n",
              "\n",
              "        async function convertToInteractive(key) {\n",
              "          const element = document.querySelector('#df-0a4c555d-8326-4a98-8214-0a2a4e503b80');\n",
              "          const dataTable =\n",
              "            await google.colab.kernel.invokeFunction('convertToInteractive',\n",
              "                                                     [key], {});\n",
              "          if (!dataTable) return;\n",
              "\n",
              "          const docLinkHtml = 'Like what you see? Visit the ' +\n",
              "            '<a target=\"_blank\" href=https://colab.research.google.com/notebooks/data_table.ipynb>data table notebook</a>'\n",
              "            + ' to learn more about interactive tables.';\n",
              "          element.innerHTML = '';\n",
              "          dataTable['output_type'] = 'display_data';\n",
              "          await google.colab.output.renderOutput(dataTable, element);\n",
              "          const docLink = document.createElement('div');\n",
              "          docLink.innerHTML = docLinkHtml;\n",
              "          element.appendChild(docLink);\n",
              "        }\n",
              "      </script>\n",
              "    </div>\n",
              "  </div>\n",
              "  "
            ],
            "text/plain": [
              "                                                   text label\n",
              "0     Knowing ki Vikas kitna samjhata hai Priyanka a...     0\n",
              "1     I am Muhajir .. Aur mere lye sab se Pehly Paki...     0\n",
              "2     Doctor  sab sahi me ke PhD (in hate politics) ...     0\n",
              "3     Poore Desh me Patel OBC me aate Hain sirf gujr...     0\n",
              "4     Sarkar banne ke bad Hindu hit me ek bhi faisla...     1\n",
              "...                                                 ...   ...\n",
              "3722  pehle confirm karo ke Mohammad ne sach mein 8 ...     0\n",
              "3723  ye attankwadi Indian agent hai jo terrorism ph...     0\n",
              "3724  bola na terrorism ko support karna band karoge...     0\n",
              "3725  lagta hai aap ne movie dekhi hai which is writ...     0\n",
              "3726  tum log terrorism ko support karna band kardo ...     0\n",
              "\n",
              "[3727 rows x 2 columns]"
            ]
          },
          "execution_count": 17,
          "metadata": {},
          "output_type": "execute_result"
        }
      ],
      "source": [
        "df"
      ]
    },
    {
      "cell_type": "code",
      "execution_count": null,
      "metadata": {
        "colab": {
          "background_save": true
        },
        "id": "Nw2pupjIXvNK"
      },
      "outputs": [],
      "source": [
        "df[\"text\"] = str(df[\"text\"]).lower()"
      ]
    },
    {
      "cell_type": "code",
      "execution_count": null,
      "metadata": {
        "colab": {
          "background_save": true
        },
        "id": "Ed0CtfOFKUfK"
      },
      "outputs": [],
      "source": [
        "df['label'] = df['label'].astype(int)"
      ]
    },
    {
      "cell_type": "code",
      "execution_count": null,
      "metadata": {
        "id": "gfQhJBiJX15g"
      },
      "outputs": [],
      "source": [
        "x= df['text']\n",
        "y=df['label']"
      ]
    },
    {
      "cell_type": "code",
      "execution_count": null,
      "metadata": {
        "id": "HjoU40y3NYgB"
      },
      "outputs": [],
      "source": [
        "texts = x\n",
        "target = y"
      ]
    },
    {
      "cell_type": "code",
      "execution_count": null,
      "metadata": {
        "colab": {
          "base_uri": "https://localhost:8080/"
        },
        "id": "eACJ--orJdBN",
        "outputId": "91e4ae6a-b936-4746-aad9-27c234eb4050"
      },
      "outputs": [
        {
          "data": {
            "text/plain": [
              "pandas.core.series.Series"
            ]
          },
          "execution_count": 24,
          "metadata": {},
          "output_type": "execute_result"
        }
      ],
      "source": [
        "type(texts)"
      ]
    },
    {
      "cell_type": "code",
      "execution_count": null,
      "metadata": {
        "colab": {
          "base_uri": "https://localhost:8080/"
        },
        "id": "Ps_OmGclJf6O",
        "outputId": "647fa909-c8d4-4ed6-94bb-ac89e8f3865e"
      },
      "outputs": [
        {
          "data": {
            "text/plain": [
              "pandas.core.series.Series"
            ]
          },
          "execution_count": 25,
          "metadata": {},
          "output_type": "execute_result"
        }
      ],
      "source": [
        "type(target)"
      ]
    },
    {
      "cell_type": "code",
      "execution_count": null,
      "metadata": {
        "colab": {
          "base_uri": "https://localhost:8080/"
        },
        "id": "xLHYuyJERGgY",
        "outputId": "128b2439-3dee-49ca-c866-405c76a2d2a4"
      },
      "outputs": [
        {
          "name": "stderr",
          "output_type": "stream",
          "text": [
            "[nltk_data] Downloading package punkt to /root/nltk_data...\n",
            "[nltk_data]   Unzipping tokenizers/punkt.zip.\n"
          ]
        },
        {
          "data": {
            "text/plain": [
              "True"
            ]
          },
          "execution_count": 26,
          "metadata": {},
          "output_type": "execute_result"
        }
      ],
      "source": [
        "import nltk\n",
        "nltk.download('punkt')"
      ]
    },
    {
      "cell_type": "code",
      "execution_count": null,
      "metadata": {
        "id": "CyoA8jUzXd6G"
      },
      "outputs": [],
      "source": [
        "word_tokenizer = Tokenizer()\n",
        "word_tokenizer.fit_on_texts(texts)"
      ]
    },
    {
      "cell_type": "code",
      "execution_count": null,
      "metadata": {
        "id": "VG0Rrx4vNYil"
      },
      "outputs": [],
      "source": [
        "vocab_length = len(word_tokenizer.word_index) + 1\n",
        "\n",
        "def embed(text_data): \n",
        "    return word_tokenizer.texts_to_sequences(text_data)\n",
        "\n",
        "longest_train = max(texts, key=lambda sentence: len(word_tokenize(sentence)))\n",
        "length_long_sentence = len(word_tokenize(longest_train))"
      ]
    },
    {
      "cell_type": "code",
      "execution_count": null,
      "metadata": {
        "id": "tNVlFJQdNYlK"
      },
      "outputs": [],
      "source": [
        "train_padded_sentences = pad_sequences(\n",
        "    embed(texts), \n",
        "    length_long_sentence, \n",
        "    padding='post'\n",
        ")"
      ]
    },
    {
      "cell_type": "code",
      "execution_count": null,
      "metadata": {
        "id": "o0J-xFnqNYn4"
      },
      "outputs": [],
      "source": [
        "embeddings_dictionary = dict()\n",
        "embedding_dim = 100"
      ]
    },
    {
      "cell_type": "code",
      "execution_count": null,
      "metadata": {
        "id": "trrfNXumNY4I"
      },
      "outputs": [],
      "source": [
        "embedding_matrix = np.zeros((vocab_length, embedding_dim))\n",
        "#creating embedding matrix\n",
        "for word, index in word_tokenizer.word_index.items(): \n",
        "    embedding_vector = embeddings_dictionary.get(word)\n",
        "    if embedding_vector is not None:\n",
        "        embedding_matrix[index] = embedding_vector"
      ]
    },
    {
      "cell_type": "code",
      "execution_count": null,
      "metadata": {
        "id": "Q20JaZe3NY7X"
      },
      "outputs": [],
      "source": [
        "X_train, X_test, y_train, y_test = train_test_split(\n",
        "    train_padded_sentences, \n",
        "    target, \n",
        "    test_size=0.25\n",
        ")"
      ]
    },
    {
      "cell_type": "code",
      "execution_count": null,
      "metadata": {
        "colab": {
          "base_uri": "https://localhost:8080/"
        },
        "id": "k_NJ80yBJkfY",
        "outputId": "2cc36980-a70e-4a3c-bbbd-edbfa40fe38c"
      },
      "outputs": [
        {
          "data": {
            "text/plain": [
              "numpy.ndarray"
            ]
          },
          "execution_count": 33,
          "metadata": {},
          "output_type": "execute_result"
        }
      ],
      "source": [
        "type(X_train)"
      ]
    },
    {
      "cell_type": "code",
      "execution_count": null,
      "metadata": {
        "colab": {
          "base_uri": "https://localhost:8080/"
        },
        "id": "C_pK_mO_JoB7",
        "outputId": "ff550b2a-98a9-437b-b694-ccc03b97ab81"
      },
      "outputs": [
        {
          "data": {
            "text/plain": [
              "pandas.core.series.Series"
            ]
          },
          "execution_count": 34,
          "metadata": {},
          "output_type": "execute_result"
        }
      ],
      "source": [
        "type(y_train)"
      ]
    },
    {
      "cell_type": "code",
      "execution_count": null,
      "metadata": {
        "id": "v7OAN9oBIzzM"
      },
      "outputs": [],
      "source": [
        "y_train=y_train.to_numpy()"
      ]
    },
    {
      "cell_type": "code",
      "execution_count": null,
      "metadata": {
        "id": "XV6_cFM2I74t"
      },
      "outputs": [],
      "source": [
        "y_test=y_test.to_numpy()"
      ]
    },
    {
      "cell_type": "code",
      "execution_count": null,
      "metadata": {
        "colab": {
          "base_uri": "https://localhost:8080/"
        },
        "id": "ji2N8YtyJsoy",
        "outputId": "3a8e6b8c-e777-4ca6-95b9-2e54bfd9c320"
      },
      "outputs": [
        {
          "data": {
            "text/plain": [
              "numpy.ndarray"
            ]
          },
          "execution_count": 37,
          "metadata": {},
          "output_type": "execute_result"
        }
      ],
      "source": [
        "type(y_train)"
      ]
    },
    {
      "cell_type": "code",
      "execution_count": null,
      "metadata": {
        "id": "kmoSqedZKiOl"
      },
      "outputs": [],
      "source": [
        "X_train = X_train.astype(int)"
      ]
    },
    {
      "cell_type": "code",
      "execution_count": null,
      "metadata": {
        "id": "i7bKkHKUK3kx"
      },
      "outputs": [],
      "source": [
        "X_test = X_test.astype(int)"
      ]
    },
    {
      "cell_type": "code",
      "execution_count": null,
      "metadata": {
        "id": "5wH5Wk1OK7pT"
      },
      "outputs": [],
      "source": [
        "y_train = y_train.astype(int)"
      ]
    },
    {
      "cell_type": "code",
      "execution_count": null,
      "metadata": {
        "id": "yPYTskRCK-xT"
      },
      "outputs": [],
      "source": [
        "y_test = y_test.astype(int)"
      ]
    },
    {
      "cell_type": "code",
      "execution_count": null,
      "metadata": {
        "id": "X4Z7dFATNY-Z"
      },
      "outputs": [],
      "source": [
        "X_train, x_val, y_train, y_val = train_test_split(\n",
        "    X_train, \n",
        "    y_train,\n",
        "    test_size=0.1 )\n"
      ]
    },
    {
      "cell_type": "code",
      "execution_count": null,
      "metadata": {
        "id": "dBw3blUPNZBy"
      },
      "outputs": [],
      "source": [
        "def bilstm():\n",
        "    model = Sequential()\n",
        "    #adding embediing layer\n",
        "    model.add(Embedding(\n",
        "        input_dim=embedding_matrix.shape[0], \n",
        "        output_dim=embedding_matrix.shape[1], \n",
        "        weights = [embedding_matrix], \n",
        "        input_length=length_long_sentence))\n",
        "    #adding Bi_lstm later\n",
        "    model.add(Bidirectional(LSTM(\n",
        "        length_long_sentence, \n",
        "        return_sequences = True, \n",
        "        recurrent_dropout=0.2)))\n",
        "    model.add(GlobalMaxPooling1D()) #globalmaxpooling_layer\n",
        "    model.add(BatchNormalization()) #bath_normalisation\n",
        "    model.add(Dropout(0.5)) #dropout_1\n",
        "    model.add(Dense(length_long_sentence, activation = \"relu\")) #denselayer_1\n",
        "    model.add(Dropout(0.5)) #dropout_2\n",
        "    model.add(Dense(length_long_sentence, activation = \"relu\")) #denselayer_2\n",
        "    model.add(Dropout(0.5)) #dropout_3\n",
        "    model.add(Dense(3, activation = 'softmax')) #classification_layer\n",
        "    model.compile(loss = 'sparse_categorical_crossentropy', optimizer = 'adam', metrics = ['accuracy'])\n",
        "    return model"
      ]
    },
    {
      "cell_type": "code",
      "execution_count": null,
      "metadata": {
        "colab": {
          "base_uri": "https://localhost:8080/"
        },
        "id": "I06ocPo-NZEt",
        "outputId": "7da28906-a58f-47b5-cb71-292b3a7479ac"
      },
      "outputs": [
        {
          "name": "stderr",
          "output_type": "stream",
          "text": [
            "WARNING:tensorflow:Layer lstm will not use cuDNN kernels since it doesn't meet the criteria. It will use a generic GPU kernel as fallback when running on GPU.\n",
            "WARNING:tensorflow:Layer lstm will not use cuDNN kernels since it doesn't meet the criteria. It will use a generic GPU kernel as fallback when running on GPU.\n",
            "WARNING:tensorflow:Layer lstm will not use cuDNN kernels since it doesn't meet the criteria. It will use a generic GPU kernel as fallback when running on GPU.\n"
          ]
        }
      ],
      "source": [
        "bilstm_model = bilstm()"
      ]
    },
    {
      "cell_type": "code",
      "execution_count": null,
      "metadata": {
        "id": "8zDLPhHeEg_A"
      },
      "outputs": [],
      "source": [
        "weight_class1 = (1 / nhate)*(total)/2.0 \n",
        "weight_class2 = (1 / hate)*(total)/2.0\n",
        "class_weight = {0: weight_class1, 1: weight_class2}"
      ]
    },
    {
      "cell_type": "code",
      "execution_count": null,
      "metadata": {
        "id": "l1XQ3e0qNZH0"
      },
      "outputs": [],
      "source": [
        "reduce_lr = ReduceLROnPlateau(\n",
        "    monitor = 'val_loss', \n",
        "    factor = 0.2, \n",
        "    verbose = 1, \n",
        "    patience = 5,                        \n",
        "    min_lr = 0.001\n",
        ")"
      ]
    },
    {
      "cell_type": "code",
      "execution_count": null,
      "metadata": {
        "id": "j1G4PKRxNZKd"
      },
      "outputs": [],
      "source": [
        "epoch_count=10\n",
        "batch_size= 16"
      ]
    },
    {
      "cell_type": "code",
      "execution_count": null,
      "metadata": {
        "colab": {
          "base_uri": "https://localhost:8080/"
        },
        "id": "KdcuzFUVHfPO",
        "outputId": "6005609f-e7dd-40c1-ab60-8f12bfc3b51a"
      },
      "outputs": [
        {
          "data": {
            "text/plain": [
              "array([[11, 12, 13, ...,  0,  0,  0],\n",
              "       [11, 12, 13, ...,  0,  0,  0],\n",
              "       [11, 12, 13, ...,  0,  0,  0],\n",
              "       ...,\n",
              "       [11, 12, 13, ...,  0,  0,  0],\n",
              "       [11, 12, 13, ...,  0,  0,  0],\n",
              "       [11, 12, 13, ...,  0,  0,  0]])"
            ]
          },
          "execution_count": 55,
          "metadata": {},
          "output_type": "execute_result"
        }
      ],
      "source": [
        "X_test"
      ]
    },
    {
      "cell_type": "code",
      "execution_count": null,
      "metadata": {
        "colab": {
          "base_uri": "https://localhost:8080/"
        },
        "id": "THnww_LdE_Uw",
        "outputId": "d72cbf65-a775-486a-bf0c-5e9e79210cc0"
      },
      "outputs": [
        {
          "data": {
            "text/plain": [
              "numpy.ndarray"
            ]
          },
          "execution_count": 56,
          "metadata": {},
          "output_type": "execute_result"
        }
      ],
      "source": [
        "type(y_train)"
      ]
    },
    {
      "cell_type": "code",
      "execution_count": null,
      "metadata": {
        "colab": {
          "base_uri": "https://localhost:8080/"
        },
        "id": "1hWdYJMQFZUg",
        "outputId": "e81702ac-bb6c-4b43-fb0b-5f8163af9936"
      },
      "outputs": [
        {
          "data": {
            "text/plain": [
              "numpy.ndarray"
            ]
          },
          "execution_count": 57,
          "metadata": {},
          "output_type": "execute_result"
        }
      ],
      "source": [
        "type(X_train)"
      ]
    },
    {
      "cell_type": "code",
      "execution_count": null,
      "metadata": {
        "colab": {
          "base_uri": "https://localhost:8080/"
        },
        "id": "_xA69zZgGs6R",
        "outputId": "bd325ef8-9187-4999-ba29-a3454ae3bbf3"
      },
      "outputs": [
        {
          "data": {
            "text/plain": [
              "numpy.ndarray"
            ]
          },
          "execution_count": 58,
          "metadata": {},
          "output_type": "execute_result"
        }
      ],
      "source": [
        "type(y_test)"
      ]
    },
    {
      "cell_type": "code",
      "execution_count": null,
      "metadata": {
        "colab": {
          "base_uri": "https://localhost:8080/"
        },
        "id": "OOvSkvX2GpOP",
        "outputId": "3617e542-feb4-450a-ab16-8464c4cf1583"
      },
      "outputs": [
        {
          "data": {
            "text/plain": [
              "numpy.ndarray"
            ]
          },
          "execution_count": 59,
          "metadata": {},
          "output_type": "execute_result"
        }
      ],
      "source": [
        "type(X_test)"
      ]
    },
    {
      "cell_type": "code",
      "execution_count": null,
      "metadata": {
        "colab": {
          "base_uri": "https://localhost:8080/"
        },
        "id": "7u77GFQWNZOJ",
        "outputId": "c66bf044-48b6-43d3-fdfa-b2d7ec06d2fd"
      },
      "outputs": [
        {
          "name": "stdout",
          "output_type": "stream",
          "text": [
            "Epoch 1/10\n",
            "158/158 [==============================] - 143s 908ms/step - loss: 0.9016 - accuracy: 0.4986 - val_loss: 0.8809 - val_accuracy: 0.6107 - lr: 0.0010\n",
            "Epoch 2/10\n",
            "158/158 [==============================] - 146s 920ms/step - loss: 0.8687 - accuracy: 0.4946 - val_loss: 0.8518 - val_accuracy: 0.6107 - lr: 0.0010\n",
            "Epoch 3/10\n",
            "158/158 [==============================] - 144s 912ms/step - loss: 0.8428 - accuracy: 0.3813 - val_loss: 0.8299 - val_accuracy: 0.3893 - lr: 0.0010\n",
            "Epoch 4/10\n",
            "158/158 [==============================] - 143s 907ms/step - loss: 0.8221 - accuracy: 0.3813 - val_loss: 0.8120 - val_accuracy: 0.3893 - lr: 0.0010\n",
            "Epoch 5/10\n",
            "158/158 [==============================] - 144s 910ms/step - loss: 0.8055 - accuracy: 0.5101 - val_loss: 0.7971 - val_accuracy: 0.3893 - lr: 0.0010\n",
            "Epoch 6/10\n",
            "158/158 [==============================] - 143s 905ms/step - loss: 0.7918 - accuracy: 0.3813 - val_loss: 0.7857 - val_accuracy: 0.3893 - lr: 0.0010\n",
            "Epoch 7/10\n",
            "158/158 [==============================] - 143s 903ms/step - loss: 0.7805 - accuracy: 0.3813 - val_loss: 0.7748 - val_accuracy: 0.3893 - lr: 0.0010\n",
            "Epoch 8/10\n",
            "158/158 [==============================] - 145s 920ms/step - loss: 0.7710 - accuracy: 0.3813 - val_loss: 0.7659 - val_accuracy: 0.3893 - lr: 0.0010\n",
            "Epoch 9/10\n",
            "158/158 [==============================] - 142s 898ms/step - loss: 0.7629 - accuracy: 0.3813 - val_loss: 0.7581 - val_accuracy: 0.3893 - lr: 0.0010\n",
            "Epoch 10/10\n",
            "158/158 [==============================] - 145s 917ms/step - loss: 0.7561 - accuracy: 0.3813 - val_loss: 0.7518 - val_accuracy: 0.3893 - lr: 0.0010\n"
          ]
        }
      ],
      "source": [
        "history = bilstm_model.fit(\n",
        "    X_train, \n",
        "    y_train, \n",
        "    epochs = epoch_count,\n",
        "    batch_size = batch_size,\n",
        "    validation_data = (x_val, y_val),\n",
        "    verbose = 1,\n",
        "    callbacks = [reduce_lr],\n",
        "    class_weight=class_weight\n",
        ")"
      ]
    },
    {
      "cell_type": "code",
      "execution_count": null,
      "metadata": {
        "id": "497A21mIG9Bd"
      },
      "outputs": [],
      "source": [
        "def plot_learning_curves(history, arr):\n",
        "    fig, ax = plt.subplots(1, 2, figsize=(20, 5))\n",
        "    for idx in range(2):\n",
        "        ax[idx].plot(history.history[arr[idx][0]])\n",
        "        ax[idx].plot(history.history[arr[idx][1]])\n",
        "        ax[idx].legend([arr[idx][0], arr[idx][1]],fontsize=17)\n",
        "        ax[idx].set_xlabel('Loss ',fontsize=14)\n",
        "        ax[idx].set_ylabel('Accuracy',fontsize=14)\n",
        "        ax[idx].set_title(arr[idx][0] + ' X ' + arr[idx][1],fontsize=16)"
      ]
    },
    {
      "cell_type": "code",
      "execution_count": null,
      "metadata": {
        "colab": {
          "base_uri": "https://localhost:8080/",
          "height": 430
        },
        "id": "AnJ-6EtAM778",
        "outputId": "30b9d707-e1ed-4e3c-e444-d9790c052ae9"
      },
      "outputs": [
        {
          "data": {
            "image/png": "[encoded data removed]",
            "text/plain": [
              "<Figure size 2000x500 with 2 Axes>"
            ]
          },
          "metadata": {},
          "output_type": "display_data"
        }
      ],
      "source": [
        "plot_learning_curves(history, [['loss', 'val_loss'],['accuracy', 'val_accuracy']])"
      ]
    },
    {
      "cell_type": "code",
      "execution_count": null,
      "metadata": {
        "colab": {
          "base_uri": "https://localhost:8080/"
        },
        "id": "V5sGaD9mNB4w",
        "outputId": "7871461f-b340-40ee-f8c8-730abb0ed92a"
      },
      "outputs": [
        {
          "name": "stdout",
          "output_type": "stream",
          "text": [
            "30/30 [==============================] - 4s 140ms/step\n"
          ]
        }
      ],
      "source": [
        "preds= np.argmax(bilstm_model.predict(X_test), axis=-1)"
      ]
    },
    {
      "cell_type": "code",
      "execution_count": null,
      "metadata": {
        "colab": {
          "base_uri": "https://localhost:8080/"
        },
        "id": "LG5FYaxTNPId",
        "outputId": "8c06fa6e-e28e-4dcd-804b-fc19182c783e"
      },
      "outputs": [
        {
          "name": "stdout",
          "output_type": "stream",
          "text": [
            "              precision    recall  f1-score   support\n",
            "\n",
            "           0       0.00      0.00      0.00       596\n",
            "           1       0.36      1.00      0.53       336\n",
            "\n",
            "    accuracy                           0.36       932\n",
            "   macro avg       0.18      0.50      0.26       932\n",
            "weighted avg       0.13      0.36      0.19       932\n",
            "\n",
            "[[  0 596]\n",
            " [  0 336]]\n"
          ]
        },
        {
          "name": "stderr",
          "output_type": "stream",
          "text": [
            "/usr/local/lib/python3.10/dist-packages/sklearn/metrics/_classification.py:1344: UndefinedMetricWarning: Precision and F-score are ill-defined and being set to 0.0 in labels with no predicted samples. Use `zero_division` parameter to control this behavior.\n",
            "  _warn_prf(average, modifier, msg_start, len(result))\n",
            "/usr/local/lib/python3.10/dist-packages/sklearn/metrics/_classification.py:1344: UndefinedMetricWarning: Precision and F-score are ill-defined and being set to 0.0 in labels with no predicted samples. Use `zero_division` parameter to control this behavior.\n",
            "  _warn_prf(average, modifier, msg_start, len(result))\n",
            "/usr/local/lib/python3.10/dist-packages/sklearn/metrics/_classification.py:1344: UndefinedMetricWarning: Precision and F-score are ill-defined and being set to 0.0 in labels with no predicted samples. Use `zero_division` parameter to control this behavior.\n",
            "  _warn_prf(average, modifier, msg_start, len(result))\n"
          ]
        }
      ],
      "source": [
        "print(classification_report(y_test,preds ))\n",
        "print(confusion_matrix(y_test, preds))"
      ]
    },
    {
      "cell_type": "code",
      "execution_count": null,
      "metadata": {
        "id": "z6EKTik-NVAq"
      },
      "outputs": [],
      "source": [
        "filters= 32\n",
        "kernel_size=2\n",
        "hidden_dims= 128"
      ]
    },
    {
      "cell_type": "code",
      "execution_count": null,
      "metadata": {
        "id": "4S4zPgpENZRf"
      },
      "outputs": [],
      "source": [
        "def CNN():\n",
        "    model = Sequential()\n",
        "    #adding embedding layer\n",
        "    model.add(Embedding(\n",
        "        input_dim=embedding_matrix.shape[0], \n",
        "        output_dim=embedding_matrix.shape[1], \n",
        "        weights = [embedding_matrix], \n",
        "        input_length=length_long_sentence))\n",
        "    # 2 CNN layer\n",
        "    model.add(Conv1D(32,2,padding='valid', activation='relu')) #cnn_layer_1\n",
        "    model.add(Conv1D(64,2,padding='valid',activation='relu')) #cnn_layer_2\n",
        "    model.add(GlobalMaxPooling1D()) #globalmaxpooling_layer\n",
        "    model.add(Dense(256, activation='relu')) #dense_layer\n",
        "    model.add(Dropout(0.1)) #dropout_layer\n",
        "    model.add(Dense(3, activation = 'softmax')) #classification layer\n",
        "    model.compile(loss = 'sparse_categorical_crossentropy', optimizer = 'adam', metrics = ['accuracy'])\n",
        "    return model"
      ]
    },
    {
      "cell_type": "code",
      "execution_count": null,
      "metadata": {
        "id": "KPTIh_LANZU2"
      },
      "outputs": [],
      "source": [
        "model2=CNN()"
      ]
    },
    {
      "cell_type": "code",
      "execution_count": null,
      "metadata": {
        "colab": {
          "base_uri": "https://localhost:8080/"
        },
        "id": "NxiZgA3KNZX0",
        "outputId": "ee28e9aa-b124-4281-b051-17578b3f2010"
      },
      "outputs": [
        {
          "name": "stdout",
          "output_type": "stream",
          "text": [
            "Epoch 1/10\n",
            "158/158 [==============================] - 9s 9ms/step - loss: 1.0537 - accuracy: 0.6187 - val_loss: 1.0124 - val_accuracy: 0.6107 - lr: 0.0010\n",
            "Epoch 2/10\n",
            "158/158 [==============================] - 1s 5ms/step - loss: 0.9775 - accuracy: 0.6187 - val_loss: 0.9467 - val_accuracy: 0.6107 - lr: 0.0010\n",
            "Epoch 3/10\n",
            "158/158 [==============================] - 1s 5ms/step - loss: 0.9191 - accuracy: 0.6187 - val_loss: 0.8966 - val_accuracy: 0.6107 - lr: 0.0010\n",
            "Epoch 4/10\n",
            "158/158 [==============================] - 1s 5ms/step - loss: 0.8745 - accuracy: 0.6187 - val_loss: 0.8580 - val_accuracy: 0.6107 - lr: 0.0010\n",
            "Epoch 5/10\n",
            "158/158 [==============================] - 1s 5ms/step - loss: 0.8401 - accuracy: 0.6187 - val_loss: 0.8282 - val_accuracy: 0.6107 - lr: 0.0010\n",
            "Epoch 6/10\n",
            "158/158 [==============================] - 1s 5ms/step - loss: 0.8133 - accuracy: 0.6187 - val_loss: 0.8048 - val_accuracy: 0.6107 - lr: 0.0010\n",
            "Epoch 7/10\n",
            "158/158 [==============================] - 1s 5ms/step - loss: 0.7920 - accuracy: 0.6187 - val_loss: 0.7861 - val_accuracy: 0.6107 - lr: 0.0010\n",
            "Epoch 8/10\n",
            "158/158 [==============================] - 1s 5ms/step - loss: 0.7749 - accuracy: 0.6187 - val_loss: 0.7709 - val_accuracy: 0.6107 - lr: 0.0010\n",
            "Epoch 9/10\n",
            "158/158 [==============================] - 1s 5ms/step - loss: 0.7610 - accuracy: 0.6187 - val_loss: 0.7586 - val_accuracy: 0.6107 - lr: 0.0010\n",
            "Epoch 10/10\n",
            "158/158 [==============================] - 1s 5ms/step - loss: 0.7497 - accuracy: 0.6187 - val_loss: 0.7482 - val_accuracy: 0.6107 - lr: 0.0010\n"
          ]
        }
      ],
      "source": [
        "history2 = model2.fit(\n",
        "    X_train, \n",
        "    y_train, \n",
        "    epochs = epoch_count,\n",
        "    batch_size = batch_size,\n",
        "    validation_data = (x_val, y_val),\n",
        "    verbose = 1,\n",
        "    callbacks = [reduce_lr],\n",
        ")"
      ]
    },
    {
      "cell_type": "code",
      "execution_count": null,
      "metadata": {
        "colab": {
          "base_uri": "https://localhost:8080/",
          "height": 762
        },
        "id": "h0QINB5aNinU",
        "outputId": "651f21a9-f6cc-47ed-d88a-9e57e6975605"
      },
      "outputs": [
        {
          "name": "stdout",
          "output_type": "stream",
          "text": [
            "30/30 [==============================] - 0s 3ms/step\n",
            "              precision    recall  f1-score   support\n",
            "\n",
            "           0       0.64      1.00      0.78       596\n",
            "           1       0.00      0.00      0.00       336\n",
            "\n",
            "    accuracy                           0.64       932\n",
            "   macro avg       0.32      0.50      0.39       932\n",
            "weighted avg       0.41      0.64      0.50       932\n",
            "\n",
            "[[596   0]\n",
            " [336   0]]\n"
          ]
        },
        {
          "name": "stderr",
          "output_type": "stream",
          "text": [
            "/usr/local/lib/python3.10/dist-packages/sklearn/metrics/_classification.py:1344: UndefinedMetricWarning: Precision and F-score are ill-defined and being set to 0.0 in labels with no predicted samples. Use `zero_division` parameter to control this behavior.\n",
            "  _warn_prf(average, modifier, msg_start, len(result))\n",
            "/usr/local/lib/python3.10/dist-packages/sklearn/metrics/_classification.py:1344: UndefinedMetricWarning: Precision and F-score are ill-defined and being set to 0.0 in labels with no predicted samples. Use `zero_division` parameter to control this behavior.\n",
            "  _warn_prf(average, modifier, msg_start, len(result))\n",
            "/usr/local/lib/python3.10/dist-packages/sklearn/metrics/_classification.py:1344: UndefinedMetricWarning: Precision and F-score are ill-defined and being set to 0.0 in labels with no predicted samples. Use `zero_division` parameter to control this behavior.\n",
            "  _warn_prf(average, modifier, msg_start, len(result))\n"
          ]
        },
        {
          "data": {
            "image/png": "[encoded data removed]",
            "text/plain": [
              "<Figure size 2000x500 with 2 Axes>"
            ]
          },
          "metadata": {},
          "output_type": "display_data"
        }
      ],
      "source": [
        "plot_learning_curves(history2, [['loss', 'val_loss'],['accuracy', 'val_accuracy']])\n",
        "#predicting\n",
        "pred2= np.argmax(model2.predict(X_test), axis=-1)\n",
        "#printing reports\n",
        "print(classification_report(y_test,pred2 ))\n",
        "print(confusion_matrix(y_test, pred2))"
      ]
    },
    {
      "cell_type": "code",
      "execution_count": null,
      "metadata": {
        "id": "hcaAghWxKFLJ"
      },
      "outputs": [],
      "source": [
        "def MLP():\n",
        "    model = Sequential()\n",
        "    #embedding layer\n",
        "    model.add(Embedding(\n",
        "        input_dim=embedding_matrix.shape[0], \n",
        "        output_dim=embedding_matrix.shape[1], \n",
        "        weights = [embedding_matrix], \n",
        "        input_length=length_long_sentence))\n",
        "    model.add(Flatten()) #flatten_layer\n",
        "    model.add(Dense(512, activation='relu')) #dense_layer\n",
        "    model.add(Dropout(0.2)) #dropout_layer\n",
        "    model.add(Dense(3, activation = 'softmax'))#classification_layer\n",
        "    model.compile(loss = 'sparse_categorical_crossentropy', optimizer = 'adam', metrics = ['accuracy'])\n",
        "    return model"
      ]
    },
    {
      "cell_type": "code",
      "execution_count": null,
      "metadata": {
        "id": "1G2hDc6BKvGY"
      },
      "outputs": [],
      "source": [
        "model3=MLP()"
      ]
    },
    {
      "cell_type": "code",
      "execution_count": null,
      "metadata": {
        "colab": {
          "base_uri": "https://localhost:8080/"
        },
        "id": "O4VjnyfVKx5Z",
        "outputId": "07b7b1f4-4843-4b74-92b5-4d2334902bf3"
      },
      "outputs": [
        {
          "name": "stdout",
          "output_type": "stream",
          "text": [
            "Epoch 1/10\n",
            "158/158 [==============================] - 2s 5ms/step - loss: 1.0545 - accuracy: 0.6163 - val_loss: 1.0137 - val_accuracy: 0.6107 - lr: 0.0010\n",
            "Epoch 2/10\n",
            "158/158 [==============================] - 1s 4ms/step - loss: 0.9790 - accuracy: 0.6187 - val_loss: 0.9484 - val_accuracy: 0.6107 - lr: 0.0010\n",
            "Epoch 3/10\n",
            "158/158 [==============================] - 1s 4ms/step - loss: 0.9209 - accuracy: 0.6187 - val_loss: 0.8983 - val_accuracy: 0.6107 - lr: 0.0010\n",
            "Epoch 4/10\n",
            "158/158 [==============================] - 1s 4ms/step - loss: 0.8761 - accuracy: 0.6187 - val_loss: 0.8596 - val_accuracy: 0.6107 - lr: 0.0010\n",
            "Epoch 5/10\n",
            "158/158 [==============================] - 1s 5ms/step - loss: 0.8414 - accuracy: 0.6187 - val_loss: 0.8294 - val_accuracy: 0.6107 - lr: 0.0010\n",
            "Epoch 6/10\n",
            "158/158 [==============================] - 1s 6ms/step - loss: 0.8142 - accuracy: 0.6187 - val_loss: 0.8058 - val_accuracy: 0.6107 - lr: 0.0010\n",
            "Epoch 7/10\n",
            "158/158 [==============================] - 1s 6ms/step - loss: 0.7929 - accuracy: 0.6187 - val_loss: 0.7870 - val_accuracy: 0.6107 - lr: 0.0010\n",
            "Epoch 8/10\n",
            "158/158 [==============================] - 1s 6ms/step - loss: 0.7758 - accuracy: 0.6187 - val_loss: 0.7719 - val_accuracy: 0.6107 - lr: 0.0010\n",
            "Epoch 9/10\n",
            "158/158 [==============================] - 1s 6ms/step - loss: 0.7619 - accuracy: 0.6187 - val_loss: 0.7595 - val_accuracy: 0.6107 - lr: 0.0010\n",
            "Epoch 10/10\n",
            "158/158 [==============================] - 1s 5ms/step - loss: 0.7505 - accuracy: 0.6187 - val_loss: 0.7491 - val_accuracy: 0.6107 - lr: 0.0010\n"
          ]
        }
      ],
      "source": [
        "history3 = model3.fit(\n",
        "    X_train, \n",
        "    y_train, \n",
        "    epochs = epoch_count,\n",
        "    batch_size = batch_size,\n",
        "    validation_data = (x_val, y_val),\n",
        "    verbose = 1,\n",
        "    callbacks = [reduce_lr],\n",
        ")\n"
      ]
    },
    {
      "cell_type": "code",
      "execution_count": null,
      "metadata": {
        "colab": {
          "base_uri": "https://localhost:8080/",
          "height": 430
        },
        "id": "cQ9Dt7MVNpS0",
        "outputId": "3e3c8e37-4757-4758-8edd-bc2b2b451dd5"
      },
      "outputs": [
        {
          "data": {
            "image/png": "[encoded data removed]",
            "text/plain": [
              "<Figure size 2000x500 with 2 Axes>"
            ]
          },
          "metadata": {},
          "output_type": "display_data"
        }
      ],
      "source": [
        "plot_learning_curves(history3, [['loss', 'val_loss'],['accuracy', 'val_accuracy']])"
      ]
    },
    {
      "cell_type": "code",
      "execution_count": null,
      "metadata": {
        "colab": {
          "base_uri": "https://localhost:8080/"
        },
        "id": "eGcCLktSNt8_",
        "outputId": "32f0554d-0106-4c5e-c0b3-066443484ae8"
      },
      "outputs": [
        {
          "name": "stdout",
          "output_type": "stream",
          "text": [
            "30/30 [==============================] - 0s 1ms/step\n"
          ]
        }
      ],
      "source": [
        "pred3= np.argmax(model3.predict(X_test), axis=-1)\n"
      ]
    },
    {
      "cell_type": "code",
      "execution_count": null,
      "metadata": {
        "colab": {
          "base_uri": "https://localhost:8080/"
        },
        "id": "-CopHIDVNvzw",
        "outputId": "cdd1034f-959c-4591-aa3d-e727bc7bd7a6"
      },
      "outputs": [
        {
          "name": "stdout",
          "output_type": "stream",
          "text": [
            "              precision    recall  f1-score   support\n",
            "\n",
            "           0       0.64      1.00      0.78       596\n",
            "           1       0.00      0.00      0.00       336\n",
            "\n",
            "    accuracy                           0.64       932\n",
            "   macro avg       0.32      0.50      0.39       932\n",
            "weighted avg       0.41      0.64      0.50       932\n",
            "\n",
            "[[596   0]\n",
            " [336   0]]\n"
          ]
        },
        {
          "name": "stderr",
          "output_type": "stream",
          "text": [
            "/usr/local/lib/python3.10/dist-packages/sklearn/metrics/_classification.py:1344: UndefinedMetricWarning: Precision and F-score are ill-defined and being set to 0.0 in labels with no predicted samples. Use `zero_division` parameter to control this behavior.\n",
            "  _warn_prf(average, modifier, msg_start, len(result))\n",
            "/usr/local/lib/python3.10/dist-packages/sklearn/metrics/_classification.py:1344: UndefinedMetricWarning: Precision and F-score are ill-defined and being set to 0.0 in labels with no predicted samples. Use `zero_division` parameter to control this behavior.\n",
            "  _warn_prf(average, modifier, msg_start, len(result))\n",
            "/usr/local/lib/python3.10/dist-packages/sklearn/metrics/_classification.py:1344: UndefinedMetricWarning: Precision and F-score are ill-defined and being set to 0.0 in labels with no predicted samples. Use `zero_division` parameter to control this behavior.\n",
            "  _warn_prf(average, modifier, msg_start, len(result))\n"
          ]
        }
      ],
      "source": [
        "print(classification_report(y_test,pred3))\n",
        "print(confusion_matrix(y_test, pred3))"
      ]
    },
    {
      "cell_type": "code",
      "execution_count": null,
      "metadata": {
        "id": "0WWWwUeHNx6O"
      },
      "outputs": [],
      "source": []
    }
  ],
  "metadata": {
    "accelerator": "GPU",
    "colab": {
      "provenance": [],
      "include_colab_link": true
    },
    "gpuClass": "standard",
    "kernelspec": {
      "display_name": "Python 3",
      "name": "python3"
    },
    "language_info": {
      "name": "python"
    }
  },
  "nbformat": 4,
  "nbformat_minor": 0
}